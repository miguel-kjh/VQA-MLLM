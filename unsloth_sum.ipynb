{
 "cells": [
  {
   "cell_type": "code",
   "execution_count": 1,
   "id": "6ca69524",
   "metadata": {},
   "outputs": [
    {
     "name": "stdout",
     "output_type": "stream",
     "text": [
      "🦥 Unsloth: Will patch your computer to enable 2x faster free finetuning.\n",
      "🦥 Unsloth Zoo will now patch everything to make training faster!\n",
      "INFO 06-03 21:02:38 [__init__.py:243] Automatically detected platform cuda.\n",
      "==((====))==  Unsloth 2025.5.9: Fast Qwen3 patching. Transformers: 4.51.3. vLLM: 0.9.0.1.\n",
      "   \\\\   /|    NVIDIA GeForce RTX 4070 SUPER. Num GPUs = 1. Max memory: 11.994 GB. Platform: Linux.\n",
      "O^O/ \\_/ \\    Torch: 2.7.0+cu126. CUDA: 8.9. CUDA Toolkit: 12.6. Triton: 3.3.0\n",
      "\\        /    Bfloat16 = TRUE. FA [Xformers = 0.0.30. FA2 = False]\n",
      " \"-____-\"     Free license: http://github.com/unslothai/unsloth\n",
      "Unsloth: Fast downloading is enabled - ignore downloading bars which are red colored!\n"
     ]
    }
   ],
   "source": [
    "from unsloth import FastLanguageModel\n",
    "import torch\n",
    "\n",
    "SYSTEM_PROMPT = \"Eres un modelo entrenado para generar resúmenes institucionales de actas parlamentarias. Los resúmenes deben estar redactados en lenguaje formal-administrativo, sin juicios de valor, y seguir una estructura clara.\"\n",
    "INSTRUCTION = \"Redacta un resumen institucional en español del siguiente documento. Mantén un lenguaje objetivo, enfocado en los hechos y acuerdos:\"\n",
    "\n",
    "model, tokenizer = FastLanguageModel.from_pretrained(\n",
    "    #model_name=\"meta-llama/Llama-3.2-1B-Instruct\",\n",
    "    #model_name=\"BSC-LT/salamandra-2b-instruct\",\n",
    "    model_name=\"Qwen/Qwen3-0.6B\",\n",
    "    max_seq_length = 2048,\n",
    "    dtype = None,\n",
    "    load_in_4bit = False, # quantization\n",
    ")\n",
    "tokenizer.clean_up_tokenization_spaces = False"
   ]
  },
  {
   "cell_type": "code",
   "execution_count": 2,
   "id": "d45402dd",
   "metadata": {},
   "outputs": [],
   "source": [
    "from transformers import TextStreamer\n",
    "\n",
    "import re\n",
    "\n",
    "def extract_clean_assistant_response(full_text: str) -> str:\n",
    "    # Buscar el último bloque <|assistant|>\n",
    "    assistant_start = full_text.rfind(\"assistant\")\n",
    "    if assistant_start == -1:\n",
    "        assistant_content = full_text\n",
    "    else:\n",
    "        assistant_content = full_text[assistant_start + len(\"assistant\"):]\n",
    "\n",
    "    # Eliminar los bloques <think>...</think> si existen\n",
    "    assistant_content = re.sub(r\"<think>.*?</think>\", \"\", assistant_content, flags=re.DOTALL)\n",
    "\n",
    "    # Eliminar espacios extra al principio y al final\n",
    "    return assistant_content.strip()\n",
    "\n",
    "def apply_chat_template(sample, tokenizer):\n",
    "    \"\"\"\n",
    "    Apply a chat template to the sample.\n",
    "    \"\"\"\n",
    "    # Define the chat template\n",
    "    empty_prompt = f\"{INSTRUCTION}\\n ##Documento {{document}}\\n ##Resumen:\"\n",
    "    messages = [\n",
    "        {\"role\": \"system\", \"content\": SYSTEM_PROMPT},\n",
    "        {\"role\": \"user\", \"content\": empty_prompt.format(document=sample[\"document\"])},\n",
    "    ]\n",
    "    \n",
    "    # Format the chat template with the sample text\n",
    "    return tokenizer.apply_chat_template(messages, tokenize=False, add_generation_prompt=True)\n",
    "\n",
    "\n",
    "## generate a summary\n",
    "def generate_summary_streamer(model, tokenizer, sample, max_new_tokens=100):\n",
    "    FastLanguageModel.for_inference(model)\n",
    "    if \"inference_prompt\" in sample:\n",
    "        inputs = tokenizer(sample[\"inference_prompt\"], return_tensors=\"pt\").to(model.device)\n",
    "    else:\n",
    "        prompt = apply_chat_template(sample, tokenizer)\n",
    "        inputs = tokenizer(prompt, return_tensors=\"pt\").to(model.device)\n",
    "    text_streamer = TextStreamer(tokenizer)\n",
    "    final_text = \"\"\n",
    "    for token in model.generate(**inputs, streamer = text_streamer, max_new_tokens = max_new_tokens):\n",
    "        print(token)\n",
    "        pass\n",
    "\n",
    "def generate_summary(model, tokenizer, sample, max_new_tokens=100):\n",
    "    FastLanguageModel.for_inference(model)\n",
    "    if \"inference_prompt\" in sample:\n",
    "        inputs = tokenizer(sample[\"inference_prompt\"], return_tensors=\"pt\").to(model.device)\n",
    "    else:\n",
    "        prompt = apply_chat_template(sample, tokenizer)\n",
    "        inputs = tokenizer(prompt, return_tensors=\"pt\").to(model.device)\n",
    "    outputs = model.generate(\n",
    "        **inputs, \n",
    "        max_new_tokens=max_new_tokens,\n",
    "\n",
    "    )  # Adjust max_new_tokens as needed\n",
    "    generated_text = tokenizer.decode(outputs[0], skip_special_tokens=True)\n",
    "    summary = generated_text.split(\"##Resumen:\")[-1].strip()\n",
    "    if tokenizer.chat_template:\n",
    "        summary = extract_clean_assistant_response(summary)\n",
    "    return summary"
   ]
  },
  {
   "cell_type": "code",
   "execution_count": 3,
   "id": "ddadb1bb",
   "metadata": {},
   "outputs": [
    {
     "name": "stderr",
     "output_type": "stream",
     "text": [
      "Unsloth 2025.5.9 patched 28 layers with 28 QKV layers, 28 O layers and 28 MLP layers.\n"
     ]
    }
   ],
   "source": [
    "# More info about parameters: https://huggingface.co/docs/peft/v0.11.0/en/package_reference/lora#peft.LoraConfig\n",
    "target_modules =  [\"q_proj\", \"k_proj\", \"v_proj\", \"o_proj\",\n",
    "                   \"gate_proj\", \"up_proj\", \"down_proj\"]\n",
    "\n",
    "# When adding special tokens\n",
    "train_embeddings = False\n",
    "\n",
    "if train_embeddings:\n",
    "  target_modules = target_modules + [\"lm_head\"]\n",
    "\n",
    "model = FastLanguageModel.get_peft_model(\n",
    "    model,\n",
    "    r = 16, # rank of lora matrices according to paper not much loss when set relatively low\n",
    "    target_modules = target_modules,  # On which modules of the llm the lora weights are used\n",
    "    lora_alpha = 2*16, # scales the weights of the adapters (more influence on base model), 16 was recommended on reddit\n",
    "    lora_dropout = 0, # Default on 0.05 in tutorial but unsloth says 0 is better\n",
    "    bias = \"none\",    # \"none\" is optimized\n",
    "    use_gradient_checkpointing = \"unsloth\", #\"unsloth\" for very long context, decreases vram\n",
    "    random_state = 3407,\n",
    "    use_rslora = False,  # scales lora_alpha with 1/sqrt(r), huggingface says this works better\n",
    "    loftq_config = None, # And LoftQ\n",
    ")"
   ]
  },
  {
   "cell_type": "code",
   "execution_count": 4,
   "id": "1f5e34a2",
   "metadata": {},
   "outputs": [
    {
     "name": "stdout",
     "output_type": "stream",
     "text": [
      "Dataset({\n",
      "    features: ['document', 'expected_summary', 'generated_summary', 'language', 'time'],\n",
      "    num_rows: 20\n",
      "})\n"
     ]
    }
   ],
   "source": [
    "import pandas as pd\n",
    "from datasets import Dataset\n",
    "FOLDER = \"sum/test_summary_normal.xlsx\"\n",
    "\n",
    "df = pd.read_excel(FOLDER, engine='openpyxl')\n",
    "# convert to dataset\n",
    "dataset = Dataset.from_pandas(df) \n",
    "print(dataset)"
   ]
  },
  {
   "cell_type": "code",
   "execution_count": 5,
   "id": "1da0c2ce",
   "metadata": {},
   "outputs": [],
   "source": [
    "EOS_TOKEN = tokenizer.eos_token\n",
    "\n",
    "empty_prompt = f\"{INSTRUCTION}\\n{{document}}\\n\\nResumen:\"\n",
    "\n",
    "def formatting_prompts_instruction(examples):\n",
    "  training_prompts = []\n",
    "  inference_prompts = []\n",
    "  summaries = []\n",
    "  for doc, sum in zip(examples[\"document\"] , examples[\"expected_summary\"]):\n",
    "      inference_prompt = empty_prompt.format(document=doc)\n",
    "      real_sum = sum.strip()\n",
    "      training_prompt = inference_prompt + sum + EOS_TOKEN\n",
    "      training_prompt = training_prompt.replace(\"\\n\", \" \")  # Remove newlines for better tokenization\n",
    "      training_prompt = training_prompt.strip()  # Remove leading/trailing spaces\n",
    "      training_prompts.append(training_prompt)\n",
    "      inference_prompts.append(inference_prompt)\n",
    "      summaries.append(real_sum)\n",
    "\n",
    "  return { \"text\" : training_prompts, \n",
    "           \"inference_prompt\" : inference_prompts,\n",
    "           \"expected_summary\" : summaries }"
   ]
  },
  {
   "cell_type": "code",
   "execution_count": 6,
   "id": "3cecb8f5",
   "metadata": {},
   "outputs": [
    {
     "name": "stdout",
     "output_type": "stream",
     "text": [
      "Using chat template for formatting prompts\n"
     ]
    },
    {
     "data": {
      "application/vnd.jupyter.widget-view+json": {
       "model_id": "6d10f29a7fb4427b89e11cfe035720af",
       "version_major": 2,
       "version_minor": 0
      },
      "text/plain": [
       "Map:   0%|          | 0/20 [00:00<?, ? examples/s]"
      ]
     },
     "metadata": {},
     "output_type": "display_data"
    }
   ],
   "source": [
    "if tokenizer.chat_template:\n",
    "    print(\"Using chat template for formatting prompts\")\n",
    "    def formatting_func(example):\n",
    "        empty_prompt = f\"{INSTRUCTION}\\n{{document}}\\n\"\n",
    "        messages = [\n",
    "            {\"role\": \"system\", \"content\": SYSTEM_PROMPT},\n",
    "            {\"role\": \"user\", \"content\": empty_prompt.format(document=example[\"document\"])},\n",
    "            {\"role\": \"assistant\", \"content\": example[\"expected_summary\"]}\n",
    "        ]\n",
    "        return tokenizer.apply_chat_template(messages, tokenize=False)\n",
    "    dataset_train = dataset.map(lambda x: {\"text\": formatting_func(x)})\n",
    "else:\n",
    "    dataset_train = dataset.map(formatting_prompts_instruction, batched=True, remove_columns=dataset.column_names)\n",
    "    print(dataset_train)"
   ]
  },
  {
   "cell_type": "code",
   "execution_count": 7,
   "id": "f67e0b93",
   "metadata": {},
   "outputs": [
    {
     "data": {
      "application/vnd.jupyter.widget-view+json": {
       "model_id": "fc14f3c3ed6644c8902705f91218ac2a",
       "version_major": 2,
       "version_minor": 0
      },
      "text/plain": [
       "Unsloth: Tokenizing [\"text\"]:   0%|          | 0/20 [00:00<?, ? examples/s]"
      ]
     },
     "metadata": {},
     "output_type": "display_data"
    }
   ],
   "source": [
    "from trl import SFTTrainer\n",
    "from transformers import TrainingArguments\n",
    "from unsloth import is_bfloat16_supported\n",
    "\n",
    "args = TrainingArguments(\n",
    "        per_device_train_batch_size = 2,\n",
    "        gradient_accumulation_steps = 4, # process 4 batches before updating parameters (parameter update == step)\n",
    "        num_train_epochs = 2, # between 1 - 3 to prevent overfitting\n",
    "        learning_rate = 2e-4,\n",
    "        fp16 = not is_bfloat16_supported(),\n",
    "        bf16 = is_bfloat16_supported(),\n",
    "        logging_steps = 1,\n",
    "        optim = \"adamw_8bit\",\n",
    "        weight_decay = 0.01,\n",
    "        lr_scheduler_type = \"cosine\",\n",
    "        warmup_ratio = 0.03, # 3% of the total steps\n",
    "        seed = 3407,\n",
    "        output_dir = \"outputs\",\n",
    "        report_to = \"none\"\n",
    "    )\n",
    "\n",
    "trainer = SFTTrainer(\n",
    "    model = model,\n",
    "    tokenizer = tokenizer,\n",
    "    train_dataset = dataset_train,\n",
    "    formatting_func=lambda x: x[\"text\"],\n",
    "    dataset_text_field = \"text\",\n",
    "    max_seq_length = 2048,\n",
    "    dataset_num_proc = 2,\n",
    "    args = args,\n",
    ")"
   ]
  },
  {
   "cell_type": "code",
   "execution_count": 8,
   "id": "6fa41071",
   "metadata": {},
   "outputs": [
    {
     "name": "stdout",
     "output_type": "stream",
     "text": [
      "Trainable parameters: 10,092,544 / Total parameters: 606,142,464 (1.67%)\n"
     ]
    }
   ],
   "source": [
    "def count_trainable_params(model):\n",
    "    total_params = sum(p.numel() for p in model.parameters())\n",
    "    trainable_params = sum(p.numel() for p in model.parameters() if p.requires_grad)\n",
    "    percentage = 100 * trainable_params / total_params\n",
    "    return trainable_params, total_params, percentage\n",
    "\n",
    "trainable_params, total_params, percentage = count_trainable_params(model)\n",
    "print(f\"Trainable parameters: {trainable_params:,} / Total parameters: {total_params:,} ({percentage:.2f}%)\")"
   ]
  },
  {
   "cell_type": "code",
   "execution_count": 9,
   "id": "e562e6a0",
   "metadata": {},
   "outputs": [
    {
     "name": "stderr",
     "output_type": "stream",
     "text": [
      "==((====))==  Unsloth - 2x faster free finetuning | Num GPUs used = 1\n",
      "   \\\\   /|    Num examples = 20 | Num Epochs = 2 | Total steps = 4\n",
      "O^O/ \\_/ \\    Batch size per device = 2 | Gradient accumulation steps = 4\n",
      "\\        /    Data Parallel GPUs = 1 | Total batch size (2 x 4 x 1) = 8\n",
      " \"-____-\"     Trainable parameters = 10,092,544/606,142,464 (1.67% trained)\n"
     ]
    },
    {
     "name": "stdout",
     "output_type": "stream",
     "text": [
      "Unsloth: Will smartly offload gradients to save VRAM!\n"
     ]
    },
    {
     "data": {
      "text/html": [
       "\n",
       "    <div>\n",
       "      \n",
       "      <progress value='4' max='4' style='width:300px; height:20px; vertical-align: middle;'></progress>\n",
       "      [4/4 00:03, Epoch 1/2]\n",
       "    </div>\n",
       "    <table border=\"1\" class=\"dataframe\">\n",
       "  <thead>\n",
       " <tr style=\"text-align: left;\">\n",
       "      <th>Step</th>\n",
       "      <th>Training Loss</th>\n",
       "    </tr>\n",
       "  </thead>\n",
       "  <tbody>\n",
       "    <tr>\n",
       "      <td>1</td>\n",
       "      <td>2.950300</td>\n",
       "    </tr>\n",
       "    <tr>\n",
       "      <td>2</td>\n",
       "      <td>2.854200</td>\n",
       "    </tr>\n",
       "    <tr>\n",
       "      <td>3</td>\n",
       "      <td>2.478900</td>\n",
       "    </tr>\n",
       "    <tr>\n",
       "      <td>4</td>\n",
       "      <td>2.695800</td>\n",
       "    </tr>\n",
       "  </tbody>\n",
       "</table><p>"
      ],
      "text/plain": [
       "<IPython.core.display.HTML object>"
      ]
     },
     "metadata": {},
     "output_type": "display_data"
    },
    {
     "name": "stdout",
     "output_type": "stream",
     "text": [
      "Memoria máxima GPU usada: 1.41 GB\n"
     ]
    }
   ],
   "source": [
    "import torch\n",
    "\n",
    "torch.cuda.reset_peak_memory_stats()\n",
    "\n",
    "trainer_stats = trainer.train()\n",
    "peak_memory = torch.cuda.max_memory_allocated() / (1024**3)  # en GB\n",
    "\n",
    "print(f\"Memoria máxima GPU usada: {peak_memory:.2f} GB\")\n",
    "\n",
    "## clean the memory of GPU\n",
    "torch.cuda.empty_cache()"
   ]
  },
  {
   "cell_type": "code",
   "execution_count": 10,
   "id": "c2d560dc",
   "metadata": {},
   "outputs": [
    {
     "name": "stdout",
     "output_type": "stream",
     "text": [
      "Tiempo total de entrenamiento: 9.8729 segundos\n",
      "Velocidad: 4.051 ejemplos/segundo\n"
     ]
    }
   ],
   "source": [
    "# Tiempo total en segundos\n",
    "print(\"Tiempo total de entrenamiento:\", trainer_stats.metrics[\"train_runtime\"], \"segundos\")\n",
    "print(\"Velocidad:\", trainer_stats.metrics[\"train_samples_per_second\"], \"ejemplos/segundo\")"
   ]
  },
  {
   "cell_type": "code",
   "execution_count": 11,
   "id": "35bc492b",
   "metadata": {},
   "outputs": [
    {
     "name": "stdout",
     "output_type": "stream",
     "text": [
      "Estadísticas del entrenamiento: {'peak_memory (GB)': 1.4087910652160645, 'train_runtime': 9.8729, 'train_samples_per_second': 4.051, 'trainable_params': 10092544}\n"
     ]
    }
   ],
   "source": [
    "stats_of_trainer = {\n",
    "    \"peak_memory (GB)\": peak_memory,\n",
    "    \"train_runtime\": trainer_stats.metrics[\"train_runtime\"],\n",
    "    \"train_samples_per_second\": trainer_stats.metrics[\"train_samples_per_second\"],\n",
    "    \"trainable_params\": trainable_params,\n",
    "}\n",
    "\n",
    "print(\"Estadísticas del entrenamiento:\", stats_of_trainer)"
   ]
  },
  {
   "cell_type": "code",
   "execution_count": 12,
   "id": "b841bedd",
   "metadata": {},
   "outputs": [
    {
     "name": "stdout",
     "output_type": "stream",
     "text": [
      "Sample document: {'document': 'Esta sesión del parlamento se realizó el 14/05/2013. · 8L/PO/P-0916 Pregunta del señor diputado don Fabián Atamán Martín Martín, del Grupo Parlamentario Mixto, sobre los precios de las viviendas protegidas, dirigida a la señora consejera de Cultura, Deportes, Políticas Sociales y Vivienda. El señor presidente: Siguiente pregunta: del señor diputado don Fabián Atamán Martín, del Grupo Mixto, también dirigida a la señora consejera de Cultura, Deportes, Políticas Sociales y Vivienda. Don Fabián. El señor Martín Martín (Desde su escaño): Muchas gracias, señor presidente. Señora consejera, ¿qué valoración le merece que la evolución de los precios de las viviendas protegidas esté por encima de los de las viviendas libres? Muchas gracias. El señor presidente: Gracias, don Fabián. Señora consejera, doña Inés Rojas. La señora consejera de Cultura, Deportes, Políticas Sociales y Vivienda (Rojas de León) (Desde su escaño): Gracias, señor presidente. Señoría, decirle dos cosas probablemente. La vivienda protegida en Canarias todavía hoy es más barata que la vivienda libre. La vivienda protegida tiene un valor de 1.197,7 euros el metro cuadrado y la vivienda libre, 1.428,5 euros el metro cuadrado. Y también tengo que decirle que el Gobierno de Canarias redujo ya el año pasado precisamente, viendo que cada vez se diferenciaban menos los precios entre unas y otras, bajó el precio de la vivienda protegida precisamente para hacerlo más factible. Y sepa usted que además ahora, en la elaboración del Plan Canario de Vivienda, vamos a hacer posible otra bajada de precios de la vivienda protegida. Muchas gracias. El señor presidente: Muchas gracias, doña Inés Rojas, señora consejera. Don Fabián Atamán Martín. El señor Martín Martín (Desde su escaño): Muchas gracias, señor presidente. Señora consejera, según los datos facilitados por el Ministerio de Fomento, el precio de la VPO en los últimos cinco años creció en Canarias un 11%, mientras la vivienda libre desplomaba su precio un 24%. Esto significa que en los últimos cinco años la distancia que separaba la vivienda protegida y la vivienda libre se ha reducido en más de un 73%. Si hace un lustro la distancia entre una y otra era de 757 euros por metro cuadrado, en la actualidad dicha separación es de escasamente 200 euros. Pero si nos centramos en la evolución de los precios en la provincia de Las Palmas, la conclusión es aún más preocupante, y es que la distancia que separa los precios de las viviendas de protección oficial y la vivienda libre en esta provincia no llega a los 200, se centra exclusivamente en los 189 euros/m2. En el último debate sobre el estado de la nacionalidad el señor Rivero anunció múltiples medidas, algunas de ellas relacionadas con el sector de la vivienda, y, sin embargo, la pregunta que se suscita, consejera, es por qué el Gobierno de Canarias no ha procurado, entre las muchas medidas que dice haber tomado, reducir el precio de la VPO. ¿En qué ayuda el Gobierno regional entonces en la adquisición de una vivienda también a estos jóvenes, que están deseosos de hacerse con su primera vivienda? ¿Por qué el precio de la VPO en Canarias no ha descendido en el mismo sentido y proporción que la vivienda libre, como sí ha ocurrido en otras comunidades autónomas? Pero la pregunta se suscita porque hace poco se me preguntaba en la isla de Lanzarote si existía VPO disponible. Y, mire, con acercarnos a las páginas web del Gobierno de Canarias uno se dará cuenta pronto de que hay 2.000 viviendas en Tenerife disponibles, 2.500 en Gran Canaria, mientras que los jóvenes lanzaroteños, aparentemente y según información oficial del Gobierno de Canarias, cuentan con cero viviendas. Pero además, según Visocan, las viviendas disponibles para el alquiler y compra futura están sobre unos 1.600 euros/m2 en la isla de Lanzarote. Tal es así que para una vivienda de 42 m2 se están pidiendo 68.000 euros. ¿Dónde está la acción social, consejera del Gobierno de Canarias, en materia de vivienda en Lanzarote y en Canarias? ¿Seguimos siendo en este sentido, al igual que en otros, los habitantes de las islas...? El señor presidente: Muchas gracias, don Fabián Martín. Doña Inés Rojas, señora consejera. La señora consejera de Cultura, Deportes, Políticas Sociales y Vivienda (Rojas de León) (Desde su escaño): Gracias, señor presidente. Señoría, qué pena que en una pregunta apenas dé tiempo, porque acaba usted de decir que hay 2.000 viviendas disponibles en la isla de Tenerife y la gente puede creer que eso realmente es así. No hay 2.000 viviendas disponibles en la isla de Tenerife. Sí es verdad que el parque de viviendas público en la isla de Tenerife puede estar aproximadamente por ahí. Pero vamos a decir una cosa: es cierto que la diferencia entre la vivienda libre y la vivienda protegida es cada vez menor. Por eso el año pasado el Gobierno de Canarias bajó el precio de la vivienda protegida y por eso tenemos la intención de volverlo a bajar. En el mercado libre la gente en estos momentos no puede vender su vivienda y desde luego va bajando los precios de forma escalonada. Usted decía un 24; yo puedo decirle que del 2008 hasta ahora ha bajado un 30% la vivienda libre. Por lo tanto, hay que ajustar precisamente esa diferencia. Se suma a esto que el Estado, como usted sabe, ha quitado la ayuda que daba a la entrada para comprar una vivienda protegida. Eso ha sido absolutamente eliminado. No le cuento nada si además las entidades financieras no dan un crédito a nadie para comprar hoy nada y mucho menos una vivienda. Con lo cual el Gobierno de Canarias lo que ha hecho es reorientar sus políticas, no hacia la compra de la vivienda sino hacia el alquiler, y hacia el alquiler social. Y por poner un ejemplo, que es muy cercano a usted y a mí, pues, precisamente en la isla de Lanzarote teníamos una promoción de viviendas, de 44 viviendas en venta, en promoción de venta protegida, y la hemos reconvertido en alquiler, en estos momentos en alquiler de 200 euros y de 240 euros si quieren también con opción de compra. Y comunicarle también que de las que teníamos disponibles -aquellas 500 de Visocan- en estos momentos, a casi un mes y pico, ya se han alquilado más de 250 a precios absolutamente sociales. Estamos hablando de una media de 200 euros por alquiler... El señor presidente: Muchísimas gracias, doña Inés Rojas, señora consejera.', 'expected_summary': 'La sesión del Parlamento de Canarias del 14 de mayo de 2013 se centró en la pregunta del diputado Fabián Atamán Martín Martín, del Grupo Parlamentario Mixto, sobre la evolución de los precios de las viviendas protegidas (VPO) en comparación con las viviendas libres. La pregunta fue dirigida a la consejera de Cultura, Deportes, Políticas Sociales y Vivienda, doña Inés Rojas de León.\\n\\nEl diputado Martín Martín inició su intervención señalando que, según datos del Ministerio de Fomento, en los últimos cinco años el precio de la VPO en Canarias había aumentado un 11%, mientras que el precio de la vivienda libre había caído un 24%. Esto había reducido la diferencia de precios entre ambos tipos de vivienda en más de un 73%, pasando de 757 euros por metro cuadrado a solo 200 euros en la actualidad. En la provincia de Las Palmas, la diferencia era aún menor, con un margen de solo 189 euros por metro cuadrado. El diputado cuestionó por qué el Gobierno de Canarias no había implementado medidas efectivas para reducir el precio de la VPO, especialmente en un contexto donde los jóvenes buscaban acceder a su primera vivienda. Además, mencionó la escasez de VPO en Lanzarote, donde, según la información oficial, no había viviendas disponibles, a diferencia de las 2.000 en Tenerife y 2.500 en Gran Canaria. También destacó que el precio de las viviendas en Lanzarote estaba en torno a 1.600 euros por metro cuadrado, lo que hacía inaccesible la compra para muchos jóvenes.\\n\\nLa consejera Rojas de León respondió a las inquietudes planteadas por el diputado. Comenzó aclarando que, aunque el precio de la VPO en Canarias era más bajo que el de la vivienda libre (1.197,7 euros por metro cuadrado frente a 1.428,5 euros), reconoció que la diferencia entre ambos precios se estaba reduciendo. La consejera mencionó que el Gobierno de Canarias había tomado medidas el año anterior para bajar el precio de la VPO y que se planeaba realizar otra reducción en el futuro. Sin embargo, también destacó que el mercado de la vivienda libre había experimentado una caída significativa en sus precios, con una disminución del 30% desde 2008.\\n\\nRojas de León abordó la cuestión de la disponibilidad de viviendas, señalando que la cifra de 2.000 viviendas en Tenerife no era precisa, ya que se refería al parque de viviendas públicas en general y no a la disponibilidad inmediata. La consejera explicó que el Gobierno había reorientado sus políticas hacia el alquiler social, en lugar de la compra de viviendas, debido a la falta de crédito disponible por parte de las entidades financieras y la eliminación de ayudas estatales para la entrada en la compra de VPO. Como ejemplo, mencionó una promoción de 44 viviendas en Lanzarote que se había reconvertido de venta a alquiler, con precios de 200 y 240 euros, y que más de 250 de las 500 viviendas disponibles a través de Visocan ya se habían alquilado a precios sociales.\\n\\nEl debate entre el diputado y la consejera reflejó las tensiones existentes en el sector de la vivienda en Canarias, especialmente en relación con la accesibilidad para los jóvenes y la efectividad de las políticas implementadas por el Gobierno regional. Martín Martín insistió en la necesidad de acciones más concretas para abordar la crisis de vivienda, mientras que Rojas de León defendió las medidas adoptadas y la necesidad de adaptarse a un contexto económico cambiante.\\n\\nEn resumen, la sesión del Parlamento abordó la problemática de los precios de las viviendas protegidas en Canarias, destacando la creciente preocupación por la accesibilidad de la vivienda para los jóvenes y la efectividad de las políticas del Gobierno en este ámbito. La discusión evidenció la complejidad del mercado de la vivienda y la necesidad de un enfoque más integral que contemple tanto la compra como el alquiler social, en un contexto donde las diferencias de precios entre viviendas protegidas y libres se están reduciendo, pero aún persisten desafíos significativos.', 'generated_summary': 'Durante la sesión parlamentaria del 14 de mayo de 2013, el diputado Fabián Atamán Martín, perteneciente al Grupo Parlamentario Mixto, formuló una pregunta dirigida a la consejera de Cultura, Deportes, Políticas Sociales y Vivienda, Inés Rojas de León. La consulta se centraba en el comportamiento de los precios de las viviendas protegidas en comparación con las viviendas libres en Canarias.\\n\\nAtamán Martín expresó su preocupación por la tendencia creciente de los precios de las viviendas protegidas, que ha superado al incremento de precios de las viviendas libres. Según datos del Ministerio de Fomento, el precio de la VPO en Canarias aumentó un 11% en los últimos cinco años, mientras que los precios de las viviendas libres disminuyeron un 24%. Esto ha reducido significativamente la diferencia entre ambos tipos de vivienda, pasando de una brecha de 757 euros por metro cuadrado a solo 250 euros. El diputado cuestionó el enfoque del Gobierno de Canarias frente a estas dinámicas y su acción social en materia de vivienda, especialmente en Lanzarote, donde los precios para alquilar o comprar una vivienda son elevados.\\n\\nLa consejera Rojas respondió explicando que la diferencia entre las viviendas libres y protegidas es cada vez menor. Afirmó que el Gobierno ha reducido previamente el precio de la vivienda protegida y tiene intenciones de continuar haciéndolo para ajustar esta brecha. Además, destacó que los precios del mercado libre han caído significativamente desde 2008, un 30% según sus datos.\\n\\nRojas también indicó que las políticas del Gobierno se están reorientando hacia el alquiler en lugar de la compra, especialmente el alquiler social. Como ejemplo concreto mencionó una promoción de viviendas en Lanzarote que inicialmente estaba destinada a la venta protegida pero fue transformada para ofrecerse como alquiler a precios accesibles, entre 200 y 240 euros mensuales.\\n\\nEn resumen, el debate gira en torno a las preocupaciones sobre los altos costos de vivienda y cómo el Gobierno de Canarias está ajustando sus políticas para hacer frente a estas cuestiones mediante la promoción del alquiler social y la reducción de precios en las viviendas protegidas.', 'language': 'canario', 'time': 15.37621283531189, 'text': '<|im_start|>system\\nEres un modelo entrenado para generar resúmenes institucionales de actas parlamentarias. Los resúmenes deben estar redactados en lenguaje formal-administrativo, sin juicios de valor, y seguir una estructura clara.<|im_end|>\\n<|im_start|>user\\nRedacta un resumen institucional en español del siguiente documento. Mantén un lenguaje objetivo, enfocado en los hechos y acuerdos:\\nEsta sesión del parlamento se realizó el 14/05/2013. · 8L/PO/P-0916 Pregunta del señor diputado don Fabián Atamán Martín Martín, del Grupo Parlamentario Mixto, sobre los precios de las viviendas protegidas, dirigida a la señora consejera de Cultura, Deportes, Políticas Sociales y Vivienda. El señor presidente: Siguiente pregunta: del señor diputado don Fabián Atamán Martín, del Grupo Mixto, también dirigida a la señora consejera de Cultura, Deportes, Políticas Sociales y Vivienda. Don Fabián. El señor Martín Martín (Desde su escaño): Muchas gracias, señor presidente. Señora consejera, ¿qué valoración le merece que la evolución de los precios de las viviendas protegidas esté por encima de los de las viviendas libres? Muchas gracias. El señor presidente: Gracias, don Fabián. Señora consejera, doña Inés Rojas. La señora consejera de Cultura, Deportes, Políticas Sociales y Vivienda (Rojas de León) (Desde su escaño): Gracias, señor presidente. Señoría, decirle dos cosas probablemente. La vivienda protegida en Canarias todavía hoy es más barata que la vivienda libre. La vivienda protegida tiene un valor de 1.197,7 euros el metro cuadrado y la vivienda libre, 1.428,5 euros el metro cuadrado. Y también tengo que decirle que el Gobierno de Canarias redujo ya el año pasado precisamente, viendo que cada vez se diferenciaban menos los precios entre unas y otras, bajó el precio de la vivienda protegida precisamente para hacerlo más factible. Y sepa usted que además ahora, en la elaboración del Plan Canario de Vivienda, vamos a hacer posible otra bajada de precios de la vivienda protegida. Muchas gracias. El señor presidente: Muchas gracias, doña Inés Rojas, señora consejera. Don Fabián Atamán Martín. El señor Martín Martín (Desde su escaño): Muchas gracias, señor presidente. Señora consejera, según los datos facilitados por el Ministerio de Fomento, el precio de la VPO en los últimos cinco años creció en Canarias un 11%, mientras la vivienda libre desplomaba su precio un 24%. Esto significa que en los últimos cinco años la distancia que separaba la vivienda protegida y la vivienda libre se ha reducido en más de un 73%. Si hace un lustro la distancia entre una y otra era de 757 euros por metro cuadrado, en la actualidad dicha separación es de escasamente 200 euros. Pero si nos centramos en la evolución de los precios en la provincia de Las Palmas, la conclusión es aún más preocupante, y es que la distancia que separa los precios de las viviendas de protección oficial y la vivienda libre en esta provincia no llega a los 200, se centra exclusivamente en los 189 euros/m2. En el último debate sobre el estado de la nacionalidad el señor Rivero anunció múltiples medidas, algunas de ellas relacionadas con el sector de la vivienda, y, sin embargo, la pregunta que se suscita, consejera, es por qué el Gobierno de Canarias no ha procurado, entre las muchas medidas que dice haber tomado, reducir el precio de la VPO. ¿En qué ayuda el Gobierno regional entonces en la adquisición de una vivienda también a estos jóvenes, que están deseosos de hacerse con su primera vivienda? ¿Por qué el precio de la VPO en Canarias no ha descendido en el mismo sentido y proporción que la vivienda libre, como sí ha ocurrido en otras comunidades autónomas? Pero la pregunta se suscita porque hace poco se me preguntaba en la isla de Lanzarote si existía VPO disponible. Y, mire, con acercarnos a las páginas web del Gobierno de Canarias uno se dará cuenta pronto de que hay 2.000 viviendas en Tenerife disponibles, 2.500 en Gran Canaria, mientras que los jóvenes lanzaroteños, aparentemente y según información oficial del Gobierno de Canarias, cuentan con cero viviendas. Pero además, según Visocan, las viviendas disponibles para el alquiler y compra futura están sobre unos 1.600 euros/m2 en la isla de Lanzarote. Tal es así que para una vivienda de 42 m2 se están pidiendo 68.000 euros. ¿Dónde está la acción social, consejera del Gobierno de Canarias, en materia de vivienda en Lanzarote y en Canarias? ¿Seguimos siendo en este sentido, al igual que en otros, los habitantes de las islas...? El señor presidente: Muchas gracias, don Fabián Martín. Doña Inés Rojas, señora consejera. La señora consejera de Cultura, Deportes, Políticas Sociales y Vivienda (Rojas de León) (Desde su escaño): Gracias, señor presidente. Señoría, qué pena que en una pregunta apenas dé tiempo, porque acaba usted de decir que hay 2.000 viviendas disponibles en la isla de Tenerife y la gente puede creer que eso realmente es así. No hay 2.000 viviendas disponibles en la isla de Tenerife. Sí es verdad que el parque de viviendas público en la isla de Tenerife puede estar aproximadamente por ahí. Pero vamos a decir una cosa: es cierto que la diferencia entre la vivienda libre y la vivienda protegida es cada vez menor. Por eso el año pasado el Gobierno de Canarias bajó el precio de la vivienda protegida y por eso tenemos la intención de volverlo a bajar. En el mercado libre la gente en estos momentos no puede vender su vivienda y desde luego va bajando los precios de forma escalonada. Usted decía un 24; yo puedo decirle que del 2008 hasta ahora ha bajado un 30% la vivienda libre. Por lo tanto, hay que ajustar precisamente esa diferencia. Se suma a esto que el Estado, como usted sabe, ha quitado la ayuda que daba a la entrada para comprar una vivienda protegida. Eso ha sido absolutamente eliminado. No le cuento nada si además las entidades financieras no dan un crédito a nadie para comprar hoy nada y mucho menos una vivienda. Con lo cual el Gobierno de Canarias lo que ha hecho es reorientar sus políticas, no hacia la compra de la vivienda sino hacia el alquiler, y hacia el alquiler social. Y por poner un ejemplo, que es muy cercano a usted y a mí, pues, precisamente en la isla de Lanzarote teníamos una promoción de viviendas, de 44 viviendas en venta, en promoción de venta protegida, y la hemos reconvertido en alquiler, en estos momentos en alquiler de 200 euros y de 240 euros si quieren también con opción de compra. Y comunicarle también que de las que teníamos disponibles -aquellas 500 de Visocan- en estos momentos, a casi un mes y pico, ya se han alquilado más de 250 a precios absolutamente sociales. Estamos hablando de una media de 200 euros por alquiler... El señor presidente: Muchísimas gracias, doña Inés Rojas, señora consejera.\\n<|im_end|>\\n<|im_start|>assistant\\n<think>\\n\\n</think>\\n\\nLa sesión del Parlamento de Canarias del 14 de mayo de 2013 se centró en la pregunta del diputado Fabián Atamán Martín Martín, del Grupo Parlamentario Mixto, sobre la evolución de los precios de las viviendas protegidas (VPO) en comparación con las viviendas libres. La pregunta fue dirigida a la consejera de Cultura, Deportes, Políticas Sociales y Vivienda, doña Inés Rojas de León.\\n\\nEl diputado Martín Martín inició su intervención señalando que, según datos del Ministerio de Fomento, en los últimos cinco años el precio de la VPO en Canarias había aumentado un 11%, mientras que el precio de la vivienda libre había caído un 24%. Esto había reducido la diferencia de precios entre ambos tipos de vivienda en más de un 73%, pasando de 757 euros por metro cuadrado a solo 200 euros en la actualidad. En la provincia de Las Palmas, la diferencia era aún menor, con un margen de solo 189 euros por metro cuadrado. El diputado cuestionó por qué el Gobierno de Canarias no había implementado medidas efectivas para reducir el precio de la VPO, especialmente en un contexto donde los jóvenes buscaban acceder a su primera vivienda. Además, mencionó la escasez de VPO en Lanzarote, donde, según la información oficial, no había viviendas disponibles, a diferencia de las 2.000 en Tenerife y 2.500 en Gran Canaria. También destacó que el precio de las viviendas en Lanzarote estaba en torno a 1.600 euros por metro cuadrado, lo que hacía inaccesible la compra para muchos jóvenes.\\n\\nLa consejera Rojas de León respondió a las inquietudes planteadas por el diputado. Comenzó aclarando que, aunque el precio de la VPO en Canarias era más bajo que el de la vivienda libre (1.197,7 euros por metro cuadrado frente a 1.428,5 euros), reconoció que la diferencia entre ambos precios se estaba reduciendo. La consejera mencionó que el Gobierno de Canarias había tomado medidas el año anterior para bajar el precio de la VPO y que se planeaba realizar otra reducción en el futuro. Sin embargo, también destacó que el mercado de la vivienda libre había experimentado una caída significativa en sus precios, con una disminución del 30% desde 2008.\\n\\nRojas de León abordó la cuestión de la disponibilidad de viviendas, señalando que la cifra de 2.000 viviendas en Tenerife no era precisa, ya que se refería al parque de viviendas públicas en general y no a la disponibilidad inmediata. La consejera explicó que el Gobierno había reorientado sus políticas hacia el alquiler social, en lugar de la compra de viviendas, debido a la falta de crédito disponible por parte de las entidades financieras y la eliminación de ayudas estatales para la entrada en la compra de VPO. Como ejemplo, mencionó una promoción de 44 viviendas en Lanzarote que se había reconvertido de venta a alquiler, con precios de 200 y 240 euros, y que más de 250 de las 500 viviendas disponibles a través de Visocan ya se habían alquilado a precios sociales.\\n\\nEl debate entre el diputado y la consejera reflejó las tensiones existentes en el sector de la vivienda en Canarias, especialmente en relación con la accesibilidad para los jóvenes y la efectividad de las políticas implementadas por el Gobierno regional. Martín Martín insistió en la necesidad de acciones más concretas para abordar la crisis de vivienda, mientras que Rojas de León defendió las medidas adoptadas y la necesidad de adaptarse a un contexto económico cambiante.\\n\\nEn resumen, la sesión del Parlamento abordó la problemática de los precios de las viviendas protegidas en Canarias, destacando la creciente preocupación por la accesibilidad de la vivienda para los jóvenes y la efectividad de las políticas del Gobierno en este ámbito. La discusión evidenció la complejidad del mercado de la vivienda y la necesidad de un enfoque más integral que contemple tanto la compra como el alquiler social, en un contexto donde las diferencias de precios entre viviendas protegidas y libres se están reduciendo, pero aún persisten desafíos significativos.<|im_end|>\\n'}\n"
     ]
    }
   ],
   "source": [
    "sample = dataset_train[0]\n",
    "print(\"Sample document:\", sample)\n",
    "excepted_summary = sample[\"expected_summary\"]"
   ]
  },
  {
   "cell_type": "code",
   "execution_count": 13,
   "id": "3c5472ed",
   "metadata": {},
   "outputs": [
    {
     "name": "stdout",
     "output_type": "stream",
     "text": [
      "<|im_start|>system\n",
      "Eres un modelo entrenado para generar resúmenes institucionales de actas parlamentarias. Los resúmenes deben estar redactados en lenguaje formal-administrativo, sin juicios de valor, y seguir una estructura clara.<|im_end|>\n",
      "<|im_start|>user\n",
      "Redacta un resumen institucional en español del siguiente documento. Mantén un lenguaje objetivo, enfocado en los hechos y acuerdos:\n",
      " ##Documento Esta sesión del parlamento se realizó el 14/05/2013. · 8L/PO/P-0916 Pregunta del señor diputado don Fabián Atamán Martín Martín, del Grupo Parlamentario Mixto, sobre los precios de las viviendas protegidas, dirigida a la señora consejera de Cultura, Deportes, Políticas Sociales y Vivienda. El señor presidente: Siguiente pregunta: del señor diputado don Fabián Atamán Martín, del Grupo Mixto, también dirigida a la señora consejera de Cultura, Deportes, Políticas Sociales y Vivienda. Don Fabián. El señor Martín Martín (Desde su escaño): Muchas gracias, señor presidente. Señora consejera, ¿qué valoración le merece que la evolución de los precios de las viviendas protegidas esté por encima de los de las viviendas libres? Muchas gracias. El señor presidente: Gracias, don Fabián. Señora consejera, doña Inés Rojas. La señora consejera de Cultura, Deportes, Políticas Sociales y Vivienda (Rojas de León) (Desde su escaño): Gracias, señor presidente. Señoría, decirle dos cosas probablemente. La vivienda protegida en Canarias todavía hoy es más barata que la vivienda libre. La vivienda protegida tiene un valor de 1.197,7 euros el metro cuadrado y la vivienda libre, 1.428,5 euros el metro cuadrado. Y también tengo que decirle que el Gobierno de Canarias redujo ya el año pasado precisamente, viendo que cada vez se diferenciaban menos los precios entre unas y otras, bajó el precio de la vivienda protegida precisamente para hacerlo más factible. Y sepa usted que además ahora, en la elaboración del Plan Canario de Vivienda, vamos a hacer posible otra bajada de precios de la vivienda protegida. Muchas gracias. El señor presidente: Muchas gracias, doña Inés Rojas, señora consejera. Don Fabián Atamán Martín. El señor Martín Martín (Desde su escaño): Muchas gracias, señor presidente. Señora consejera, según los datos facilitados por el Ministerio de Fomento, el precio de la VPO en los últimos cinco años creció en Canarias un 11%, mientras la vivienda libre desplomaba su precio un 24%. Esto significa que en los últimos cinco años la distancia que separaba la vivienda protegida y la vivienda libre se ha reducido en más de un 73%. Si hace un lustro la distancia entre una y otra era de 757 euros por metro cuadrado, en la actualidad dicha separación es de escasamente 200 euros. Pero si nos centramos en la evolución de los precios en la provincia de Las Palmas, la conclusión es aún más preocupante, y es que la distancia que separa los precios de las viviendas de protección oficial y la vivienda libre en esta provincia no llega a los 200, se centra exclusivamente en los 189 euros/m2. En el último debate sobre el estado de la nacionalidad el señor Rivero anunció múltiples medidas, algunas de ellas relacionadas con el sector de la vivienda, y, sin embargo, la pregunta que se suscita, consejera, es por qué el Gobierno de Canarias no ha procurado, entre las muchas medidas que dice haber tomado, reducir el precio de la VPO. ¿En qué ayuda el Gobierno regional entonces en la adquisición de una vivienda también a estos jóvenes, que están deseosos de hacerse con su primera vivienda? ¿Por qué el precio de la VPO en Canarias no ha descendido en el mismo sentido y proporción que la vivienda libre, como sí ha ocurrido en otras comunidades autónomas? Pero la pregunta se suscita porque hace poco se me preguntaba en la isla de Lanzarote si existía VPO disponible. Y, mire, con acercarnos a las páginas web del Gobierno de Canarias uno se dará cuenta pronto de que hay 2.000 viviendas en Tenerife disponibles, 2.500 en Gran Canaria, mientras que los jóvenes lanzaroteños, aparentemente y según información oficial del Gobierno de Canarias, cuentan con cero viviendas. Pero además, según Visocan, las viviendas disponibles para el alquiler y compra futura están sobre unos 1.600 euros/m2 en la isla de Lanzarote. Tal es así que para una vivienda de 42 m2 se están pidiendo 68.000 euros. ¿Dónde está la acción social, consejera del Gobierno de Canarias, en materia de vivienda en Lanzarote y en Canarias? ¿Seguimos siendo en este sentido, al igual que en otros, los habitantes de las islas...? El señor presidente: Muchas gracias, don Fabián Martín. Doña Inés Rojas, señora consejera. La señora consejera de Cultura, Deportes, Políticas Sociales y Vivienda (Rojas de León) (Desde su escaño): Gracias, señor presidente. Señoría, qué pena que en una pregunta apenas dé tiempo, porque acaba usted de decir que hay 2.000 viviendas disponibles en la isla de Tenerife y la gente puede creer que eso realmente es así. No hay 2.000 viviendas disponibles en la isla de Tenerife. Sí es verdad que el parque de viviendas público en la isla de Tenerife puede estar aproximadamente por ahí. Pero vamos a decir una cosa: es cierto que la diferencia entre la vivienda libre y la vivienda protegida es cada vez menor. Por eso el año pasado el Gobierno de Canarias bajó el precio de la vivienda protegida y por eso tenemos la intención de volverlo a bajar. En el mercado libre la gente en estos momentos no puede vender su vivienda y desde luego va bajando los precios de forma escalonada. Usted decía un 24; yo puedo decirle que del 2008 hasta ahora ha bajado un 30% la vivienda libre. Por lo tanto, hay que ajustar precisamente esa diferencia. Se suma a esto que el Estado, como usted sabe, ha quitado la ayuda que daba a la entrada para comprar una vivienda protegida. Eso ha sido absolutamente eliminado. No le cuento nada si además las entidades financieras no dan un crédito a nadie para comprar hoy nada y mucho menos una vivienda. Con lo cual el Gobierno de Canarias lo que ha hecho es reorientar sus políticas, no hacia la compra de la vivienda sino hacia el alquiler, y hacia el alquiler social. Y por poner un ejemplo, que es muy cercano a usted y a mí, pues, precisamente en la isla de Lanzarote teníamos una promoción de viviendas, de 44 viviendas en venta, en promoción de venta protegida, y la hemos reconvertido en alquiler, en estos momentos en alquiler de 200 euros y de 240 euros si quieren también con opción de compra. Y comunicarle también que de las que teníamos disponibles -aquellas 500 de Visocan- en estos momentos, a casi un mes y pico, ya se han alquilado más de 250 a precios absolutamente sociales. Estamos hablando de una media de 200 euros por alquiler... El señor presidente: Muchísimas gracias, doña Inés Rojas, señora consejera.\n",
      " ##Resumen:<|im_end|>\n",
      "<|im_start|>assistant\n"
     ]
    },
    {
     "name": "stdout",
     "output_type": "stream",
     "text": [
      "<think>\n",
      "Okay, I need to create an institutional summary of this parliamentary act. The user wants it in formal, objective language, focusing on facts and agreements. Let me start by reading through the document carefully.\n",
      "\n",
      "The session was on 14 May 2013, with two questions. First, the speaker from the Mixto group asked about the price of protected homes versus free homes. The Minister of Culture, Deportes, Social Policies, and Housing mentioned that the protected homes are now cheaper than free ones, and there's a reduction in prices. The government is planning to lower the price further, and there's a mention of a new price reduction target. The second question is from the same group, which is about the state's role in housing. The summary should include these points.\n",
      "\n",
      "I need to structure it clearly. Start with the date and session details. Then mention the two speakers and their questions. The summary should highlight the key points: the current price differences, the government's plans to reduce prices, and the role of social policies. Make sure to use formal language and avoid any subjective terms. Check for any specific numbers or figures mentioned, like 1.197.7 euros vs. 1.428.5, and the price reduction targets. Also, include the mention of the new price reduction target and the government's role in housing. Avoid any personal opinions or judgments. Keep it concise but comprehensive.\n",
      "</think>\n",
      "\n",
      "**Resumen institucional:**  \n",
      "La sesión del parlamento se realizó el 14 de mayo de 2013. Durante la sesión, se presentaron dos preguntas dirigidas a la señora consejera de Cultura, Deportes, Políticas Sociales y Vivienda:  \n",
      "\n",
      "1. **Pregunta del señor diputado don Fabián Atamán Martín (Grupo Parlamentario Mixto):**  \n",
      "   Señora consejera, señoría, se pregunta: ¿Qué valoración le merece que la evolución de los precios de las viviendas protegidas en Canarias esté por encima de los de las viviendas libres? Señora consejera, según los datos proporcionados por el Ministerio de Fomento, el precio de las viviendas protegidas en los últimos cinco años creció en Canarias un 11%, mientras la vivienda libre desplomaba su precio un 24%. Esto significa que la distancia que separaba las viviendas protegidas y las viviendas libres se ha reducido en más de un 73%. En la actualidad, la distancia entre las viviendas protegidas y libres en la provincia de Las Palmas no llega a los 200 euros/m². Sin embargo, se señala que, en el debate sobre el estado de la nacionalidad, se anunció una política de reducción del precio de la vivienda protegida. Además, el Gobierno de Canarias está planeando volver a bajar el precio de la vivienda protegida.  \n",
      "\n",
      "2. **Pregunta del señor diputado don Fabián Atamán Martín (Grupo Mixto):**  \n",
      "   Señora consejera, ¿por qué el Gobierno de Canarias no ha hecho lo mismo que el Gobierno de otros países, que la vivienda protegida se ha bajado en el mismo sentido y proporción que la vivienda libre, como sí ha ocurrido en otras comunidades autónomas? Señora consejera, señoría, se pregunta: ¿Por qué, en Canarias, no se ha ajustado la diferencia entre las viviendas protegidas y libres, y por qué no se ha reducido el precio de la vivienda protegida en la misma medida que la vivienda libre? Señora consejera, señora, se pregunta: ¿En qué ayuda el Gobierno regional para adquirir viviendas en Canarias, especialmente para los jóvenes, que están deseosos de hacerse con su primera vivienda? ¿Por qué no se ha reducido el precio de la vivienda protegida en el mismo sentido que la vivienda libre?  \n",
      "\n",
      "La sesión concluyó con una reunión del grupo parlamentario, destacando la importancia del decreto del Gobierno de Canarias para bajar el precio de la vivienda protegida y fortalecer su rol en la política de vivienda social.<|im_end|>\n",
      "tensor([151644,   8948,    198,  ...,   3590,     13, 151645], device='cuda:0')\n"
     ]
    }
   ],
   "source": [
    "text = generate_summary_streamer(model, tokenizer, sample, max_new_tokens=4080)"
   ]
  },
  {
   "cell_type": "code",
   "execution_count": 14,
   "id": "cfe8d99b",
   "metadata": {},
   "outputs": [
    {
     "name": "stdout",
     "output_type": "stream",
     "text": [
      "text: None\n"
     ]
    }
   ],
   "source": [
    "print(\"text:\", text)"
   ]
  },
  {
   "cell_type": "code",
   "execution_count": 15,
   "id": "b4ea641a",
   "metadata": {},
   "outputs": [
    {
     "name": "stdout",
     "output_type": "stream",
     "text": [
      "Generated summary: **Resumen Institucional:**  \n",
      "La sesión del parlamento se realizó el 14/05/2013. En este momento, el señor diputado don Fabián Atamán Martín del Grupo Parlamentario Mixto, en su pregunta sobre los precios de las viviendas protegidas, dirigida a la señora consejera de Cultura, Deportes, Políticas Sociales y Vivienda, se refiere a la evolución del valor de las viviendas protegidas en Canarias. El Ministerio de Fomento, en su respuesta, menciona que, entre los últimos cinco años, el valor de las viviendas protegidas se ha incrementado un 11%, mientras que la vivienda libre ha descendido un 24%, reduciendo la distancia entre ambas. Además, se señala que en la provincia de Las Palmas, el valor de las viviendas protegidas se ha mantenido por encima del de la vivienda libre, alcanzando incluso un valor cercano a 189 euros/m², lo cual refleja una reducción significativa en la diferencia entre ambas. El diputado también se pregunta por la motivación del Gobierno regional, señalando que, aunque ha bajado el precio de la vivienda protegida, no ha logrado reducirlo igual que la vivienda libre, especialmente en comparación con otras comunidades autónomas. En resumen, se señala que la evolución del valor de las viviendas protegidas en Canarias sigue siendo más baja que en otras regiones, lo que genera preocupación sobre la capacidad del Gobierno para equilibrar las políticas en materia de vivienda.\n"
     ]
    }
   ],
   "source": [
    "text = generate_summary(model, tokenizer, sample, max_new_tokens=4080)\n",
    "print(\"Generated summary:\", text)"
   ]
  },
  {
   "cell_type": "code",
   "execution_count": 16,
   "id": "04ad7c17",
   "metadata": {},
   "outputs": [
    {
     "data": {
      "text/plain": [
       "('models/modelo_final_vllm/tokenizer_config.json',\n",
       " 'models/modelo_final_vllm/special_tokens_map.json',\n",
       " 'models/modelo_final_vllm/vocab.json',\n",
       " 'models/modelo_final_vllm/merges.txt',\n",
       " 'models/modelo_final_vllm/added_tokens.json',\n",
       " 'models/modelo_final_vllm/tokenizer.json')"
      ]
     },
     "execution_count": 16,
     "metadata": {},
     "output_type": "execute_result"
    }
   ],
   "source": [
    "model.save_pretrained(\"models/modelo_final_vllm\")\n",
    "tokenizer.save_pretrained(\"models/modelo_final_vllm\")"
   ]
  }
 ],
 "metadata": {
  "kernelspec": {
   "display_name": "vqa_mmllm",
   "language": "python",
   "name": "python3"
  },
  "language_info": {
   "codemirror_mode": {
    "name": "ipython",
    "version": 3
   },
   "file_extension": ".py",
   "mimetype": "text/x-python",
   "name": "python",
   "nbconvert_exporter": "python",
   "pygments_lexer": "ipython3",
   "version": "3.10.16"
  }
 },
 "nbformat": 4,
 "nbformat_minor": 5
}
