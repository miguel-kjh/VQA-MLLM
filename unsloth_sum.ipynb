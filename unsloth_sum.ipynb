{
 "cells": [
  {
   "cell_type": "code",
   "execution_count": 1,
   "id": "6ca69524",
   "metadata": {},
   "outputs": [
    {
     "name": "stdout",
     "output_type": "stream",
     "text": [
      "🦥 Unsloth: Will patch your computer to enable 2x faster free finetuning.\n",
      "🦥 Unsloth Zoo will now patch everything to make training faster!\n",
      "INFO 06-03 23:02:19 [__init__.py:243] Automatically detected platform cuda.\n",
      "==((====))==  Unsloth 2025.5.9: Fast Qwen3 patching. Transformers: 4.51.3. vLLM: 0.9.0.1.\n",
      "   \\\\   /|    NVIDIA GeForce RTX 4070 SUPER. Num GPUs = 1. Max memory: 11.994 GB. Platform: Linux.\n",
      "O^O/ \\_/ \\    Torch: 2.7.0+cu126. CUDA: 8.9. CUDA Toolkit: 12.6. Triton: 3.3.0\n",
      "\\        /    Bfloat16 = TRUE. FA [Xformers = 0.0.30. FA2 = False]\n",
      " \"-____-\"     Free license: http://github.com/unslothai/unsloth\n",
      "Unsloth: Fast downloading is enabled - ignore downloading bars which are red colored!\n"
     ]
    }
   ],
   "source": [
    "from unsloth import FastLanguageModel\n",
    "import torch\n",
    "\n",
    "SYSTEM_PROMPT = \"Eres un modelo entrenado para generar resúmenes institucionales de actas parlamentarias. Los resúmenes deben estar redactados en lenguaje formal-administrativo, sin juicios de valor, y seguir una estructura clara.\"\n",
    "INSTRUCTION = \"Redacta un resumen institucional en español del siguiente documento. Mantén un lenguaje objetivo, enfocado en los hechos y acuerdos:\"\n",
    "\n",
    "model, tokenizer = FastLanguageModel.from_pretrained(\n",
    "    #model_name=\"meta-llama/Llama-3.2-1B-Instruct\",\n",
    "    #model_name=\"BSC-LT/salamandra-2b-instruct\",\n",
    "    model_name=\"Qwen/Qwen3-1.7B\",\n",
    "    max_seq_length = 30000,\n",
    "    dtype = None,\n",
    "    load_in_4bit = False, # quantization QLoRA 4-bit\n",
    ")\n",
    "tokenizer.clean_up_tokenization_spaces = False"
   ]
  },
  {
   "cell_type": "code",
   "execution_count": null,
   "id": "d45402dd",
   "metadata": {},
   "outputs": [],
   "source": [
    "from transformers import TextStreamer\n",
    "\n",
    "import re\n",
    "\n",
    "def extract_clean_assistant_response(full_text: str) -> str:\n",
    "    # Buscar el último bloque <|assistant|>\n",
    "    assistant_start = full_text.rfind(\"assistant\")\n",
    "    if assistant_start == -1:\n",
    "        assistant_content = full_text\n",
    "    else:\n",
    "        assistant_content = full_text[assistant_start + len(\"assistant\"):]\n",
    "\n",
    "    # Eliminar los bloques <think>...</think> si existen\n",
    "    assistant_content = re.sub(r\"<think>.*?</think>\", \"\", assistant_content, flags=re.DOTALL)\n",
    "\n",
    "    # Eliminar espacios extra al principio y al final\n",
    "    return assistant_content.strip()\n",
    "\n",
    "def apply_chat_template(sample, tokenizer):\n",
    "    \"\"\"\n",
    "    Apply a chat template to the sample.\n",
    "    \"\"\"\n",
    "    # Define the chat template\n",
    "    empty_prompt = f\"{INSTRUCTION}\\n ##Documento {{document}}\\n ##Resumen:\"\n",
    "    messages = [\n",
    "        {\"role\": \"system\", \"content\": SYSTEM_PROMPT},\n",
    "        {\"role\": \"user\", \"content\": empty_prompt.format(document=sample[\"document\"])},\n",
    "    ]\n",
    "    \n",
    "    # Format the chat template with the sample text\n",
    "    return tokenizer.apply_chat_template(messages, tokenize=False, add_generation_prompt=True)\n",
    "\n",
    "\n",
    "## generate a summary\n",
    "def generate_summary_streamer(model, tokenizer, sample, max_new_tokens=100):\n",
    "    FastLanguageModel.for_inference(model)\n",
    "    if \"inference_prompt\" in sample:\n",
    "        inputs = tokenizer(sample[\"inference_prompt\"], return_tensors=\"pt\").to(model.device)\n",
    "    else:\n",
    "        prompt = apply_chat_template(sample, tokenizer)\n",
    "        inputs = tokenizer(prompt, return_tensors=\"pt\").to(model.device)\n",
    "    text_streamer = TextStreamer(tokenizer)\n",
    "    final_text = \"\"\n",
    "    for token in model.generate(**inputs, streamer = text_streamer, max_new_tokens = max_new_tokens):\n",
    "        print(token)\n",
    "        pass\n",
    "\n",
    "def generate_summary(model, tokenizer, sample, max_new_tokens=100):\n",
    "    FastLanguageModel.for_inference(model)\n",
    "    device = \"cuda\" if torch.cuda.is_available() else \"cpu\"\n",
    "    if \"inference_prompt\" in sample:\n",
    "        inputs = tokenizer(sample[\"inference_prompt\"], return_tensors=\"pt\").to(device)\n",
    "    else:\n",
    "        prompt = apply_chat_template(sample, tokenizer)\n",
    "        inputs = tokenizer(prompt, return_tensors=\"pt\").to(device)\n",
    "    with torch.no_grad():\n",
    "        outputs = model.generate(\n",
    "            **inputs, \n",
    "            max_new_tokens=max_new_tokens,\n",
    "\n",
    "        )  # Adjust max_new_tokens as needed\n",
    "    generated_text = tokenizer.decode(outputs[0], skip_special_tokens=True)\n",
    "    summary = generated_text.split(\"##Resumen:\")[-1].strip()\n",
    "    if tokenizer.chat_template:\n",
    "        summary = extract_clean_assistant_response(summary)\n",
    "    return summary"
   ]
  },
  {
   "cell_type": "code",
   "execution_count": 57,
   "id": "ddadb1bb",
   "metadata": {},
   "outputs": [],
   "source": [
    "# More info about parameters: https://huggingface.co/docs/peft/v0.11.0/en/package_reference/lora#peft.LoraConfig\n",
    "target_modules =  [\"q_proj\", \"k_proj\", \"v_proj\", \"o_proj\",\n",
    "                   \"gate_proj\", \"up_proj\", \"down_proj\"]\n",
    "\n",
    "# When adding special tokens\n",
    "train_embeddings = False\n",
    "\n",
    "if train_embeddings:\n",
    "  target_modules = target_modules + [\"lm_head\"]\n",
    "\n",
    "model = FastLanguageModel.get_peft_model(\n",
    "    model,\n",
    "    r = 16, # rank of lora matrices according to paper not much loss when set relatively low\n",
    "    target_modules = target_modules,  # On which modules of the llm the lora weights are used\n",
    "    lora_alpha = 2*16, # scales the weights of the adapters (more influence on base model), 16 was recommended on reddit\n",
    "    lora_dropout = 0, # Default on 0.05 in tutorial but unsloth says 0 is better\n",
    "    bias = \"none\",    # \"none\" is optimized\n",
    "    use_gradient_checkpointing = \"unsloth\", #\"unsloth\" for very long context, decreases vram\n",
    "    random_state = 3407,\n",
    "    use_rslora = False,  # scales lora_alpha with 1/sqrt(r), huggingface says this works better\n",
    "    loftq_config = None, # And LoftQ\n",
    ")"
   ]
  },
  {
   "cell_type": "code",
   "execution_count": 58,
   "id": "1f5e34a2",
   "metadata": {},
   "outputs": [
    {
     "name": "stdout",
     "output_type": "stream",
     "text": [
      "Dataset({\n",
      "    features: ['document', 'expected_summary', 'generated_summary', 'language', 'time'],\n",
      "    num_rows: 19\n",
      "})\n",
      "12.7.2019\n",
      "ES\n",
      "Diario Oficial de la Unión Europea\n",
      "L 188/55\n",
      "REGLAMENTO (UE) 2019/1156 DEL PARLAMENTO EU\n"
     ]
    }
   ],
   "source": [
    "import pandas as pd\n",
    "from datasets import Dataset\n",
    "FOLDER = \"sum/test_summary_clustering.xlsx\"\n",
    "\n",
    "df = pd.read_excel(FOLDER, engine='openpyxl')\n",
    "# convert to dataset\n",
    "dataset = Dataset.from_pandas(df) \n",
    "print(dataset)\n",
    "print(dataset[\"document\"][0][0:100])"
   ]
  },
  {
   "cell_type": "code",
   "execution_count": 59,
   "id": "1da0c2ce",
   "metadata": {},
   "outputs": [],
   "source": [
    "EOS_TOKEN = tokenizer.eos_token\n",
    "\n",
    "empty_prompt = f\"{INSTRUCTION}\\n{{document}}\\n\\nResumen:\"\n",
    "\n",
    "def formatting_prompts_instruction(examples):\n",
    "  training_prompts = []\n",
    "  inference_prompts = []\n",
    "  summaries = []\n",
    "  for doc, sum in zip(examples[\"document\"] , examples[\"expected_summary\"]):\n",
    "      inference_prompt = empty_prompt.format(document=doc)\n",
    "      real_sum = sum.strip()\n",
    "      training_prompt = inference_prompt + sum + EOS_TOKEN\n",
    "      training_prompt = training_prompt.replace(\"\\n\", \" \")  # Remove newlines for better tokenization\n",
    "      training_prompt = training_prompt.strip()  # Remove leading/trailing spaces\n",
    "      training_prompts.append(training_prompt)\n",
    "      inference_prompts.append(inference_prompt)\n",
    "      summaries.append(real_sum)\n",
    "\n",
    "  return { \"text\" : training_prompts, \n",
    "           \"inference_prompt\" : inference_prompts,\n",
    "           \"expected_summary\" : summaries }"
   ]
  },
  {
   "cell_type": "code",
   "execution_count": 60,
   "id": "3cecb8f5",
   "metadata": {},
   "outputs": [
    {
     "name": "stdout",
     "output_type": "stream",
     "text": [
      "Using chat template for formatting prompts\n"
     ]
    },
    {
     "data": {
      "application/vnd.jupyter.widget-view+json": {
       "model_id": "a843aafa3074426baf8e2e5cbe720cbb",
       "version_major": 2,
       "version_minor": 0
      },
      "text/plain": [
       "Map:   0%|          | 0/19 [00:00<?, ? examples/s]"
      ]
     },
     "metadata": {},
     "output_type": "display_data"
    }
   ],
   "source": [
    "if tokenizer.chat_template:\n",
    "    print(\"Using chat template for formatting prompts\")\n",
    "    def formatting_func(example):\n",
    "        empty_prompt = f\"{INSTRUCTION}\\n{{document}}\\n\"\n",
    "        messages = [\n",
    "            {\"role\": \"system\", \"content\": SYSTEM_PROMPT},\n",
    "            {\"role\": \"user\", \"content\": empty_prompt.format(document=example[\"document\"])},\n",
    "            {\"role\": \"assistant\", \"content\": example[\"expected_summary\"]}\n",
    "        ]\n",
    "        return tokenizer.apply_chat_template(messages, tokenize=False)\n",
    "    dataset_train = dataset.map(lambda x: {\"text\": formatting_func(x)})\n",
    "else:\n",
    "    dataset_train = dataset.map(formatting_prompts_instruction, batched=True, remove_columns=dataset.column_names)\n",
    "    print(dataset_train)"
   ]
  },
  {
   "cell_type": "code",
   "execution_count": 61,
   "id": "f67e0b93",
   "metadata": {},
   "outputs": [
    {
     "data": {
      "application/vnd.jupyter.widget-view+json": {
       "model_id": "9c6778153eb4413eb9f84adf84d9d9e8",
       "version_major": 2,
       "version_minor": 0
      },
      "text/plain": [
       "Unsloth: Tokenizing [\"text\"]:   0%|          | 0/19 [00:00<?, ? examples/s]"
      ]
     },
     "metadata": {},
     "output_type": "display_data"
    }
   ],
   "source": [
    "from trl import SFTTrainer\n",
    "from transformers import TrainingArguments\n",
    "from unsloth import is_bfloat16_supported\n",
    "\n",
    "args = TrainingArguments(\n",
    "        per_device_train_batch_size = 2,\n",
    "        gradient_accumulation_steps = 4, # process 4 batches before updating parameters (parameter update == step)\n",
    "        num_train_epochs = 3, # between 1 - 3 to prevent overfitting\n",
    "        learning_rate = 2e-4,\n",
    "        fp16 = not is_bfloat16_supported(),\n",
    "        bf16 = is_bfloat16_supported(),\n",
    "        logging_steps = 1,\n",
    "        optim = \"adamw_8bit\",\n",
    "        weight_decay = 0.01,\n",
    "        lr_scheduler_type = \"cosine\",\n",
    "        warmup_ratio = 0.03, # 3% of the total steps\n",
    "        seed = 3407,\n",
    "        output_dir = \"outputs\",\n",
    "        report_to = \"none\"\n",
    "    )\n",
    "\n",
    "trainer = SFTTrainer(\n",
    "    model = model,\n",
    "    tokenizer = tokenizer,\n",
    "    train_dataset = dataset_train,\n",
    "    formatting_func=lambda x: x[\"text\"],\n",
    "    dataset_text_field = \"text\",\n",
    "    max_seq_length = 8192,\n",
    "    dataset_num_proc = 2,\n",
    "    args = args,\n",
    ")"
   ]
  },
  {
   "cell_type": "code",
   "execution_count": 62,
   "id": "6fa41071",
   "metadata": {},
   "outputs": [
    {
     "name": "stdout",
     "output_type": "stream",
     "text": [
      "Trainable parameters: 17,432,576 / Total parameters: 1,738,007,552 (1.00%)\n"
     ]
    }
   ],
   "source": [
    "def count_trainable_params(model):\n",
    "    total_params = sum(p.numel() for p in model.parameters())\n",
    "    trainable_params = sum(p.numel() for p in model.parameters() if p.requires_grad)\n",
    "    percentage = 100 * trainable_params / total_params\n",
    "    return trainable_params, total_params, percentage\n",
    "\n",
    "trainable_params, total_params, percentage = count_trainable_params(model)\n",
    "print(f\"Trainable parameters: {trainable_params:,} / Total parameters: {total_params:,} ({percentage:.2f}%)\")"
   ]
  },
  {
   "cell_type": "code",
   "execution_count": 63,
   "id": "e562e6a0",
   "metadata": {},
   "outputs": [
    {
     "name": "stderr",
     "output_type": "stream",
     "text": [
      "==((====))==  Unsloth - 2x faster free finetuning | Num GPUs used = 1\n",
      "   \\\\   /|    Num examples = 19 | Num Epochs = 3 | Total steps = 6\n",
      "O^O/ \\_/ \\    Batch size per device = 2 | Gradient accumulation steps = 4\n",
      "\\        /    Data Parallel GPUs = 1 | Total batch size (2 x 4 x 1) = 8\n",
      " \"-____-\"     Trainable parameters = 17,432,576/1,738,007,552 (1.00% trained)\n"
     ]
    },
    {
     "data": {
      "text/html": [
       "\n",
       "    <div>\n",
       "      \n",
       "      <progress value='6' max='6' style='width:300px; height:20px; vertical-align: middle;'></progress>\n",
       "      [6/6 00:07, Epoch 2/3]\n",
       "    </div>\n",
       "    <table border=\"1\" class=\"dataframe\">\n",
       "  <thead>\n",
       " <tr style=\"text-align: left;\">\n",
       "      <th>Step</th>\n",
       "      <th>Training Loss</th>\n",
       "    </tr>\n",
       "  </thead>\n",
       "  <tbody>\n",
       "    <tr>\n",
       "      <td>1</td>\n",
       "      <td>2.111100</td>\n",
       "    </tr>\n",
       "    <tr>\n",
       "      <td>2</td>\n",
       "      <td>2.023700</td>\n",
       "    </tr>\n",
       "    <tr>\n",
       "      <td>3</td>\n",
       "      <td>1.876000</td>\n",
       "    </tr>\n",
       "    <tr>\n",
       "      <td>4</td>\n",
       "      <td>1.706400</td>\n",
       "    </tr>\n",
       "    <tr>\n",
       "      <td>5</td>\n",
       "      <td>1.695600</td>\n",
       "    </tr>\n",
       "    <tr>\n",
       "      <td>6</td>\n",
       "      <td>1.755200</td>\n",
       "    </tr>\n",
       "  </tbody>\n",
       "</table><p>"
      ],
      "text/plain": [
       "<IPython.core.display.HTML object>"
      ]
     },
     "metadata": {},
     "output_type": "display_data"
    },
    {
     "name": "stdout",
     "output_type": "stream",
     "text": [
      "Memoria máxima GPU usada: 5.88 GB\n"
     ]
    }
   ],
   "source": [
    "import torch\n",
    "\n",
    "torch.cuda.reset_peak_memory_stats()\n",
    "\n",
    "trainer_stats = trainer.train()\n",
    "peak_memory = torch.cuda.max_memory_allocated() / (1024**3)  # en GB\n",
    "\n",
    "print(f\"Memoria máxima GPU usada: {peak_memory:.2f} GB\")\n",
    "\n",
    "## clean the memory of GPU\n",
    "torch.cuda.empty_cache()"
   ]
  },
  {
   "cell_type": "code",
   "execution_count": 64,
   "id": "c2d560dc",
   "metadata": {},
   "outputs": [
    {
     "name": "stdout",
     "output_type": "stream",
     "text": [
      "Tiempo total de entrenamiento: 9.4418 segundos\n",
      "Velocidad: 6.037 ejemplos/segundo\n"
     ]
    }
   ],
   "source": [
    "# Tiempo total en segundos\n",
    "print(\"Tiempo total de entrenamiento:\", trainer_stats.metrics[\"train_runtime\"], \"segundos\")\n",
    "print(\"Velocidad:\", trainer_stats.metrics[\"train_samples_per_second\"], \"ejemplos/segundo\")"
   ]
  },
  {
   "cell_type": "code",
   "execution_count": 65,
   "id": "35bc492b",
   "metadata": {},
   "outputs": [
    {
     "name": "stdout",
     "output_type": "stream",
     "text": [
      "Estadísticas del entrenamiento: {'peak_memory (GB)': 5.875444412231445, 'train_runtime': 9.4418, 'train_samples_per_second': 6.037, 'trainable_params': 17432576}\n"
     ]
    }
   ],
   "source": [
    "stats_of_trainer = {\n",
    "    \"peak_memory (GB)\": peak_memory,\n",
    "    \"train_runtime\": trainer_stats.metrics[\"train_runtime\"],\n",
    "    \"train_samples_per_second\": trainer_stats.metrics[\"train_samples_per_second\"],\n",
    "    \"trainable_params\": trainable_params,\n",
    "}\n",
    "\n",
    "print(\"Estadísticas del entrenamiento:\", stats_of_trainer)"
   ]
  },
  {
   "cell_type": "code",
   "execution_count": 66,
   "id": "b841bedd",
   "metadata": {},
   "outputs": [
    {
     "name": "stdout",
     "output_type": "stream",
     "text": [
      "Sample document: {'document': '12.7.2019\\nES\\nDiario Oficial de la Unión Europea\\nL 188/55\\nREGLAMENTO (UE) 2019/1156 DEL PARLAMENTO EUROPEO Y DEL CONSEJO\\nde 20 de junio de 2019\\npor el que se facilita la distribución transfronteriza de organismos de inversión colectiva y por el que se modifican los Reglamentos (UE) n.o 345/2013, (UE) n.o 346/2013 y (UE) n.o 1286/2014\\n(Texto pertinente a efectos del EEE)\\nEL PARLAMENTO EUROPEO Y EL CONSEJO DE LA UNIÓN EUROPEA,\\nVisto el Tratado de Funcionamiento de la Unión Europea, y en particular su artículo 114,\\nVista la propuesta de la Comisión Europea,\\nPrevia transmisión del proyecto de acto legislativo a los Parlamentos nacionales,\\nVisto el dictamen del Comité Económico y Social Europeo (1),\\nDe conformidad con el procedimiento legislativo ordinario (2),\\nConsiderando lo siguiente:\\n(1)\\nLas divergencias en los enfoques normativos y de supervisión por lo que respecta a la distribución transfronteriza de fondos de inversión alternativos (FIA), tal y como se definen en la Directiva 2011/61/UE del Parlamento Europeo y del Consejo (3), incluidos los fondos de capital riesgo europeos (FCRE), tal y como se definen en el Reglamento (UE) n.o 345/2013 del Parlamento Europeo y del Consejo (4), los fondos de emprendimiento social europeos (FESE), tal y como se definen en el Reglamento (UE) n.o 346/2013 del Parlamento Europeo y del Consejo (5), y los fondos de inversión a largo plazo europeos (FILPE), tal y como se definen en el Reglamento (UE) 2015/760 del Parlamento Europeo y del Consejo (6), y de organismos de inversión colectiva en valores mobiliarios (OICVM), conforme se definen en la Directiva 2009/65/CE del Parlamento Europeo y del Consejo (7), tienen como resultado la fragmentación y obstaculización de la comercialización y el acceso transfronterizos de los FIA y los OICVM, lo que a su vez podría impedirles ser comercializados en otros Estados miembros. Un OICVM puede gestionarse de manera externa o interna en función de su forma jurídica. Toda disposición del presente Reglamento relativa a las sociedades de gestión del OICVM debe aplicarse tanto a las empresas cuya actividad habitual es la gestión de OICVM como a cualquier OICVM que no haya designado una sociedad de gestión del OICVM.\\n(2)\\nPara mejorar el marco normativo aplicable a los organismos de inversión colectiva y proteger mejor a los inversores, las comunicaciones publicitarias dirigidas a inversores de FIA y OICVM deben ser identificables como tales y deben describir los riesgos y los beneficios de adquirir participaciones o acciones de un FIA o un OICVM de manera igualmente destacada. Además, toda la información incluida en las comunicaciones publicitarias dirigidas a los inversores debe presentarse de forma imparcial, clara y no engañosa. Con el fin de salvaguardar la protección de los inversores y garantizar unas condiciones de competencia equitativas entre los FIA y los OICVM, las normas relativas a las comunicaciones publicitarias deben aplicarse a las comunicaciones publicitarias de los FIA y los OICVM.\\n(3)\\nLas comunicaciones publicitarias dirigidas a inversores de FIA y OICVM deben especificar dónde, cómo y en qué idioma pueden obtener los inversores información resumida sobre sus derechos como inversores e indicar claramente que el GFIA, el gestor de FCRE, el gestor de FESE o la sociedad de gestión del OICVM (conjuntamente, «gestores de organismos de inversión colectiva») tiene derecho a poner fin a las disposiciones adoptadas para la comercialización.\\n(4)\\nA fin de reforzar la transparencia y la protección de los inversores, así como para facilitar el acceso a la información sobre las disposiciones legales, reglamentarias y administrativas nacionales en materia de comunicaciones publicitarias, las autoridades competentes deben publicar dichos textos en sus sitios web en al menos una lengua habitual en el ámbito de las finanzas internacionales, incluido su resumen no oficial, lo que permitiría a los gestores de organismos de inversión colectiva obtener un panorama general sobre dichas disposiciones legales, reglamentarias y administrativas. La publicación debe responder exclusivamente a fines informativos sin crear obligaciones jurídicas. Por los mismos motivos, la Autoridad Europea de Supervisión (Autoridad Europea de Valores y Mercados) establecida en el Reglamento (UE) n.o 1095/2010 del Parlamento Europeo y del Consejo (8) (AEVM) debe crear una base de datos central que contenga resúmenes de los requisitos nacionales relativos a las comunicaciones publicitarias e hiperenlaces a la información publicada en los sitios web de las autoridades competentes.\\n(5)\\nA fin de fomentar las buenas prácticas en materia de protección de los inversores establecidas en los requisitos nacionales para que las comunicaciones publicitarias presenten información imparcial y clara, incluidos los aspectos en línea de dichas comunicaciones publicitarias, la AEVM debe publicar directrices sobre la aplicación de dichos requisitos relativos a las comunicaciones publicitarias.\\n(6)\\nLas autoridades competentes deben poder exigir la notificación previa de las comunicaciones publicitarias para realizar una verificación ex ante de la conformidad de esas comunicaciones con el presente Reglamento y otros requisitos aplicables, por ejemplo, si las comunicaciones publicitarias son identificables como tales, si describen los riesgos y los beneficios que supone la adquisición de participaciones de un OICVM y, en el caso de que un Estado miembro permita la comercialización de FIA a inversores minoristas, los riesgos y los beneficios que supone la adquisición de participaciones o acciones de una forma igualmente destacada y si toda la información que figura en las comunicaciones publicitarias se presenta de forma imparcial, clara y no engañosa. Dicha verificación debe llevarse a cabo en un plazo limitado. Cuando las autoridades competentes exijan la notificación previa, ello no excluirá la posible verificación ex post de las comunicaciones publicitarias.\\n(7)\\nLas autoridades competentes deben informar a la AEVM de los resultados de dichas verificaciones, de las solicitudes de modificación y de cualquier sanción impuesta a los gestores de organismos de inversión colectiva. Con el fin de aumentar la sensibilización y la transparencia sobre las normas aplicables a las comunicaciones publicitarias, por un lado, y de garantizar la protección de los inversores, por otro lado, la AEVM debe preparar y enviar cada dos años al Parlamento Europeo, al Consejo y a la Comisión un informe sobre dichas normas y su aplicación práctica sobre la base de las verificaciones ex ante y ex post de las comunicaciones publicitarias por parte de las autoridades competentes.\\n(8)\\nPara garantizar la igualdad de trato de los gestores de organismos de inversión colectiva y facilitar su toma de decisiones acerca de la conveniencia de emprender la distribución transfronteriza de fondos de inversión, es importante que las tasas y cargas aplicadas por las autoridades competentes por la supervisión de las actividades transfronterizas sean proporcionadas a las tareas de supervisión llevadas a cabo y se hagan públicas, y que, con el objeto de aumentar la transparencia, publiquen en los sitios web de las autoridades competentes esas tasas y cargas. Por la misma razón, los hiperenlaces a la información publicada en los sitios web de las autoridades competentes relativa a las tasas y cargas deben publicarse en el sitio web de la AEVM a fin de disponer de un punto central de información. El sitio web de la AEVM también debe incluir una herramienta interactiva que permita calcular de forma orientativa dichas tasas y cargas aplicadas por las autoridades competentes.\\n(9)\\nA fin de garantizar un mejor cobro de las tasas o cargas y de aumentar la transparencia y la claridad de su estructura, cuando dichas tasas o cargas sean aplicadas por las autoridades competentes, los gestores de organismos de inversión colectiva deben recibir una factura, una declaración de pago individual o una orden de pago donde se establezca claramente el importe de las tasas o cargas aplicables y los medios de pago.\\n(10)\\nPuesto que, de conformidad con el Reglamento (UE) n.o 1095/2010, la AEVM debe supervisar y evaluar la evolución del mercado dentro de su ámbito de competencia, es adecuado y necesario mejorar el conocimiento de la AEVM, ampliando las bases de datos de que actualmente dispone a fin de incluir una base de datos central que enumere todos los FIA y OICVM que se comercializan a nivel transfronterizo, los gestores de dichos organismos de inversión colectiva, así como los Estados miembros en los que tiene lugar dicha comercialización. A tal fin, y para que la AEVM pueda mantener actualizada la base de datos central, las autoridades competentes deben transmitir a la AEVM información sobre las notificaciones, los escritos de notificación y la información que hayan recibido en virtud de las Directivas 2009/65/CE y 2011/61/UE en relación con la actividad de comercialización transfronteriza, así como sobre cualquier cambio que afecte a dicha información que deba reflejarse en dicha base de datos. A este respecto, la AEVM debe crear un portal de notificación en el que las autoridades competentes carguen todos los documentos relativos a la distribución transfronteriza de los OICVM y los FIA.\\n(11)\\nPara garantizar unas condiciones de competencia equitativas entre los fondos de capital riesgo admisibles, tal como se definen en el Reglamento (UE) n.o 345/2013, o los fondos de emprendimiento social admisibles, tal como se definen en el Reglamento (UE) n.o 346/2013, por una parte, y otros FIA, por otra, es necesario incluir en dichos Reglamentos normas en materia de precomercialización que sean idénticas a las normas sobre precomercialización establecidas en la Directiva 2011/61/UE. Dichas normas deben permitir a los gestores registrados de conformidad con esos Reglamentos dirigirse a los inversores comprobando su interés ante próximas oportunidades o estrategias de inversión a través de fondos de capital riesgo admisibles y fondos de emprendimiento social admisibles.\\n(12)\\nDe conformidad con el Reglamento (UE) n.o 1286/2014 del Parlamento Europeo y del Consejo (9), determinadas sociedades y personas a que se refiere el artículo 32 de dicho Reglamento están exentas hasta el 31 de diciembre de 2019 de las obligaciones establecidas en el citado Reglamento. Dicho Reglamento también establece que la Comisión debe revisarlo antes del 31 de diciembre de 2018, con objeto de evaluar, entre otros aspectos, si este período transitorio de exención debe prolongarse o si, tras la determinación de los ajustes necesarios, las disposiciones sobre los datos fundamentales para el inversor de la Directiva 2009/65/CE deben ser sustituidas o considerarse equivalentes al documento de datos fundamentales para el inversor previsto en el citado Reglamento.\\n(13)\\nA fin de permitir a la Comisión que realice la revisión de conformidad con el Reglamento (UE) n.o 1286/2014 tal como se había previsto originalmente, la fecha límite para dicha revisión debe ampliarse doce meses. La comisión competente del Parlamento Europeo debe apoyar el proceso de revisión de la Comisión organizando una audiencia sobre el tema con los grupos de interés relevantes que representan los intereses del sector y de los consumidores.\\n(14)\\nA fin de evitar que los inversores reciban dos documentos distintos de comunicación previa, a saber, un documento de datos fundamentales para el inversor (KIID, por sus siglas en inglés) como exige la Directiva 2009/65/CE y un documento de datos fundamentales relativo a los productos de inversión minorista empaquetados (PRIIP, por sus siglas en inglés) como exige el Reglamento (UE) n.o 1286/2014, para el mismo organismo de inversión colectiva, durante la adopción y aplicación de los actos legislativos que resulten de la revisión de la Comisión de conformidad con dicho Reglamento, el período transitorio de exención derivado de las obligaciones en virtud del citado Reglamento debe prorrogarse veinticuatro meses. Sin perjuicio de dicha prórroga, todas las instituciones y autoridades de supervisión implicadas procurarán actuar tan rápido como sea posible para facilitar la finalización de dicho período transitorio de exención.\\n(15)\\nConviene conferir a la Comisión competencias para adoptar las normas técnicas de ejecución, elaboradas por la AEVM, con respecto a los modelos normalizados, plantillas y procedimientos para la publicación y notificación por las autoridades competentes de las disposiciones legales, reglamentarias y administrativas nacionales en materia de requisitos de comercialización aplicables en sus territorios, junto con un resumen de las mismas, los niveles de las tasas o cargas aplicados por actividades de comercialización transfronteriza y, cuando proceda, los correspondientes métodos de cálculo. Además, con el fin de mejorar la transmisión a la AEVM, también deben adoptarse normas técnicas de ejecución relativas a las notificaciones, los escritos de notificación y la información sobre las actividades de comercialización transfronterizas que exigen las Directivas 2009/65/CE y 2011/61/UE y las disposiciones técnicas necesarias para el funcionamiento del portal de notificaciones que ha de establecer la AEVM. La Comisión debe adoptar dichas normas técnicas de ejecución mediante actos de ejecución en virtud del artículo 291 del Tratado de Funcionamiento de la Unión Europea (TFUE) y de conformidad con el artículo 15 del Reglamento (UE) n.o 1095/2010.\\n(16)\\nEs necesario especificar qué información debe comunicarse cada trimestre a la AEVM, a fin de mantener actualizadas las bases de datos de todos los organismos de inversión colectiva y de sus gestores.\\n(17)\\nTodo tratamiento de datos personales realizado en el marco del presente Reglamento, como el intercambio o la transmisión de datos personales por las autoridades competentes, debe atenerse a lo dispuesto en el Reglamento (UE) 2016/679 del Parlamento Europeo y del Consejo (10), y todo intercambio o transmisión de información por la AEVM debe atenerse a lo dispuesto en el Reglamento (UE) 2018/1725 del Parlamento Europeo y del Consejo (11).\\n(18)\\nCon el fin de habilitar a las autoridades competentes para ejercer las funciones que les atribuye el presente Reglamento, los Estados miembros deben velar por que esas autoridades cuenten con todas las competencias de supervisión e investigación necesarias.\\n(19)\\nA más tardar el 2 de agosto de 2024, la Comisión debe realizar una evaluación de la aplicación del presente Reglamento. Dicha evaluación debe tener en cuenta la evolución del mercado y valorar si las medidas introducidas han mejorado la distribución transfronteriza de organismos de inversión colectiva.\\n(20)\\nA más tardar el 2 de agosto de 2021, la Comisión publicará un informe sobre la comercialización pasiva y la demanda por propia iniciativa de un inversor, donde se especifique el alcance de esta forma de suscripción de fondos, su distribución geográfica, incluidos los terceros países, y su repercusión en el régimen de pasaporte.\\n(21)\\nPara garantizar la seguridad jurídica, es necesario sincronizar las fechas de aplicación de las disposiciones legales, reglamentarias y administrativas nacionales por las que se aplique la Directiva (UE) 2019/1160 del Parlamento Europeo y del Consejo (12) y del presente Reglamento en lo que se refiere a las disposiciones sobre comunicaciones publicitarias y precomercialización.\\n(22)\\nDado que el objetivo del presente Reglamento, a saber, el aumento de la eficiencia del mercado mientras se establece la creación de la unión de mercados de capitales, no puede ser alcanzado de manera suficiente por los Estados miembros, sino que, debido a sus efectos, puede lograrse mejor a escala de la Unión, esta puede adoptar medidas, de acuerdo con el principio de subsidiariedad establecido en el artículo 5 del Tratado de la Unión Europea. De conformidad con el principio de proporcionalidad establecido en el mismo artículo, el presente Reglamento no excede de lo necesario para alcanzar dicho objetivo.\\nHAN ADOPTADO EL PRESENTE REGLAMENTO:\\nArtículo 1\\nObjeto\\nEl presente Reglamento establece un conjunto de normas uniformes sobre la publicación de disposiciones nacionales relativas a los requisitos de comercialización de los organismos de inversión colectiva y sobre las comunicaciones publicitarias dirigidas a los inversores, así como los principios comunes en materia de tasas y cargas impuestas a los gestores de organismos de inversión colectiva en relación con sus actividades transfronterizas. Dispone asimismo la creación de una base de datos central sobre la comercialización transfronteriza de organismos de inversión colectiva.\\nArtículo 2\\nÁmbito de aplicación\\nEl presente Reglamento se aplicará a:\\na)\\nlos gestores de fondos de inversión alternativos;\\nb)\\nlas sociedades de gestión de OICVM, incluida cualquier OICVM que no haya designado una sociedad de gestión del OICVM;\\nc)\\nlos gestores de FCRE, y\\nd)\\nlos gestores de FESE.\\nArtículo 3\\nDefiniciones\\nA los efectos del presente Reglamento, se entenderá por:\\na)   «fondos de inversión alternativos» o «FIA»: los FIA tal como se definen en el artículo 4, apartado 1, letra a), de la Directiva 2011/61/UE, incluidos los FCRE, FESE y FILPE;\\nb)   «gestores de fondos de inversión alternativos» o «GFIA»: los GFIA tal como se definen en el artículo 4, apartado 1, letra b), de la Directiva 2011/61/UE, y que estén autorizados de conformidad con el artículo 6 de dicha Directiva;\\nc)   «gestor de FCRE»: un gestor de fondos de capital riesgo admisible tal como se define en el artículo 3, párrafo primero, letra c), del Reglamento (UE) n.o 345/2013, y que esté registrado de conformidad con el artículo 14 de dicho Reglamento;\\nd)   «gestor de FESE»: un gestor de un fondo de emprendimiento social admisible tal como se define en el artículo 3, apartado 1, letra c), del Reglamento (UE) n.o 346/2013 y que esté registrado de conformidad con el artículo 15 de dicho Reglamento;\\ne)   «autoridades competentes»: autoridades competentes tal como se definen en el artículo 2, apartado 1, letra h), de la Directiva 2009/65/CE, o en el artículo 4, apartado 1, letra f), de la Directiva 2011/61/UE o autoridades competentes del FIA de la UE tal como se definen en el artículo 4, apartado 1, letra h), de la Directiva 2011/61/UE;\\nf)   «Estado miembro de origen»: el Estado miembro en el que el GFIA, el gestor de FCRE, el gestor de FESE o la sociedad de gestión del OICVM tenga su domicilio social;\\ng)   «OICVM»: un OICVM autorizado de conformidad con el artículo 5 de la Directiva 2009/65/CE;\\nh)   «sociedad de gestión de un OICVM»: una sociedad de gestión tal como se define en el artículo 2, apartado 1, letra b), de la Directiva 2009/65/CE.\\nArtículo 4\\nRequisitos relativos a las comunicaciones publicitarias\\n1.   Los GFIA, los gestores de FCRE, los gestores de FESE y las sociedades de gestión de OICVM se asegurarán de que todas las comunicaciones publicitarias dirigidas a los inversores sean identificables como tales, y que describan los riesgos y los beneficios de la adquisición de participaciones o acciones de un FIA o de participaciones de un OICVM de manera igualmente destacada, y de que toda la información incluida en las comunicaciones publicitarias sea imparcial, clara y no engañosa.\\n2.   Las sociedades de gestión de OICVM se asegurarán de que las comunicaciones publicitarias que contengan información específica sobre un OICVM no contradigan ni menoscaben la importancia de la información contenida en el folleto a que se refiere el artículo 68 de la Directiva 2009/65/CE ni los datos fundamentales para el inversor a que se refiere el artículo 78 de dicha Directiva. Las sociedades de gestión de OICVM se asegurarán de que en todas las comunicaciones publicitarias se indique que existe un folleto y que están disponibles los datos fundamentales para el inversor. Tales comunicaciones publicitarias deberán especificar dónde, cómo y en qué lengua pueden los inversores o inversores potenciales obtener el folleto y los datos fundamentales para el inversor y proporcionarán hiperenlaces o direcciones de sitios web donde encontrar esos documentos.\\n3.   Las comunicaciones publicitarias a que se refiere el apartado 2 deberán especificar dónde, cómo y en qué lengua los inversores o inversores potenciales pueden obtener un resumen de los derechos de los inversores, y proporcionarán un hiperenlace a este resumen, que deberá incluir, si procede, información sobre el acceso a los mecanismos de compensación colectiva a escala de la Unión y nacional en caso de litigio.\\nTales comunicaciones publicitarias incluirán asimismo información clara que indique que el gestor o la sociedad de gestión a que se refiere el apartado 1 del presente artículo puede decidir poner fin a las disposiciones previstas para la comercialización de sus organismos de inversión colectiva de conformidad con el artículo 93 bis de la Directiva 2009/65/CE y el artículo 32 bis de la Directiva 2011/61/UE.\\n4.   Los GFIA, los gestores de FCRE y los gestores de FESE se asegurarán de que las comunicaciones publicitarias que incluyan una invitación a adquirir participaciones o acciones de un FIA que contengan información específica sobre un FIA no contradigan la información que ha de facilitarse a los inversores de conformidad con el artículo 23 de la Directiva 2011/61/UE, con el artículo 13 del Reglamento (UE) n.o 345/2013 o con el artículo 14 del Reglamento (UE) n.o 346/2013, ni menoscaben su importancia.\\n5.   El apartado 2 del presente artículo se aplicará mutatis mutandis a los FIA que publiquen un folleto de conformidad con el Reglamento (UE) 2017/1129 del Parlamento Europeo y del Consejo (13), o de conformidad con la legislación nacional, o que apliquen las normas sobre el formato y el contenido de los datos fundamentales para el inversor a que se refiere el artículo 78 de la Directiva 2009/65/CE.\\n6.   A más tardar el 2 de agosto de 2021, la AEVM emitirá directrices, que deberán ser actualizadas periódicamente, sobre la aplicación de los requisitos relativos a las comunicaciones publicitarias a que se refiere el apartado 1, teniendo en cuenta los aspectos en línea de esas comunicaciones publicitarias.\\nArtículo 5\\nPublicación de las disposiciones nacionales relativas a los requisitos en materia de comercialización\\n1.   Las autoridades competentes publicarán y mantendrán en sus sitios web información actualizada y completa sobre las disposiciones legales, reglamentarias y administrativas nacionales que regulen los requisitos de comercialización aplicables a los FIA y los OICVM, y sus resúmenes, en, como mínimo, una lengua habitual en el ámbito de las finanzas internacionales.\\n2.   Las autoridades competentes notificarán a la AEVM los hiperenlaces a los sitios web de las autoridades competentes donde esté publicada la información a que se refiere el apartado 1.\\nLas autoridades competentes notificarán a la AEVM sin demora indebida cualquier modificación de la información facilitada en virtud del párrafo primero del presente apartado.\\n3.   La AEVM elaborará proyectos de normas técnicas de ejecución para establecer los modelos normalizados, plantillas y procedimientos para las publicaciones y notificaciones previstas en el presente artículo.\\nLa AEVM presentará a la Comisión esos proyectos de normas técnicas de ejecución a más tardar el 2 de febrero de 2021.\\nSe confieren a la Comisión competencias para adoptar las normas técnicas de ejecución a que se refiere el párrafo primero de conformidad con el artículo 15 del Reglamento (UE) n.o 1095/2010.\\nArtículo 6\\nBase de datos central de la AEVM sobre las disposiciones nacionales relativas a los requisitos de comercialización\\nA más tardar el 2 de febrero de 2022, la AEVM publicará y mantendrá en su sitio web una base de datos central que contenga los resúmenes contemplados en el artículo 5, apartado 1, así como los hiperenlaces a los sitios web de las autoridades competentes contemplados en el artículo 5, apartado 2.\\nArtículo 7\\nVerificación ex ante de las comunicaciones publicitarias\\n1.   Con el único fin de verificar el cumplimiento del presente Reglamento y de las disposiciones nacionales relativas a los requisitos de comercialización, las autoridades competentes pueden exigir la notificación previa de las comunicaciones publicitarias que las sociedades de gestión de OICVM tengan intención de utilizar directa o indirectamente en sus relaciones con los inversores.\\nEl requisito de notificación previa a que se refiere el párrafo primero no constituirá una condición previa para la comercialización de participaciones de OICVM y no formará parte del procedimiento de notificación contemplado en el artículo 93 de la Directiva 2009/65/CE.\\nCuando las autoridades competentes exijan la notificación previa tal y como se menciona en el párrafo primero, informarán a la sociedad de gestión del OICVM, en un plazo de diez días hábiles desde la recepción de las comunicaciones publicitarias, de cualquier solicitud de modificación de sus comunicaciones publicitarias.\\nLa notificación previa a que se refiere el párrafo primero podrá ser requerida de forma sistemática o de conformidad con cualquier otra práctica de verificación y se entenderá sin perjuicio de otras competencias de supervisión para verificar las comunicaciones publicitarias ex post.\\n2.   Las autoridades competentes que exijan la notificación previa de las comunicaciones publicitarias establecerán, aplicarán y publicarán en sus sitios web procedimientos para dicha notificación previa. Las normas y procedimientos internos deberán garantizar un trato transparente y no discriminatorio de todos los OICVM, con independencia del Estado miembro en el que estén autorizados.\\n3.   En caso de que los GFIA, los gestores de FCRE o los gestores de FESE comercialicen participaciones o acciones de sus FIA a inversores minoristas, los apartados 1 y 2 se aplicarán, mutatis mutandis, a esos GFIA, gestores de FCRE o gestores de FESE.\\nArtículo 8\\nInforme de la AEVM sobre las comunicaciones publicitarias\\n1.   A más tardar el 31 de marzo de 2021 y cada dos años a partir de esa fecha, las autoridades competentes transmitirán a la AEVM, la información siguiente:\\na)\\nel número de solicitudes de modificación de las comunicaciones publicitarias efectuadas sobre la base de una verificación ex ante, cuando proceda;\\nb)\\nel número de solicitudes de modificación y de decisiones tomadas sobre la base de verificaciones ex post, distinguiendo claramente las infracciones más frecuentes e incluyendo una descripción y la naturaleza de dichas infracciones;\\nc)\\nuna descripción de las infracciones más frecuentes de los requisitos contemplados en el artículo 4, y\\nd)\\nun ejemplo de cada una de las infracciones a que se refieren las letras b) y c).\\n2.   A más tardar el 30 de junio de 2021 y cada dos años a partir de esa fecha, la AEVM remitirá al Parlamento Europeo, al Consejo y a la Comisión un informe en el que presente una perspectiva general de los requisitos de comercialización contemplados en el artículo 5, apartado 1, en todos los Estados miembros y que contenga un análisis de los efectos de las disposiciones legales, reglamentarias y administrativas nacionales que regulan las comunicaciones publicitarias, también sobre la base de la información recibida de conformidad con el apartado 1 del presente artículo.\\nArtículo 9\\nPrincipios comunes en materia de tasas o cargas\\n1.   En los casos en que las tasas o cargas sean aplicadas por las autoridades competentes al ejercer sus funciones en relación con las actividades transfronterizas de los GFIA, los gestores de FCRE, los gestores de FESE y las sociedades de gestión de OICVM, dichas tasas o cargas serán coherentes con los costes globales relacionados con el ejercicio de las funciones de la autoridad competente.\\n2.   Para las tasas o cargas mencionadas en el apartado 1 del presente artículo, las autoridades competentes enviarán una factura, una declaración de pago individual o una orden de pago, estableciendo claramente los medios de pago y la fecha de vencimiento del pago a la dirección a que se refiere el artículo 93, apartado 1, párrafo tercero, de la Directiva 2009/65/CE o en el anexo IV, letra i), de la Directiva 2011/61/UE.\\nArticulo 10\\nPublicación de las disposiciones nacionales relativas a tasas y cargas\\n1.   A más tardar el 2 de febrero de 2020, las autoridades competentes publicarán y mantendrán en sus sitios web información actualizada sobre la lista de las tasas o cargas a que se refiere el artículo 9, apartado 1, o, cuando proceda, los métodos utilizados para calcularlas, en, como mínimo, una lengua habitual en el ámbito de las finanzas internacionales.\\n2.   Las autoridades competentes notificarán a la AEVM los hiperenlaces a los sitios web de las autoridades competentes donde esté publicada la información a que se refiere el apartado 1.\\n3.   La AEVM elaborará proyectos de normas técnicas de ejecución para establecer los modelos normalizados, plantillas y procedimientos para las publicaciones y notificaciones previstas en el presente artículo.\\nLa AEVM presentará a la Comisión esos proyectos de normas técnicas de ejecución a más tardar el 2 de febrero de 2021.\\nSe confieren a la Comisión competencias para adoptar las normas técnicas de ejecución a que se refiere el párrafo primero de conformidad con el artículo 15 del Reglamento (UE) n.o 1095/2010.\\nArtículo 11\\nPublicación de la AEVM sobre tasas y cargas\\n1.   A más tardar el 2 de febrero de 2022, la AEVM publicará en su sitio web hiperenlaces a los sitios web de las autoridades competentes a que se refiere el artículo 10, apartado 2. Dichos hiperenlaces se mantendrán actualizados.\\n2.   A más tardar el 2 de febrero de 2022, la AEVM elaborará y publicará en su sitio web una herramienta interactiva y accesible al público en, como mínimo, una lengua utilizada habitualmente en el ámbito de las finanzas internacionales, que permita calcular de forma orientativa las tasas o cargas mencionadas en el artículo 9, apartado 1. Esa herramienta se mantendrá actualizada.\\nArtículo 12\\nBase de datos central de la AEVM sobre comercialización transfronteriza de FIA y OICVM\\n1.   A más tardar el 2 de febrero de 2022, la AEVM publicará en su sitio web una base de datos central sobre comercialización transfronteriza de FIA y OICVM, accesible al público en una lengua habitual en el ámbito de las finanzas internacionales, en la que figurarán:\\na)\\ntodos los FIA comercializados en un Estado miembro distinto del Estado miembro de origen, sus GFIA, sus gestores de FESE o sus gestores de FCRE, y los Estados miembros en los que se comercialicen, y\\nb)\\ntodos los OICVM comercializados en un Estado miembro distinto del Estado miembro de origen del OICVM tal como se define en el artículo 2, apartado 1, letra e), de la Directiva 2009/65/CE, las sociedades de gestión del OICVM y los Estados miembros en los que se comercialicen.\\nDicha base de datos central se mantendrá actualizada.\\n2.   Las obligaciones recogidas en el presente artículo y en el artículo 13 relativas a la base de datos mencionada en el apartado 1 del presente artículo se entenderán sin perjuicio de las obligaciones relativas a la lista a que se refiere el artículo 6, apartado 1, párrafo segundo, de la Directiva 2009/65/CE, el registro público central a que se refiere el artículo 7, apartado 5, párrafo segundo, de la Directiva 2011/61/UE, la base de datos central a que se refiere el artículo 17 del Reglamento (UE) n.o 345/2013 y la base de datos central a que se refiere el artículo 18 del Reglamento (UE) n.o 346/2013.\\nArtículo 13\\nNormalización de las notificaciones a la AEVM\\n1.   Las autoridades competentes de los Estados miembros de origen comunicarán a la AEVM con periodicidad trimestral la información necesaria para la creación y el mantenimiento de la base de datos central contemplada en el artículo 12 del presente Reglamento en relación con toda notificación, escrito de notificación o información a que se refieren el artículo 93, apartado 1, y el artículo 93 bis, apartado 2, de la Directiva 2009/65/CE, y el artículo 31, apartado 2, el artículo 32, apartado 2, y el artículo 32 bis, apartado 2, de la Directiva 2011/61/UE, así como cualquier modificación a dicha información, si dicha modificación afecta a la información contenida en esa base de datos central.\\n2.   La AEVM creará un portal de notificación en el que las autoridades competentes cargarán todos los documentos a que se refiere el apartado 1.\\n3.   La AEVM elaborará proyectos de normas técnicas de ejecución para especificar la información que deba comunicarse, así como los formularios, plantillas y procedimientos para la comunicación de la información por las autoridades co', 'expected_summary': 'Distribución transfronteriza de organismos de inversión colectiva\\nDistribución transfronteriza de organismos de inversión colectiva\\n \\nSÍNTESIS DEL DOCUMENTO:\\nReglamento (UE) 2019/1156 por el que se facilita la distribución transfronteriza de organismos de inversión colectiva y por el que se modifican los Reglamentos (UE) n.° 345/2013, (UE) n.° 346/2013 y (UE) n.° 1286/2014\\n¿CUÁL ES EL OBJETIVO DE ESTE REGLAMENTO?\\nEstablece normas uniformes para la regulación nacional relativas a los requisitos de comercialización para organismos de inversión colectiva (o «fondos de inversión») y a las comunicaciones publicitarias dirigidas a inversores, a fin de mejorar la eficiencia del mercado en el marco del establecimiento de la unión de los mercados de capitales de la UE.\\nAdemás, establece un enfoque común en materia de tasas y cargas impuestas a los gestores de fondos de inversión en relación con sus actividades transfronterizas, y propone una base de datos central sobre la comercialización transfronteriza de organismos de inversión colectiva.\\nPUNTOS CLAVE\\nEl Reglamento se aplica a:gestores* de fondos de inversión alternativos (FIA)*; sociedades de gestión de organismos de inversión colectiva en valores mobiliarios (OICVM)*, incluidos aquellos OICVM que no hayan designado una sociedad de gestión de OICVM; gestores de fondos de capital de riesgo europeos (FCRE)*, y gestores de fondos de emprendimiento social europeos (FESE)*.Comunicaciones publicitariasLos gestores de FIA, FCRE, FESE y OICVM, así como las sociedades de gestión de OICVM, deben garantizar que todas las comunicaciones publicitarias dirigidas a los inversores puedan identificarse como tales y describan los riesgos y los posibles beneficios de adquirir participaciones o acciones de un FIA o participaciones de un OICVM de manera igualmente destacada. Las comunicaciones publicitarias deben:ser imparciales, claras y no engañosas;indicar que existe un folleto y que están disponibles los datos fundamentales para el inversor, y especificar dónde, cómo y en qué lengua los inversores pueden obtener el folleto y los datos fundamentales;especificar dónde, cómo y en qué lengua los inversores pueden obtener un resumen de los derechos de los inversores, que deberá incluir, cuando proceda, información sobre el acceso a los mecanismos de recurso colectivo a escala nacional y de la UE en caso de litigio;contener información clara que indique que el gestor o la sociedad de gestión pueden decidir poner fin a la comercialización de su fondo de inversión. Las autoridades competentes mantendrán en sus sitios web información actualizada y completa sobre las disposiciones legales, reglamentarias y administrativas nacionales y sus resúmenes, por los que se rigen los FIA y OICVM, en una lengua habitual en el ámbito de las finanzas internacionales. Para verificar el cumplimiento del presente Reglamento y de las disposiciones nacionales relativas a los requisitos de comercialización, las autoridades competentes pueden exigir la notificación previa de las comunicaciones publicitarias que las sociedades de gestión de OICVM tengan intención de utilizar directa o indirectamente en sus relaciones con los inversores.Tasas y cargasLos principios comunes relativos a las tasas y cargas impuestas por las autoridades competentes a los gestores de organismos de inversión colectiva por sus actividades transfronterizas deben ser consistentes con los costes globales de la autoridad competente. A más tardar el 2 de febrero de 2022, la Autoridad Europea de Valores y Mercados (ESMA) deberá hacer pública en su sitio web una herramienta interactiva que permitirá realizar un cálculo indicativo de las tasas o las cargas.Base de datos central\\nEl Reglamento introduce también una base de datos central relativa a la comercialización internacional de FIA y OICVM en la UE. La ESMA deberá publicar esta base de datos en su sitio web a más tardar el 2 de febrero de 2022, en una lengua habitual en el ámbito de las finanzas internacionales.\\nPrecomercialización*\\nEl Reglamento introduce normas relativas a la precomercialización de fondos FCRE y FESE a partir del 2 de agosto de 2021, de acuerdo con las establecidas por la Directiva (UE) 2019/1160 para los fondos de inversión alternativos. Las normas tienen como objetivo permitir que los gestores se dirijan a los inversores tanteando su interés en futuras oportunidades o estrategias de inversión por medio de fondos de capital de riesgo y fondos de emprendimiento social admisibles.\\nElaboración de informes\\nLas autoridades competentes deberán informar a la ESMA sobre las comunicaciones publicitarias a más tardar el 31 de marzo de 2021 y posteriormente cada dos años; deberán destacar el número de solicitudes de enmiendas de las comunicaciones publicitarias, distinguir claramente las infracciones más frecuentes y aportar ejemplos.\\nEvaluación\\nA más tardar el 2 de agosto de 2024, la Comisión Europea realizará una evaluación de la aplicación del Reglamento por medio de consultas públicas y conversaciones con la ESMA y las autoridades competentes.\\n¿A PARTIR DE CUÁNDO ESTÁ EN VIGOR EL REGLAMENTO?\\nEstá en vigor desde el 1 de agosto de 2019. Los apartados 1 a 5 del artículo 4, relativos a la información de comercialización, los apartados 1 y 2 del artículo 5, relativos a los sitios web de las autoridades competentes, y los artículos 15 y 16, relativos a las enmiendas de la legislación previa en materia de precomercialización de fondos FCRE y FESE entrarán en vigor el 2 de agosto de 2021.\\nANTECEDENTES\\nVéase también:Fondos de inversión (Comisión Europea) OICVM: organismos de inversión colectiva en valores mobiliarios (Comisión Europea) Autoridad Europea de Valores y Mercados (ESMA).\\nTÉRMINOS CLAVE\\nGestor de fondo de inversión alternativo (GFIA): persona jurídica cuya actividad empresarial regular consiste en la gestión de uno o más FIA.\\nFondo de inversión alternativo (FIA): un organismo de inversión colectiva (fondo de inversión) que obtiene su capital de varios inversores con vistas a invertirlo de conformidad con una política de inversión definida en beneficio de dichos inversores y que no requiere autorización en virtud el artículo 5 de la Directiva 2009/65/CE (Directiva OICVM). Entre ellos figuran los fondos FCRE, FESE y FILPE*.\\nOrganismo de inversión colectiva en valores mobiliarios (OICVM): un organismo de inversión colectiva (o «fondo de inversión») que invierte en valores mobiliarios, p. ej. en acciones, bonos, acciones y bonos, instrumentos del Tesoro a corto plazo y efectivo.\\nFondo de capital de riesgo europeo (FCRE): una denominación establecida por el reglamento (UE) n.o 345/2013 que permite a los gestores configurar y comercializar sus fondos por toda la UE con arreglo a un único conjunto de normas.\\nFondo de emprendimiento social europeo (FESE): una denominación establecida por el Reglamento (UE) n.o 346/2013 diseñada para identificar los fondos orientados a las empresas sociales europeas, para que les resulte más fácil atraer inversión.\\nPrecomercialización: provisión de información o comunicación en relación con estrategias o ideas de inversión por parte de un gestor de un fondo de capital de riesgo admisible para potenciales inversores en la UE a fin de tantear su interés en un fondo de capital de riesgo admisible que aún no se haya establecido.\\nFondos de inversión a largo plazo europeos (FILPE): establecidos por el Reglamento (UE) 2015/760, se trata de instrumentos pensados para gestores de fondos de inversión que quieren ofrecer inversiones a largo plazo a inversores institucionales y privados de toda Europa. Se centran en tipos concretos de proyectos que exigen una financiación a largo plazo para desarrollarse con éxito, pero a los que les cuesta conseguir financiación.\\nDOCUMENTO PRINCIPAL\\nReglamento (UE) 2019/1156 del Parlamento Europeo y del Consejo, de 20 de junio de 2019, por el que se facilita la distribución transfronteriza de organismos de inversión colectiva y por el que se modifican los Reglamentos (UE) n.° 345/2013, (UE) n.° 346/2013 y (UE) n.° 1286/2014 (DO L 188 de 12.7.2019, pp. 55-66).\\nDOCUMENTOS CONEXOS\\nComunicación de la Comisión al Parlamento Europeo, al Consejo, al Comité Económico y Social Europeo y al Comité de las Regiones: Plan de acción para la creación de un mercado de capitales [COM(2015) 468 final, 30.9.2015].\\nReglamento (UE) 2015/760 del Parlamento Europeo y del Consejo, de 29 de abril de 2015, sobre los fondos de inversión a largo plazo europeos (DO L 123 de 19.5.2015, pp. 98-121).\\nReglamento (UE) n.o 1286/2014 del Parlamento Europeo y del Consejo, de 26 de noviembre de 2014, sobre los documentos de datos fundamentales relativos a los productos de inversión minorista vinculados y los productos de inversión basados en seguros (DO L 352 de 9.12.2014, pp. 1-23).\\nLas sucesivas modificaciones al Reglamento (UE) n.o 1286/2014 se han incorporado al texto original. Esta versión consolidada tiene un valor meramente documental.\\nComunicación de la Comisión al Parlamento Europeo, al Consejo, al Banco Central Europeo, al Comité Económico y Social Europeo, al Comité de las Regiones y al Banco Europeo de Inversiones: Un Plan de Inversiones para Europa [COM(2014) 903 final de 26.11.2014].\\nReglamento (UE) n.o 346/2013 del Parlamento Europeo y del Consejo, de 17 de abril de 2013, sobre los fondos de emprendimiento social europeos (DO L 115 de 25.4.2013, pp. 18-38).\\nVéase la versión consolidada.\\nReglamento (UE) n.o 345/2013 del Parlamento Europeo y del Consejo, de 17 de abril de 2013, sobre los fondos de capital riesgo europeos (DO L 115 de 25.4.2013, pp. 1-17).\\nVéase la versión consolidada.\\nDirectiva 2011/61/UE del Parlamento Europeo y del Consejo, de 8 de junio de 2011, relativa a los gestores de fondos de inversión alternativos y por la que se modifican las Directivas 2003/41/CE y 2009/65/CE y los Reglamentos (CE) n.o 1060/2009 y (UE) n.o 1095/2010 (DO L 174 de 1.7.2011, pp. 1-73).\\nVéase la versión consolidada.\\nReglamento (UE) n.o 1095/2010 del Parlamento Europeo y del Consejo, de 24 de noviembre de 2010, por el que se crea una Autoridad Europea de Supervisión (Autoridad Europea de Valores y Mercados), se modifica la Decisión n.o 716/2009/CE y se deroga la Decisión 2009/77/CE de la Comisión (DO L 331 de 15.12.2010, pp. 84-119).\\nVéase la versión consolidada.\\nDirectiva 2009/65/CE del Parlamento Europeo y del Consejo, de 13 de julio de 2009, por la que se coordinan las disposiciones legales, reglamentarias y administrativas sobre determinados organismos de inversión colectiva en valores mobiliarios (OICVM) (DO L 302 de 17.11.2009, pp. 32-96).\\nVéase la versión consolidada.\\núltima actualización 06.12.2019', 'generated_summary': \":\\nAunque los Estados miembros tienen una gran cantidad de opciones para crear nuevos tipos de FIA, la administración de estas fuentes de capital riesgo y su gestión han sido objeto de debate. Los Estados miembros están buscando formas de mejorar la eficiencia de los sistemas de administración de FIA y evitar las complicaciones generadas por la fragilidad de las instituciones reguladoras de estos fondos. La Directiva 2011/61/UE establece un sistema de administración de los fondos de inversión alternativos que facilita la participación de la sociedad civil en la administración de estos fondos. La Directiva 2011/61/UE también establece un modelo de administración común que permite que las FIA puedan operar sin ser obligadas a dar cuenta al Estado miembro. No obstante, la Directiva 2011/61/UE no ha alcanzado sus objetivos y muchos problemas se han presentado durante los años posteriores, especialmente en relación con el uso correcto del dinero público y con la aplicación de las reglas de la Directiva 2011/61/UE. De acuerdo con los objetivos específicos del presente Proyecto, es necesario implementar nuevas medidas de administración de los fondos de inversión alternativos. En particular, es necesario hacer efectivo un sistema único y coordinado de administración de todos los fondos de inversión alternativos, así como de administración de los fondos de FCRE, FESE y FILPE. Esto permitiría que las FIA pudieran funcionar correctamente de forma segura, de forma transparente y de manera equitativa. Además, sería necesario establecer una nueva lista única de FIA que permitiera a las FIA competir entre sí en términos de calidad. A fin de lograr estos objetivos, se requiere la elaboración de una nueva Directiva. El Proyecto aborda el desarrollo de una nueva Directiva. Se considera importante que todas las instituciones reguladoras existentes de los fondos de inversión alternativos sean adaptadas a estas nuevas condiciones, ya sea mediante modificaciones legales, técnicas o de otros aspectos. Durante los años posteriores, las FIA han tenido que ajustarse a las nuevas condiciones. El Proyecto está diseñado para ayudar a que las FIA sigan siendo las mejores empresas financieras de los Estados :\\nla Notificación Ex Post 2. La Autoridad Competente Exige la Verificación Ex Post 3. La Autoridad Competente Exige la Notificación Ex Post 4. El Estado Miembro de Origen Exige la Verificación Ex Post 5. El Estado Miembro de Origen Exige la Notificación Ex Post 6. El Estado Miembro de Origen Exige la Verificación Ex Post 7. La Autoridad Competente Exige la Verificación Ex Post 8. La Autoridad Competente Exige la Notificación Ex Post 9. La Autoridad Competente Exige la Verificación Ex Post 10. El Estado Miembro de Origen Exige la Verificación Ex Post 11. La Autoridad Competente Exige la Verificación Ex Post 12. La Autoridad Competente Exige la Verificación Ex Post 13. La Autoridad Competente Exige la Verificación Ex Post 14. La Autoridad Competente Exige la Verificación Ex Post 15. La Autoridad Competente Exige la Verificación Ex Post 16. La Autoridad Competente Exige la Verificación Ex Post 17. La Autoridad Competente Exige la Verificación Ex Post 18. La Autoridad Competente Exige la Verificación Ex Post 19. La Autoridad Competente Exige la Verificación Ex Post 20. La Autoridad Competente Exige la Verificación Ex Post 21. La Autoridad Competente Exige la Verificación Ex Post 22. La Autoridad Competente Exige la Verificación Ex Post 23. La Autoridad Competente Exige la Verificación Ex Post 24. La Autoridad Competente Exige la Verificación Ex Post 25. La Autoridad Competente Exige la Verificación Ex Post 26. La Autoridad Competente Exige la Verificación Ex Post 27. La Autoridad Competente Exige la Verificación Ex Post 28. La Autoridad Competente Exige la Verificación Ex Post 29. La Autoridad Competente Exige la Verificación Ex Post 30. La Autoridad Competente Exige la Verificación Ex Post 31. La Autoridad Competente Exige la Verificación Ex Post 32. La Autoridad Competente Exige la Verificación Ex Post 33. La Autoridad Competente Ex :\\nLa Comisión ha considerado que es necesario modificar el Reglamento (UE) 2019/1156 para adaptarlo a los cambios que han ocurrido en el ámbito del mercado de valores en la Comunidad y así dar respuesta a los desafíos y oportunidades de la financiación de la economía española. Los objetivos del Reglamento son:\\n\\n-\\tContribuir a un mercado de valorales competitivo y eficiente\\n-\\tAceptar mejor la calidad de la información e información de mercado disponible a todos los participantes de la financiación de la economía española, especialmente a las instituciones financieras, los inversores y los inversores públicos\\n-\\tTraer a la sociedad un mayor grado de control sobre sus inversiones\\n-\\tComunicar mejor las inversiones a los inversionistas y promover la colaboración entre las entidades de capital y las entidades de inversión\\n\\nEstos objetivos no son alcanzables sin cambiar el Reglamento. Los siguientes puntos explican los cambios principales en el Reglamento.\\n\\n### Respuesta del Ejecutivo:\\n\\n#### Modificación de la definición de 'organismo de inversión'\\nEl Reglamento establece dos tipos de 'organismos de inversión colectiva': los fondos de capital riesgo europeos (FCDRE) y los fondos de emprendimiento social europeos (FDES). El Reglamento (UE) n.o 345/2013 estableció las características comunes a ambos tipos de FCDRE, pero limitó la aplicación del mismo a los fondos de capital riesgo europeos (FCDRE). En cambio, el Reglamento (UE) n.o 346/2013 se abría paso al concepto de FDES.\\nPara introducir esta nueva categoría, se ha creado un nuevo apartado 4, que se llama 'Organismos de inversión colectiva' (OICVM). La primera parte del apartado se refiere al tipo de OICVM, mientras que la segunda parte trata sobre la estructura de cada OICVM, la participación de los miembros en ellos y su situación jurídica. La tercera parte del apartado se centra en el sistema de supervisión de los OICVM y se refiere a las obligaciones y responsabilidades de los organismos de inversión.\\nPor último, el Reglamento -\\nComunidades Económicas Unidas - Comunicación (ECON) 2017; 303 :\\nLa AEVM es responsable de la base de datos central y de las notificaciones. El portafolio de notificaciones podrá estar disponible tanto en el idioma nacional de los estados miembros como en otros lenguajes. Además de dicha información, la AEVM puede ofrecer a los Estados miembros informes de las políticas de comercialización de OICVM y FIA. Esta información podrá estar disponible en una lengua común o en otra que sea preferida por los Estados miembros. En caso de que se aplique el Reglamento (UE) n.o 1095/2010, la AEVM podrá tener acceso a la base de datos central que contiene información relativa a las actividades de comercialización de FIA y OICVM y a la información necesaria para la operación de la AEVM. La AEVM también puede obtener información sobre las notificaciones enviadas a través de Internet, en particular, las solicitudes de notificación y la información adicional que contiene. La AEVM puede tener acceso a los registros de notificación de las autoridades competentes, los hiperenlaces a los sitios web de las autoridades competentes y la información que contiene. La AEVM no puede realizar consultas de datos personales ni solicitar a los Estados miembros información sobre las notificaciones de la AEVM. En ningún caso, la AEVM podrá tener acceso a la información del mercado internacional. Para la aplicación de la Directiva 2011/61/UE, la AEVM será responsable de la notificación a través de Internet. Los Estados miembros tendrán derecho a solicitar información específica sobre las actividades de comercialización de OICVM y FIA y de los Estados miembros en los que se comercialice dicha actividad. Los Estados miembros podrán solicitar información sobre los resultados financieros de la AEVM. La AEVM ha recibido un paquete de recomendaciones, que han sido incorporadas en el presente Reglamento. Los Estados miembros tendrán derecho a consultar, modificar o rechazar las recomendaciones incluidas en el paquete. Las autoridades competentes deberán responder a las consultas de los Estados miembros antes de que la consulta se celebre. En el caso de que las autoridades competentes hayan determinado que no sería posible proporcionar información a los Estados miembros, la AEVM puede ofrecer un servicio de ayuda financiera gratuita. Cada Estado miembro  :\\nConviene recordar que la Comisión ha acordado aprobar una lista de productos con características similares. Por lo tanto, los efectos de dicha lista deben ser analizados en función de la naturaleza del producto, así como de la naturaleza de las inversiones previstas para poder hacerse con él. Los objetivos de esta lista son reducir la competencia entre los mercados y mejorar la eficiencia de los mercados financieros, y por ende aumentar la disponibilidad de recursos financieros. Para ello, se ha dispuesto a evaluar las posibilidades de la creación de un mercado competitivo basándose en una evaluación del impacto de la lista en relación con la demanda y la oferta de los productos listos para negociar. El análisis es complejo debido a la amplia variedad de productos de alto riesgo que incluye las inversiones en fondos de emprendimiento social. Sin embargo, la evaluación del impacto de la lista debe estar orientada a identificar y mitigar los riesgos potenciales asociados con la venta de estos productos y asegurar la seguridad financiera de los inversores. La evaluación debe centrarse en la importancia de la lista en términos de los efectos económicos y de la calidad de vida de los usuarios y en la capacidad de los inversores de tomar medidas adecuadas en respuesta a la situación de la economía. Las recomendaciones a implementar para evitar el riesgo asociado con las inversiones en fondos de emprendimiento social deben ser tomadas en cuenta para garantizar la seguridad financiera de los inversores y asegurarse de que los productos están protegidos contra los riesgos potenciales. Esta evaluación debe tener en cuenta también la capacidad de los inversores para invertir en estos productos y la capacidad de los inversores para manejarlos correctamente, ya que esto puede influenciar el impacto de las inversiones en estos productos y puede afectar la calidad de vida de los usuarios. Este tipo de evaluación debería incluir una evaluación de las consecuencias positivas y negativas de las inversiones en los productos de estas listas, así como la probabilidad de que se produzcan otros problemas o amenazas en términos de precios, de rendimientos, de volatilidad o de otras condiciones. También se debe considerar la duración del proceso de negociación y la cantidad de dinero :\\nLa Comunidad Europea tiene que apoyar a los inversores mediante medidas de protección contra los contratos ilegales o malos practicados en los negocios financieros. Por ejemplo, la Comisión debe promover que los inversores tienen acceso a la información preciso sobre los riesgos asociados a los contratos financieros. También debe contribuir a que los inversores tengan acceso a información preciso sobre los beneficios de los contratos financieros. Esto significa que la Comisión debe estar disponible para proporcionar información sobre el mercado financiero y sobre los instrumentos de inversion que se utilizan en el mercado y poder hacer referencia a los resultados de los estudios de mercado relacionados con los instrumentos de inversión. Además, la Comisión debe tener la capacidad para proporcionar información sobre el mercado financiero y sobre los instrumentos de inversión en función de la necesidad del inversore. Esta información debería ser objetiva y precisa, independientemente de la condición del inversore. La Comisión debe disponer de un sitio web en español y en inglés para los inversores, así como una base de datos pública que contenga la información previa a los contratos financieros y la información del mercado financiero. También es necesario que se realice un seguimiento periódico de los contratos financieros realizados por los inversores, lo cual podría hacerse mediante la asignación de un responsable responsable en cada país. En definitiva, la Comisión debe ser capaz de proporcionar información objetiva y precisa sobre el mercado financiero y sobre los instrumentos de inversión. 4.  La Comisión también debe ser capaz de ofrecer la posibilidad de realizar consultas a los inversores. Para ello, la Comisión puede solicitar a los inversores que realicen consultas a través de correo electrónico, visitando sitios web de la Comisión o en persona. 5.  Los inversores podrían consultar información sobre los instrumentos de inversión en una consulta de contacto de la Comisión o por medio de otro medio de comunicación que se considere apropiado, tal vez con la ayuda de un profesional. 6.  La Comisión podrá dar a conocer información sobre las políticas de la Comisión, en particular sobre el mercado financiero y los instrumentos de inversión, a los inversores. 7.  La Comisión puede solicitar información sobre las actividades de los inversores de acuerdo con el Reglamento (\", 'language': 'spanish', 'time': 20.31698513031006, 'text': '<|im_start|>system\\nEres un modelo entrenado para generar resúmenes institucionales de actas parlamentarias. Los resúmenes deben estar redactados en lenguaje formal-administrativo, sin juicios de valor, y seguir una estructura clara.<|im_end|>\\n<|im_start|>user\\nRedacta un resumen institucional en español del siguiente documento. Mantén un lenguaje objetivo, enfocado en los hechos y acuerdos:\\n12.7.2019\\nES\\nDiario Oficial de la Unión Europea\\nL 188/55\\nREGLAMENTO (UE) 2019/1156 DEL PARLAMENTO EUROPEO Y DEL CONSEJO\\nde 20 de junio de 2019\\npor el que se facilita la distribución transfronteriza de organismos de inversión colectiva y por el que se modifican los Reglamentos (UE) n.o 345/2013, (UE) n.o 346/2013 y (UE) n.o 1286/2014\\n(Texto pertinente a efectos del EEE)\\nEL PARLAMENTO EUROPEO Y EL CONSEJO DE LA UNIÓN EUROPEA,\\nVisto el Tratado de Funcionamiento de la Unión Europea, y en particular su artículo 114,\\nVista la propuesta de la Comisión Europea,\\nPrevia transmisión del proyecto de acto legislativo a los Parlamentos nacionales,\\nVisto el dictamen del Comité Económico y Social Europeo (1),\\nDe conformidad con el procedimiento legislativo ordinario (2),\\nConsiderando lo siguiente:\\n(1)\\nLas divergencias en los enfoques normativos y de supervisión por lo que respecta a la distribución transfronteriza de fondos de inversión alternativos (FIA), tal y como se definen en la Directiva 2011/61/UE del Parlamento Europeo y del Consejo (3), incluidos los fondos de capital riesgo europeos (FCRE), tal y como se definen en el Reglamento (UE) n.o 345/2013 del Parlamento Europeo y del Consejo (4), los fondos de emprendimiento social europeos (FESE), tal y como se definen en el Reglamento (UE) n.o 346/2013 del Parlamento Europeo y del Consejo (5), y los fondos de inversión a largo plazo europeos (FILPE), tal y como se definen en el Reglamento (UE) 2015/760 del Parlamento Europeo y del Consejo (6), y de organismos de inversión colectiva en valores mobiliarios (OICVM), conforme se definen en la Directiva 2009/65/CE del Parlamento Europeo y del Consejo (7), tienen como resultado la fragmentación y obstaculización de la comercialización y el acceso transfronterizos de los FIA y los OICVM, lo que a su vez podría impedirles ser comercializados en otros Estados miembros. Un OICVM puede gestionarse de manera externa o interna en función de su forma jurídica. Toda disposición del presente Reglamento relativa a las sociedades de gestión del OICVM debe aplicarse tanto a las empresas cuya actividad habitual es la gestión de OICVM como a cualquier OICVM que no haya designado una sociedad de gestión del OICVM.\\n(2)\\nPara mejorar el marco normativo aplicable a los organismos de inversión colectiva y proteger mejor a los inversores, las comunicaciones publicitarias dirigidas a inversores de FIA y OICVM deben ser identificables como tales y deben describir los riesgos y los beneficios de adquirir participaciones o acciones de un FIA o un OICVM de manera igualmente destacada. Además, toda la información incluida en las comunicaciones publicitarias dirigidas a los inversores debe presentarse de forma imparcial, clara y no engañosa. Con el fin de salvaguardar la protección de los inversores y garantizar unas condiciones de competencia equitativas entre los FIA y los OICVM, las normas relativas a las comunicaciones publicitarias deben aplicarse a las comunicaciones publicitarias de los FIA y los OICVM.\\n(3)\\nLas comunicaciones publicitarias dirigidas a inversores de FIA y OICVM deben especificar dónde, cómo y en qué idioma pueden obtener los inversores información resumida sobre sus derechos como inversores e indicar claramente que el GFIA, el gestor de FCRE, el gestor de FESE o la sociedad de gestión del OICVM (conjuntamente, «gestores de organismos de inversión colectiva») tiene derecho a poner fin a las disposiciones adoptadas para la comercialización.\\n(4)\\nA fin de reforzar la transparencia y la protección de los inversores, así como para facilitar el acceso a la información sobre las disposiciones legales, reglamentarias y administrativas nacionales en materia de comunicaciones publicitarias, las autoridades competentes deben publicar dichos textos en sus sitios web en al menos una lengua habitual en el ámbito de las finanzas internacionales, incluido su resumen no oficial, lo que permitiría a los gestores de organismos de inversión colectiva obtener un panorama general sobre dichas disposiciones legales, reglamentarias y administrativas. La publicación debe responder exclusivamente a fines informativos sin crear obligaciones jurídicas. Por los mismos motivos, la Autoridad Europea de Supervisión (Autoridad Europea de Valores y Mercados) establecida en el Reglamento (UE) n.o 1095/2010 del Parlamento Europeo y del Consejo (8) (AEVM) debe crear una base de datos central que contenga resúmenes de los requisitos nacionales relativos a las comunicaciones publicitarias e hiperenlaces a la información publicada en los sitios web de las autoridades competentes.\\n(5)\\nA fin de fomentar las buenas prácticas en materia de protección de los inversores establecidas en los requisitos nacionales para que las comunicaciones publicitarias presenten información imparcial y clara, incluidos los aspectos en línea de dichas comunicaciones publicitarias, la AEVM debe publicar directrices sobre la aplicación de dichos requisitos relativos a las comunicaciones publicitarias.\\n(6)\\nLas autoridades competentes deben poder exigir la notificación previa de las comunicaciones publicitarias para realizar una verificación ex ante de la conformidad de esas comunicaciones con el presente Reglamento y otros requisitos aplicables, por ejemplo, si las comunicaciones publicitarias son identificables como tales, si describen los riesgos y los beneficios que supone la adquisición de participaciones de un OICVM y, en el caso de que un Estado miembro permita la comercialización de FIA a inversores minoristas, los riesgos y los beneficios que supone la adquisición de participaciones o acciones de una forma igualmente destacada y si toda la información que figura en las comunicaciones publicitarias se presenta de forma imparcial, clara y no engañosa. Dicha verificación debe llevarse a cabo en un plazo limitado. Cuando las autoridades competentes exijan la notificación previa, ello no excluirá la posible verificación ex post de las comunicaciones publicitarias.\\n(7)\\nLas autoridades competentes deben informar a la AEVM de los resultados de dichas verificaciones, de las solicitudes de modificación y de cualquier sanción impuesta a los gestores de organismos de inversión colectiva. Con el fin de aumentar la sensibilización y la transparencia sobre las normas aplicables a las comunicaciones publicitarias, por un lado, y de garantizar la protección de los inversores, por otro lado, la AEVM debe preparar y enviar cada dos años al Parlamento Europeo, al Consejo y a la Comisión un informe sobre dichas normas y su aplicación práctica sobre la base de las verificaciones ex ante y ex post de las comunicaciones publicitarias por parte de las autoridades competentes.\\n(8)\\nPara garantizar la igualdad de trato de los gestores de organismos de inversión colectiva y facilitar su toma de decisiones acerca de la conveniencia de emprender la distribución transfronteriza de fondos de inversión, es importante que las tasas y cargas aplicadas por las autoridades competentes por la supervisión de las actividades transfronterizas sean proporcionadas a las tareas de supervisión llevadas a cabo y se hagan públicas, y que, con el objeto de aumentar la transparencia, publiquen en los sitios web de las autoridades competentes esas tasas y cargas. Por la misma razón, los hiperenlaces a la información publicada en los sitios web de las autoridades competentes relativa a las tasas y cargas deben publicarse en el sitio web de la AEVM a fin de disponer de un punto central de información. El sitio web de la AEVM también debe incluir una herramienta interactiva que permita calcular de forma orientativa dichas tasas y cargas aplicadas por las autoridades competentes.\\n(9)\\nA fin de garantizar un mejor cobro de las tasas o cargas y de aumentar la transparencia y la claridad de su estructura, cuando dichas tasas o cargas sean aplicadas por las autoridades competentes, los gestores de organismos de inversión colectiva deben recibir una factura, una declaración de pago individual o una orden de pago donde se establezca claramente el importe de las tasas o cargas aplicables y los medios de pago.\\n(10)\\nPuesto que, de conformidad con el Reglamento (UE) n.o 1095/2010, la AEVM debe supervisar y evaluar la evolución del mercado dentro de su ámbito de competencia, es adecuado y necesario mejorar el conocimiento de la AEVM, ampliando las bases de datos de que actualmente dispone a fin de incluir una base de datos central que enumere todos los FIA y OICVM que se comercializan a nivel transfronterizo, los gestores de dichos organismos de inversión colectiva, así como los Estados miembros en los que tiene lugar dicha comercialización. A tal fin, y para que la AEVM pueda mantener actualizada la base de datos central, las autoridades competentes deben transmitir a la AEVM información sobre las notificaciones, los escritos de notificación y la información que hayan recibido en virtud de las Directivas 2009/65/CE y 2011/61/UE en relación con la actividad de comercialización transfronteriza, así como sobre cualquier cambio que afecte a dicha información que deba reflejarse en dicha base de datos. A este respecto, la AEVM debe crear un portal de notificación en el que las autoridades competentes carguen todos los documentos relativos a la distribución transfronteriza de los OICVM y los FIA.\\n(11)\\nPara garantizar unas condiciones de competencia equitativas entre los fondos de capital riesgo admisibles, tal como se definen en el Reglamento (UE) n.o 345/2013, o los fondos de emprendimiento social admisibles, tal como se definen en el Reglamento (UE) n.o 346/2013, por una parte, y otros FIA, por otra, es necesario incluir en dichos Reglamentos normas en materia de precomercialización que sean idénticas a las normas sobre precomercialización establecidas en la Directiva 2011/61/UE. Dichas normas deben permitir a los gestores registrados de conformidad con esos Reglamentos dirigirse a los inversores comprobando su interés ante próximas oportunidades o estrategias de inversión a través de fondos de capital riesgo admisibles y fondos de emprendimiento social admisibles.\\n(12)\\nDe conformidad con el Reglamento (UE) n.o 1286/2014 del Parlamento Europeo y del Consejo (9), determinadas sociedades y personas a que se refiere el artículo 32 de dicho Reglamento están exentas hasta el 31 de diciembre de 2019 de las obligaciones establecidas en el citado Reglamento. Dicho Reglamento también establece que la Comisión debe revisarlo antes del 31 de diciembre de 2018, con objeto de evaluar, entre otros aspectos, si este período transitorio de exención debe prolongarse o si, tras la determinación de los ajustes necesarios, las disposiciones sobre los datos fundamentales para el inversor de la Directiva 2009/65/CE deben ser sustituidas o considerarse equivalentes al documento de datos fundamentales para el inversor previsto en el citado Reglamento.\\n(13)\\nA fin de permitir a la Comisión que realice la revisión de conformidad con el Reglamento (UE) n.o 1286/2014 tal como se había previsto originalmente, la fecha límite para dicha revisión debe ampliarse doce meses. La comisión competente del Parlamento Europeo debe apoyar el proceso de revisión de la Comisión organizando una audiencia sobre el tema con los grupos de interés relevantes que representan los intereses del sector y de los consumidores.\\n(14)\\nA fin de evitar que los inversores reciban dos documentos distintos de comunicación previa, a saber, un documento de datos fundamentales para el inversor (KIID, por sus siglas en inglés) como exige la Directiva 2009/65/CE y un documento de datos fundamentales relativo a los productos de inversión minorista empaquetados (PRIIP, por sus siglas en inglés) como exige el Reglamento (UE) n.o 1286/2014, para el mismo organismo de inversión colectiva, durante la adopción y aplicación de los actos legislativos que resulten de la revisión de la Comisión de conformidad con dicho Reglamento, el período transitorio de exención derivado de las obligaciones en virtud del citado Reglamento debe prorrogarse veinticuatro meses. Sin perjuicio de dicha prórroga, todas las instituciones y autoridades de supervisión implicadas procurarán actuar tan rápido como sea posible para facilitar la finalización de dicho período transitorio de exención.\\n(15)\\nConviene conferir a la Comisión competencias para adoptar las normas técnicas de ejecución, elaboradas por la AEVM, con respecto a los modelos normalizados, plantillas y procedimientos para la publicación y notificación por las autoridades competentes de las disposiciones legales, reglamentarias y administrativas nacionales en materia de requisitos de comercialización aplicables en sus territorios, junto con un resumen de las mismas, los niveles de las tasas o cargas aplicados por actividades de comercialización transfronteriza y, cuando proceda, los correspondientes métodos de cálculo. Además, con el fin de mejorar la transmisión a la AEVM, también deben adoptarse normas técnicas de ejecución relativas a las notificaciones, los escritos de notificación y la información sobre las actividades de comercialización transfronterizas que exigen las Directivas 2009/65/CE y 2011/61/UE y las disposiciones técnicas necesarias para el funcionamiento del portal de notificaciones que ha de establecer la AEVM. La Comisión debe adoptar dichas normas técnicas de ejecución mediante actos de ejecución en virtud del artículo 291 del Tratado de Funcionamiento de la Unión Europea (TFUE) y de conformidad con el artículo 15 del Reglamento (UE) n.o 1095/2010.\\n(16)\\nEs necesario especificar qué información debe comunicarse cada trimestre a la AEVM, a fin de mantener actualizadas las bases de datos de todos los organismos de inversión colectiva y de sus gestores.\\n(17)\\nTodo tratamiento de datos personales realizado en el marco del presente Reglamento, como el intercambio o la transmisión de datos personales por las autoridades competentes, debe atenerse a lo dispuesto en el Reglamento (UE) 2016/679 del Parlamento Europeo y del Consejo (10), y todo intercambio o transmisión de información por la AEVM debe atenerse a lo dispuesto en el Reglamento (UE) 2018/1725 del Parlamento Europeo y del Consejo (11).\\n(18)\\nCon el fin de habilitar a las autoridades competentes para ejercer las funciones que les atribuye el presente Reglamento, los Estados miembros deben velar por que esas autoridades cuenten con todas las competencias de supervisión e investigación necesarias.\\n(19)\\nA más tardar el 2 de agosto de 2024, la Comisión debe realizar una evaluación de la aplicación del presente Reglamento. Dicha evaluación debe tener en cuenta la evolución del mercado y valorar si las medidas introducidas han mejorado la distribución transfronteriza de organismos de inversión colectiva.\\n(20)\\nA más tardar el 2 de agosto de 2021, la Comisión publicará un informe sobre la comercialización pasiva y la demanda por propia iniciativa de un inversor, donde se especifique el alcance de esta forma de suscripción de fondos, su distribución geográfica, incluidos los terceros países, y su repercusión en el régimen de pasaporte.\\n(21)\\nPara garantizar la seguridad jurídica, es necesario sincronizar las fechas de aplicación de las disposiciones legales, reglamentarias y administrativas nacionales por las que se aplique la Directiva (UE) 2019/1160 del Parlamento Europeo y del Consejo (12) y del presente Reglamento en lo que se refiere a las disposiciones sobre comunicaciones publicitarias y precomercialización.\\n(22)\\nDado que el objetivo del presente Reglamento, a saber, el aumento de la eficiencia del mercado mientras se establece la creación de la unión de mercados de capitales, no puede ser alcanzado de manera suficiente por los Estados miembros, sino que, debido a sus efectos, puede lograrse mejor a escala de la Unión, esta puede adoptar medidas, de acuerdo con el principio de subsidiariedad establecido en el artículo 5 del Tratado de la Unión Europea. De conformidad con el principio de proporcionalidad establecido en el mismo artículo, el presente Reglamento no excede de lo necesario para alcanzar dicho objetivo.\\nHAN ADOPTADO EL PRESENTE REGLAMENTO:\\nArtículo 1\\nObjeto\\nEl presente Reglamento establece un conjunto de normas uniformes sobre la publicación de disposiciones nacionales relativas a los requisitos de comercialización de los organismos de inversión colectiva y sobre las comunicaciones publicitarias dirigidas a los inversores, así como los principios comunes en materia de tasas y cargas impuestas a los gestores de organismos de inversión colectiva en relación con sus actividades transfronterizas. Dispone asimismo la creación de una base de datos central sobre la comercialización transfronteriza de organismos de inversión colectiva.\\nArtículo 2\\nÁmbito de aplicación\\nEl presente Reglamento se aplicará a:\\na)\\nlos gestores de fondos de inversión alternativos;\\nb)\\nlas sociedades de gestión de OICVM, incluida cualquier OICVM que no haya designado una sociedad de gestión del OICVM;\\nc)\\nlos gestores de FCRE, y\\nd)\\nlos gestores de FESE.\\nArtículo 3\\nDefiniciones\\nA los efectos del presente Reglamento, se entenderá por:\\na)   «fondos de inversión alternativos» o «FIA»: los FIA tal como se definen en el artículo 4, apartado 1, letra a), de la Directiva 2011/61/UE, incluidos los FCRE, FESE y FILPE;\\nb)   «gestores de fondos de inversión alternativos» o «GFIA»: los GFIA tal como se definen en el artículo 4, apartado 1, letra b), de la Directiva 2011/61/UE, y que estén autorizados de conformidad con el artículo 6 de dicha Directiva;\\nc)   «gestor de FCRE»: un gestor de fondos de capital riesgo admisible tal como se define en el artículo 3, párrafo primero, letra c), del Reglamento (UE) n.o 345/2013, y que esté registrado de conformidad con el artículo 14 de dicho Reglamento;\\nd)   «gestor de FESE»: un gestor de un fondo de emprendimiento social admisible tal como se define en el artículo 3, apartado 1, letra c), del Reglamento (UE) n.o 346/2013 y que esté registrado de conformidad con el artículo 15 de dicho Reglamento;\\ne)   «autoridades competentes»: autoridades competentes tal como se definen en el artículo 2, apartado 1, letra h), de la Directiva 2009/65/CE, o en el artículo 4, apartado 1, letra f), de la Directiva 2011/61/UE o autoridades competentes del FIA de la UE tal como se definen en el artículo 4, apartado 1, letra h), de la Directiva 2011/61/UE;\\nf)   «Estado miembro de origen»: el Estado miembro en el que el GFIA, el gestor de FCRE, el gestor de FESE o la sociedad de gestión del OICVM tenga su domicilio social;\\ng)   «OICVM»: un OICVM autorizado de conformidad con el artículo 5 de la Directiva 2009/65/CE;\\nh)   «sociedad de gestión de un OICVM»: una sociedad de gestión tal como se define en el artículo 2, apartado 1, letra b), de la Directiva 2009/65/CE.\\nArtículo 4\\nRequisitos relativos a las comunicaciones publicitarias\\n1.   Los GFIA, los gestores de FCRE, los gestores de FESE y las sociedades de gestión de OICVM se asegurarán de que todas las comunicaciones publicitarias dirigidas a los inversores sean identificables como tales, y que describan los riesgos y los beneficios de la adquisición de participaciones o acciones de un FIA o de participaciones de un OICVM de manera igualmente destacada, y de que toda la información incluida en las comunicaciones publicitarias sea imparcial, clara y no engañosa.\\n2.   Las sociedades de gestión de OICVM se asegurarán de que las comunicaciones publicitarias que contengan información específica sobre un OICVM no contradigan ni menoscaben la importancia de la información contenida en el folleto a que se refiere el artículo 68 de la Directiva 2009/65/CE ni los datos fundamentales para el inversor a que se refiere el artículo 78 de dicha Directiva. Las sociedades de gestión de OICVM se asegurarán de que en todas las comunicaciones publicitarias se indique que existe un folleto y que están disponibles los datos fundamentales para el inversor. Tales comunicaciones publicitarias deberán especificar dónde, cómo y en qué lengua pueden los inversores o inversores potenciales obtener el folleto y los datos fundamentales para el inversor y proporcionarán hiperenlaces o direcciones de sitios web donde encontrar esos documentos.\\n3.   Las comunicaciones publicitarias a que se refiere el apartado 2 deberán especificar dónde, cómo y en qué lengua los inversores o inversores potenciales pueden obtener un resumen de los derechos de los inversores, y proporcionarán un hiperenlace a este resumen, que deberá incluir, si procede, información sobre el acceso a los mecanismos de compensación colectiva a escala de la Unión y nacional en caso de litigio.\\nTales comunicaciones publicitarias incluirán asimismo información clara que indique que el gestor o la sociedad de gestión a que se refiere el apartado 1 del presente artículo puede decidir poner fin a las disposiciones previstas para la comercialización de sus organismos de inversión colectiva de conformidad con el artículo 93 bis de la Directiva 2009/65/CE y el artículo 32 bis de la Directiva 2011/61/UE.\\n4.   Los GFIA, los gestores de FCRE y los gestores de FESE se asegurarán de que las comunicaciones publicitarias que incluyan una invitación a adquirir participaciones o acciones de un FIA que contengan información específica sobre un FIA no contradigan la información que ha de facilitarse a los inversores de conformidad con el artículo 23 de la Directiva 2011/61/UE, con el artículo 13 del Reglamento (UE) n.o 345/2013 o con el artículo 14 del Reglamento (UE) n.o 346/2013, ni menoscaben su importancia.\\n5.   El apartado 2 del presente artículo se aplicará mutatis mutandis a los FIA que publiquen un folleto de conformidad con el Reglamento (UE) 2017/1129 del Parlamento Europeo y del Consejo (13), o de conformidad con la legislación nacional, o que apliquen las normas sobre el formato y el contenido de los datos fundamentales para el inversor a que se refiere el artículo 78 de la Directiva 2009/65/CE.\\n6.   A más tardar el 2 de agosto de 2021, la AEVM emitirá directrices, que deberán ser actualizadas periódicamente, sobre la aplicación de los requisitos relativos a las comunicaciones publicitarias a que se refiere el apartado 1, teniendo en cuenta los aspectos en línea de esas comunicaciones publicitarias.\\nArtículo 5\\nPublicación de las disposiciones nacionales relativas a los requisitos en materia de comercialización\\n1.   Las autoridades competentes publicarán y mantendrán en sus sitios web información actualizada y completa sobre las disposiciones legales, reglamentarias y administrativas nacionales que regulen los requisitos de comercialización aplicables a los FIA y los OICVM, y sus resúmenes, en, como mínimo, una lengua habitual en el ámbito de las finanzas internacionales.\\n2.   Las autoridades competentes notificarán a la AEVM los hiperenlaces a los sitios web de las autoridades competentes donde esté publicada la información a que se refiere el apartado 1.\\nLas autoridades competentes notificarán a la AEVM sin demora indebida cualquier modificación de la información facilitada en virtud del párrafo primero del presente apartado.\\n3.   La AEVM elaborará proyectos de normas técnicas de ejecución para establecer los modelos normalizados, plantillas y procedimientos para las publicaciones y notificaciones previstas en el presente artículo.\\nLa AEVM presentará a la Comisión esos proyectos de normas técnicas de ejecución a más tardar el 2 de febrero de 2021.\\nSe confieren a la Comisión competencias para adoptar las normas técnicas de ejecución a que se refiere el párrafo primero de conformidad con el artículo 15 del Reglamento (UE) n.o 1095/2010.\\nArtículo 6\\nBase de datos central de la AEVM sobre las disposiciones nacionales relativas a los requisitos de comercialización\\nA más tardar el 2 de febrero de 2022, la AEVM publicará y mantendrá en su sitio web una base de datos central que contenga los resúmenes contemplados en el artículo 5, apartado 1, así como los hiperenlaces a los sitios web de las autoridades competentes contemplados en el artículo 5, apartado 2.\\nArtículo 7\\nVerificación ex ante de las comunicaciones publicitarias\\n1.   Con el único fin de verificar el cumplimiento del presente Reglamento y de las disposiciones nacionales relativas a los requisitos de comercialización, las autoridades competentes pueden exigir la notificación previa de las comunicaciones publicitarias que las sociedades de gestión de OICVM tengan intención de utilizar directa o indirectamente en sus relaciones con los inversores.\\nEl requisito de notificación previa a que se refiere el párrafo primero no constituirá una condición previa para la comercialización de participaciones de OICVM y no formará parte del procedimiento de notificación contemplado en el artículo 93 de la Directiva 2009/65/CE.\\nCuando las autoridades competentes exijan la notificación previa tal y como se menciona en el párrafo primero, informarán a la sociedad de gestión del OICVM, en un plazo de diez días hábiles desde la recepción de las comunicaciones publicitarias, de cualquier solicitud de modificación de sus comunicaciones publicitarias.\\nLa notificación previa a que se refiere el párrafo primero podrá ser requerida de forma sistemática o de conformidad con cualquier otra práctica de verificación y se entenderá sin perjuicio de otras competencias de supervisión para verificar las comunicaciones publicitarias ex post.\\n2.   Las autoridades competentes que exijan la notificación previa de las comunicaciones publicitarias establecerán, aplicarán y publicarán en sus sitios web procedimientos para dicha notificación previa. Las normas y procedimientos internos deberán garantizar un trato transparente y no discriminatorio de todos los OICVM, con independencia del Estado miembro en el que estén autorizados.\\n3.   En caso de que los GFIA, los gestores de FCRE o los gestores de FESE comercialicen participaciones o acciones de sus FIA a inversores minoristas, los apartados 1 y 2 se aplicarán, mutatis mutandis, a esos GFIA, gestores de FCRE o gestores de FESE.\\nArtículo 8\\nInforme de la AEVM sobre las comunicaciones publicitarias\\n1.   A más tardar el 31 de marzo de 2021 y cada dos años a partir de esa fecha, las autoridades competentes transmitirán a la AEVM, la información siguiente:\\na)\\nel número de solicitudes de modificación de las comunicaciones publicitarias efectuadas sobre la base de una verificación ex ante, cuando proceda;\\nb)\\nel número de solicitudes de modificación y de decisiones tomadas sobre la base de verificaciones ex post, distinguiendo claramente las infracciones más frecuentes e incluyendo una descripción y la naturaleza de dichas infracciones;\\nc)\\nuna descripción de las infracciones más frecuentes de los requisitos contemplados en el artículo 4, y\\nd)\\nun ejemplo de cada una de las infracciones a que se refieren las letras b) y c).\\n2.   A más tardar el 30 de junio de 2021 y cada dos años a partir de esa fecha, la AEVM remitirá al Parlamento Europeo, al Consejo y a la Comisión un informe en el que presente una perspectiva general de los requisitos de comercialización contemplados en el artículo 5, apartado 1, en todos los Estados miembros y que contenga un análisis de los efectos de las disposiciones legales, reglamentarias y administrativas nacionales que regulan las comunicaciones publicitarias, también sobre la base de la información recibida de conformidad con el apartado 1 del presente artículo.\\nArtículo 9\\nPrincipios comunes en materia de tasas o cargas\\n1.   En los casos en que las tasas o cargas sean aplicadas por las autoridades competentes al ejercer sus funciones en relación con las actividades transfronterizas de los GFIA, los gestores de FCRE, los gestores de FESE y las sociedades de gestión de OICVM, dichas tasas o cargas serán coherentes con los costes globales relacionados con el ejercicio de las funciones de la autoridad competente.\\n2.   Para las tasas o cargas mencionadas en el apartado 1 del presente artículo, las autoridades competentes enviarán una factura, una declaración de pago individual o una orden de pago, estableciendo claramente los medios de pago y la fecha de vencimiento del pago a la dirección a que se refiere el artículo 93, apartado 1, párrafo tercero, de la Directiva 2009/65/CE o en el anexo IV, letra i), de la Directiva 2011/61/UE.\\nArticulo 10\\nPublicación de las disposiciones nacionales relativas a tasas y cargas\\n1.   A más tardar el 2 de febrero de 2020, las autoridades competentes publicarán y mantendrán en sus sitios web información actualizada sobre la lista de las tasas o cargas a que se refiere el artículo 9, apartado 1, o, cuando proceda, los métodos utilizados para calcularlas, en, como mínimo, una lengua habitual en el ámbito de las finanzas internacionales.\\n2.   Las autoridades competentes notificarán a la AEVM los hiperenlaces a los sitios web de las autoridades competentes donde esté publicada la información a que se refiere el apartado 1.\\n3.   La AEVM elaborará proyectos de normas técnicas de ejecución para establecer los modelos normalizados, plantillas y procedimientos para las publicaciones y notificaciones previstas en el presente artículo.\\nLa AEVM presentará a la Comisión esos proyectos de normas técnicas de ejecución a más tardar el 2 de febrero de 2021.\\nSe confieren a la Comisión competencias para adoptar las normas técnicas de ejecución a que se refiere el párrafo primero de conformidad con el artículo 15 del Reglamento (UE) n.o 1095/2010.\\nArtículo 11\\nPublicación de la AEVM sobre tasas y cargas\\n1.   A más tardar el 2 de febrero de 2022, la AEVM publicará en su sitio web hiperenlaces a los sitios web de las autoridades competentes a que se refiere el artículo 10, apartado 2. Dichos hiperenlaces se mantendrán actualizados.\\n2.   A más tardar el 2 de febrero de 2022, la AEVM elaborará y publicará en su sitio web una herramienta interactiva y accesible al público en, como mínimo, una lengua utilizada habitualmente en el ámbito de las finanzas internacionales, que permita calcular de forma orientativa las tasas o cargas mencionadas en el artículo 9, apartado 1. Esa herramienta se mantendrá actualizada.\\nArtículo 12\\nBase de datos central de la AEVM sobre comercialización transfronteriza de FIA y OICVM\\n1.   A más tardar el 2 de febrero de 2022, la AEVM publicará en su sitio web una base de datos central sobre comercialización transfronteriza de FIA y OICVM, accesible al público en una lengua habitual en el ámbito de las finanzas internacionales, en la que figurarán:\\na)\\ntodos los FIA comercializados en un Estado miembro distinto del Estado miembro de origen, sus GFIA, sus gestores de FESE o sus gestores de FCRE, y los Estados miembros en los que se comercialicen, y\\nb)\\ntodos los OICVM comercializados en un Estado miembro distinto del Estado miembro de origen del OICVM tal como se define en el artículo 2, apartado 1, letra e), de la Directiva 2009/65/CE, las sociedades de gestión del OICVM y los Estados miembros en los que se comercialicen.\\nDicha base de datos central se mantendrá actualizada.\\n2.   Las obligaciones recogidas en el presente artículo y en el artículo 13 relativas a la base de datos mencionada en el apartado 1 del presente artículo se entenderán sin perjuicio de las obligaciones relativas a la lista a que se refiere el artículo 6, apartado 1, párrafo segundo, de la Directiva 2009/65/CE, el registro público central a que se refiere el artículo 7, apartado 5, párrafo segundo, de la Directiva 2011/61/UE, la base de datos central a que se refiere el artículo 17 del Reglamento (UE) n.o 345/2013 y la base de datos central a que se refiere el artículo 18 del Reglamento (UE) n.o 346/2013.\\nArtículo 13\\nNormalización de las notificaciones a la AEVM\\n1.   Las autoridades competentes de los Estados miembros de origen comunicarán a la AEVM con periodicidad trimestral la información necesaria para la creación y el mantenimiento de la base de datos central contemplada en el artículo 12 del presente Reglamento en relación con toda notificación, escrito de notificación o información a que se refieren el artículo 93, apartado 1, y el artículo 93 bis, apartado 2, de la Directiva 2009/65/CE, y el artículo 31, apartado 2, el artículo 32, apartado 2, y el artículo 32 bis, apartado 2, de la Directiva 2011/61/UE, así como cualquier modificación a dicha información, si dicha modificación afecta a la información contenida en esa base de datos central.\\n2.   La AEVM creará un portal de notificación en el que las autoridades competentes cargarán todos los documentos a que se refiere el apartado 1.\\n3.   La AEVM elaborará proyectos de normas técnicas de ejecución para especificar la información que deba comunicarse, así como los formularios, plantillas y procedimientos para la comunicación de la información por las autoridades co\\n<|im_end|>\\n<|im_start|>assistant\\n<think>\\n\\n</think>\\n\\nDistribución transfronteriza de organismos de inversión colectiva\\nDistribución transfronteriza de organismos de inversión colectiva\\n \\nSÍNTESIS DEL DOCUMENTO:\\nReglamento (UE) 2019/1156 por el que se facilita la distribución transfronteriza de organismos de inversión colectiva y por el que se modifican los Reglamentos (UE) n.° 345/2013, (UE) n.° 346/2013 y (UE) n.° 1286/2014\\n¿CUÁL ES EL OBJETIVO DE ESTE REGLAMENTO?\\nEstablece normas uniformes para la regulación nacional relativas a los requisitos de comercialización para organismos de inversión colectiva (o «fondos de inversión») y a las comunicaciones publicitarias dirigidas a inversores, a fin de mejorar la eficiencia del mercado en el marco del establecimiento de la unión de los mercados de capitales de la UE.\\nAdemás, establece un enfoque común en materia de tasas y cargas impuestas a los gestores de fondos de inversión en relación con sus actividades transfronterizas, y propone una base de datos central sobre la comercialización transfronteriza de organismos de inversión colectiva.\\nPUNTOS CLAVE\\nEl Reglamento se aplica a:gestores* de fondos de inversión alternativos (FIA)*; sociedades de gestión de organismos de inversión colectiva en valores mobiliarios (OICVM)*, incluidos aquellos OICVM que no hayan designado una sociedad de gestión de OICVM; gestores de fondos de capital de riesgo europeos (FCRE)*, y gestores de fondos de emprendimiento social europeos (FESE)*.Comunicaciones publicitariasLos gestores de FIA, FCRE, FESE y OICVM, así como las sociedades de gestión de OICVM, deben garantizar que todas las comunicaciones publicitarias dirigidas a los inversores puedan identificarse como tales y describan los riesgos y los posibles beneficios de adquirir participaciones o acciones de un FIA o participaciones de un OICVM de manera igualmente destacada. Las comunicaciones publicitarias deben:ser imparciales, claras y no engañosas;indicar que existe un folleto y que están disponibles los datos fundamentales para el inversor, y especificar dónde, cómo y en qué lengua los inversores pueden obtener el folleto y los datos fundamentales;especificar dónde, cómo y en qué lengua los inversores pueden obtener un resumen de los derechos de los inversores, que deberá incluir, cuando proceda, información sobre el acceso a los mecanismos de recurso colectivo a escala nacional y de la UE en caso de litigio;contener información clara que indique que el gestor o la sociedad de gestión pueden decidir poner fin a la comercialización de su fondo de inversión. Las autoridades competentes mantendrán en sus sitios web información actualizada y completa sobre las disposiciones legales, reglamentarias y administrativas nacionales y sus resúmenes, por los que se rigen los FIA y OICVM, en una lengua habitual en el ámbito de las finanzas internacionales. Para verificar el cumplimiento del presente Reglamento y de las disposiciones nacionales relativas a los requisitos de comercialización, las autoridades competentes pueden exigir la notificación previa de las comunicaciones publicitarias que las sociedades de gestión de OICVM tengan intención de utilizar directa o indirectamente en sus relaciones con los inversores.Tasas y cargasLos principios comunes relativos a las tasas y cargas impuestas por las autoridades competentes a los gestores de organismos de inversión colectiva por sus actividades transfronterizas deben ser consistentes con los costes globales de la autoridad competente. A más tardar el 2 de febrero de 2022, la Autoridad Europea de Valores y Mercados (ESMA) deberá hacer pública en su sitio web una herramienta interactiva que permitirá realizar un cálculo indicativo de las tasas o las cargas.Base de datos central\\nEl Reglamento introduce también una base de datos central relativa a la comercialización internacional de FIA y OICVM en la UE. La ESMA deberá publicar esta base de datos en su sitio web a más tardar el 2 de febrero de 2022, en una lengua habitual en el ámbito de las finanzas internacionales.\\nPrecomercialización*\\nEl Reglamento introduce normas relativas a la precomercialización de fondos FCRE y FESE a partir del 2 de agosto de 2021, de acuerdo con las establecidas por la Directiva (UE) 2019/1160 para los fondos de inversión alternativos. Las normas tienen como objetivo permitir que los gestores se dirijan a los inversores tanteando su interés en futuras oportunidades o estrategias de inversión por medio de fondos de capital de riesgo y fondos de emprendimiento social admisibles.\\nElaboración de informes\\nLas autoridades competentes deberán informar a la ESMA sobre las comunicaciones publicitarias a más tardar el 31 de marzo de 2021 y posteriormente cada dos años; deberán destacar el número de solicitudes de enmiendas de las comunicaciones publicitarias, distinguir claramente las infracciones más frecuentes y aportar ejemplos.\\nEvaluación\\nA más tardar el 2 de agosto de 2024, la Comisión Europea realizará una evaluación de la aplicación del Reglamento por medio de consultas públicas y conversaciones con la ESMA y las autoridades competentes.\\n¿A PARTIR DE CUÁNDO ESTÁ EN VIGOR EL REGLAMENTO?\\nEstá en vigor desde el 1 de agosto de 2019. Los apartados 1 a 5 del artículo 4, relativos a la información de comercialización, los apartados 1 y 2 del artículo 5, relativos a los sitios web de las autoridades competentes, y los artículos 15 y 16, relativos a las enmiendas de la legislación previa en materia de precomercialización de fondos FCRE y FESE entrarán en vigor el 2 de agosto de 2021.\\nANTECEDENTES\\nVéase también:Fondos de inversión (Comisión Europea) OICVM: organismos de inversión colectiva en valores mobiliarios (Comisión Europea) Autoridad Europea de Valores y Mercados (ESMA).\\nTÉRMINOS CLAVE\\nGestor de fondo de inversión alternativo (GFIA): persona jurídica cuya actividad empresarial regular consiste en la gestión de uno o más FIA.\\nFondo de inversión alternativo (FIA): un organismo de inversión colectiva (fondo de inversión) que obtiene su capital de varios inversores con vistas a invertirlo de conformidad con una política de inversión definida en beneficio de dichos inversores y que no requiere autorización en virtud el artículo 5 de la Directiva 2009/65/CE (Directiva OICVM). Entre ellos figuran los fondos FCRE, FESE y FILPE*.\\nOrganismo de inversión colectiva en valores mobiliarios (OICVM): un organismo de inversión colectiva (o «fondo de inversión») que invierte en valores mobiliarios, p. ej. en acciones, bonos, acciones y bonos, instrumentos del Tesoro a corto plazo y efectivo.\\nFondo de capital de riesgo europeo (FCRE): una denominación establecida por el reglamento (UE) n.o 345/2013 que permite a los gestores configurar y comercializar sus fondos por toda la UE con arreglo a un único conjunto de normas.\\nFondo de emprendimiento social europeo (FESE): una denominación establecida por el Reglamento (UE) n.o 346/2013 diseñada para identificar los fondos orientados a las empresas sociales europeas, para que les resulte más fácil atraer inversión.\\nPrecomercialización: provisión de información o comunicación en relación con estrategias o ideas de inversión por parte de un gestor de un fondo de capital de riesgo admisible para potenciales inversores en la UE a fin de tantear su interés en un fondo de capital de riesgo admisible que aún no se haya establecido.\\nFondos de inversión a largo plazo europeos (FILPE): establecidos por el Reglamento (UE) 2015/760, se trata de instrumentos pensados para gestores de fondos de inversión que quieren ofrecer inversiones a largo plazo a inversores institucionales y privados de toda Europa. Se centran en tipos concretos de proyectos que exigen una financiación a largo plazo para desarrollarse con éxito, pero a los que les cuesta conseguir financiación.\\nDOCUMENTO PRINCIPAL\\nReglamento (UE) 2019/1156 del Parlamento Europeo y del Consejo, de 20 de junio de 2019, por el que se facilita la distribución transfronteriza de organismos de inversión colectiva y por el que se modifican los Reglamentos (UE) n.° 345/2013, (UE) n.° 346/2013 y (UE) n.° 1286/2014 (DO L 188 de 12.7.2019, pp. 55-66).\\nDOCUMENTOS CONEXOS\\nComunicación de la Comisión al Parlamento Europeo, al Consejo, al Comité Económico y Social Europeo y al Comité de las Regiones: Plan de acción para la creación de un mercado de capitales [COM(2015) 468 final, 30.9.2015].\\nReglamento (UE) 2015/760 del Parlamento Europeo y del Consejo, de 29 de abril de 2015, sobre los fondos de inversión a largo plazo europeos (DO L 123 de 19.5.2015, pp. 98-121).\\nReglamento (UE) n.o 1286/2014 del Parlamento Europeo y del Consejo, de 26 de noviembre de 2014, sobre los documentos de datos fundamentales relativos a los productos de inversión minorista vinculados y los productos de inversión basados en seguros (DO L 352 de 9.12.2014, pp. 1-23).\\nLas sucesivas modificaciones al Reglamento (UE) n.o 1286/2014 se han incorporado al texto original. Esta versión consolidada tiene un valor meramente documental.\\nComunicación de la Comisión al Parlamento Europeo, al Consejo, al Banco Central Europeo, al Comité Económico y Social Europeo, al Comité de las Regiones y al Banco Europeo de Inversiones: Un Plan de Inversiones para Europa [COM(2014) 903 final de 26.11.2014].\\nReglamento (UE) n.o 346/2013 del Parlamento Europeo y del Consejo, de 17 de abril de 2013, sobre los fondos de emprendimiento social europeos (DO L 115 de 25.4.2013, pp. 18-38).\\nVéase la versión consolidada.\\nReglamento (UE) n.o 345/2013 del Parlamento Europeo y del Consejo, de 17 de abril de 2013, sobre los fondos de capital riesgo europeos (DO L 115 de 25.4.2013, pp. 1-17).\\nVéase la versión consolidada.\\nDirectiva 2011/61/UE del Parlamento Europeo y del Consejo, de 8 de junio de 2011, relativa a los gestores de fondos de inversión alternativos y por la que se modifican las Directivas 2003/41/CE y 2009/65/CE y los Reglamentos (CE) n.o 1060/2009 y (UE) n.o 1095/2010 (DO L 174 de 1.7.2011, pp. 1-73).\\nVéase la versión consolidada.\\nReglamento (UE) n.o 1095/2010 del Parlamento Europeo y del Consejo, de 24 de noviembre de 2010, por el que se crea una Autoridad Europea de Supervisión (Autoridad Europea de Valores y Mercados), se modifica la Decisión n.o 716/2009/CE y se deroga la Decisión 2009/77/CE de la Comisión (DO L 331 de 15.12.2010, pp. 84-119).\\nVéase la versión consolidada.\\nDirectiva 2009/65/CE del Parlamento Europeo y del Consejo, de 13 de julio de 2009, por la que se coordinan las disposiciones legales, reglamentarias y administrativas sobre determinados organismos de inversión colectiva en valores mobiliarios (OICVM) (DO L 302 de 17.11.2009, pp. 32-96).\\nVéase la versión consolidada.\\núltima actualización 06.12.2019<|im_end|>\\n'}\n"
     ]
    }
   ],
   "source": [
    "sample = dataset_train[0]\n",
    "print(\"Sample document:\", sample)\n",
    "excepted_summary = sample[\"expected_summary\"]"
   ]
  },
  {
   "cell_type": "code",
   "execution_count": 67,
   "id": "3c5472ed",
   "metadata": {},
   "outputs": [
    {
     "name": "stdout",
     "output_type": "stream",
     "text": [
      "<|im_start|>system\n",
      "Eres un modelo entrenado para generar resúmenes institucionales de actas parlamentarias. Los resúmenes deben estar redactados en lenguaje formal-administrativo, sin juicios de valor, y seguir una estructura clara.<|im_end|>\n",
      "<|im_start|>user\n",
      "Redacta un resumen institucional en español del siguiente documento. Mantén un lenguaje objetivo, enfocado en los hechos y acuerdos:\n",
      " ##Documento 12.7.2019\n",
      "ES\n",
      "Diario Oficial de la Unión Europea\n",
      "L 188/55\n",
      "REGLAMENTO (UE) 2019/1156 DEL PARLAMENTO EUROPEO Y DEL CONSEJO\n",
      "de 20 de junio de 2019\n",
      "por el que se facilita la distribución transfronteriza de organismos de inversión colectiva y por el que se modifican los Reglamentos (UE) n.o 345/2013, (UE) n.o 346/2013 y (UE) n.o 1286/2014\n",
      "(Texto pertinente a efectos del EEE)\n",
      "EL PARLAMENTO EUROPEO Y EL CONSEJO DE LA UNIÓN EUROPEA,\n",
      "Visto el Tratado de Funcionamiento de la Unión Europea, y en particular su artículo 114,\n",
      "Vista la propuesta de la Comisión Europea,\n",
      "Previa transmisión del proyecto de acto legislativo a los Parlamentos nacionales,\n",
      "Visto el dictamen del Comité Económico y Social Europeo (1),\n",
      "De conformidad con el procedimiento legislativo ordinario (2),\n",
      "Considerando lo siguiente:\n",
      "(1)\n",
      "Las divergencias en los enfoques normativos y de supervisión por lo que respecta a la distribución transfronteriza de fondos de inversión alternativos (FIA), tal y como se definen en la Directiva 2011/61/UE del Parlamento Europeo y del Consejo (3), incluidos los fondos de capital riesgo europeos (FCRE), tal y como se definen en el Reglamento (UE) n.o 345/2013 del Parlamento Europeo y del Consejo (4), los fondos de emprendimiento social europeos (FESE), tal y como se definen en el Reglamento (UE) n.o 346/2013 del Parlamento Europeo y del Consejo (5), y los fondos de inversión a largo plazo europeos (FILPE), tal y como se definen en el Reglamento (UE) 2015/760 del Parlamento Europeo y del Consejo (6), y de organismos de inversión colectiva en valores mobiliarios (OICVM), conforme se definen en la Directiva 2009/65/CE del Parlamento Europeo y del Consejo (7), tienen como resultado la fragmentación y obstaculización de la comercialización y el acceso transfronterizos de los FIA y los OICVM, lo que a su vez podría impedirles ser comercializados en otros Estados miembros. Un OICVM puede gestionarse de manera externa o interna en función de su forma jurídica. Toda disposición del presente Reglamento relativa a las sociedades de gestión del OICVM debe aplicarse tanto a las empresas cuya actividad habitual es la gestión de OICVM como a cualquier OICVM que no haya designado una sociedad de gestión del OICVM.\n",
      "(2)\n",
      "Para mejorar el marco normativo aplicable a los organismos de inversión colectiva y proteger mejor a los inversores, las comunicaciones publicitarias dirigidas a inversores de FIA y OICVM deben ser identificables como tales y deben describir los riesgos y los beneficios de adquirir participaciones o acciones de un FIA o un OICVM de manera igualmente destacada. Además, toda la información incluida en las comunicaciones publicitarias dirigidas a los inversores debe presentarse de forma imparcial, clara y no engañosa. Con el fin de salvaguardar la protección de los inversores y garantizar unas condiciones de competencia equitativas entre los FIA y los OICVM, las normas relativas a las comunicaciones publicitarias deben aplicarse a las comunicaciones publicitarias de los FIA y los OICVM.\n",
      "(3)\n",
      "Las comunicaciones publicitarias dirigidas a inversores de FIA y OICVM deben especificar dónde, cómo y en qué idioma pueden obtener los inversores información resumida sobre sus derechos como inversores e indicar claramente que el GFIA, el gestor de FCRE, el gestor de FESE o la sociedad de gestión del OICVM (conjuntamente, «gestores de organismos de inversión colectiva») tiene derecho a poner fin a las disposiciones adoptadas para la comercialización.\n",
      "(4)\n",
      "A fin de reforzar la transparencia y la protección de los inversores, así como para facilitar el acceso a la información sobre las disposiciones legales, reglamentarias y administrativas nacionales en materia de comunicaciones publicitarias, las autoridades competentes deben publicar dichos textos en sus sitios web en al menos una lengua habitual en el ámbito de las finanzas internacionales, incluido su resumen no oficial, lo que permitiría a los gestores de organismos de inversión colectiva obtener un panorama general sobre dichas disposiciones legales, reglamentarias y administrativas. La publicación debe responder exclusivamente a fines informativos sin crear obligaciones jurídicas. Por los mismos motivos, la Autoridad Europea de Supervisión (Autoridad Europea de Valores y Mercados) establecida en el Reglamento (UE) n.o 1095/2010 del Parlamento Europeo y del Consejo (8) (AEVM) debe crear una base de datos central que contenga resúmenes de los requisitos nacionales relativos a las comunicaciones publicitarias e hiperenlaces a la información publicada en los sitios web de las autoridades competentes.\n",
      "(5)\n",
      "A fin de fomentar las buenas prácticas en materia de protección de los inversores establecidas en los requisitos nacionales para que las comunicaciones publicitarias presenten información imparcial y clara, incluidos los aspectos en línea de dichas comunicaciones publicitarias, la AEVM debe publicar directrices sobre la aplicación de dichos requisitos relativos a las comunicaciones publicitarias.\n",
      "(6)\n",
      "Las autoridades competentes deben poder exigir la notificación previa de las comunicaciones publicitarias para realizar una verificación ex ante de la conformidad de esas comunicaciones con el presente Reglamento y otros requisitos aplicables, por ejemplo, si las comunicaciones publicitarias son identificables como tales, si describen los riesgos y los beneficios que supone la adquisición de participaciones de un OICVM y, en el caso de que un Estado miembro permita la comercialización de FIA a inversores minoristas, los riesgos y los beneficios que supone la adquisición de participaciones o acciones de una forma igualmente destacada y si toda la información que figura en las comunicaciones publicitarias se presenta de forma imparcial, clara y no engañosa. Dicha verificación debe llevarse a cabo en un plazo limitado. Cuando las autoridades competentes exijan la notificación previa, ello no excluirá la posible verificación ex post de las comunicaciones publicitarias.\n",
      "(7)\n",
      "Las autoridades competentes deben informar a la AEVM de los resultados de dichas verificaciones, de las solicitudes de modificación y de cualquier sanción impuesta a los gestores de organismos de inversión colectiva. Con el fin de aumentar la sensibilización y la transparencia sobre las normas aplicables a las comunicaciones publicitarias, por un lado, y de garantizar la protección de los inversores, por otro lado, la AEVM debe preparar y enviar cada dos años al Parlamento Europeo, al Consejo y a la Comisión un informe sobre dichas normas y su aplicación práctica sobre la base de las verificaciones ex ante y ex post de las comunicaciones publicitarias por parte de las autoridades competentes.\n",
      "(8)\n",
      "Para garantizar la igualdad de trato de los gestores de organismos de inversión colectiva y facilitar su toma de decisiones acerca de la conveniencia de emprender la distribución transfronteriza de fondos de inversión, es importante que las tasas y cargas aplicadas por las autoridades competentes por la supervisión de las actividades transfronterizas sean proporcionadas a las tareas de supervisión llevadas a cabo y se hagan públicas, y que, con el objeto de aumentar la transparencia, publiquen en los sitios web de las autoridades competentes esas tasas y cargas. Por la misma razón, los hiperenlaces a la información publicada en los sitios web de las autoridades competentes relativa a las tasas y cargas deben publicarse en el sitio web de la AEVM a fin de disponer de un punto central de información. El sitio web de la AEVM también debe incluir una herramienta interactiva que permita calcular de forma orientativa dichas tasas y cargas aplicadas por las autoridades competentes.\n",
      "(9)\n",
      "A fin de garantizar un mejor cobro de las tasas o cargas y de aumentar la transparencia y la claridad de su estructura, cuando dichas tasas o cargas sean aplicadas por las autoridades competentes, los gestores de organismos de inversión colectiva deben recibir una factura, una declaración de pago individual o una orden de pago donde se establezca claramente el importe de las tasas o cargas aplicables y los medios de pago.\n",
      "(10)\n",
      "Puesto que, de conformidad con el Reglamento (UE) n.o 1095/2010, la AEVM debe supervisar y evaluar la evolución del mercado dentro de su ámbito de competencia, es adecuado y necesario mejorar el conocimiento de la AEVM, ampliando las bases de datos de que actualmente dispone a fin de incluir una base de datos central que enumere todos los FIA y OICVM que se comercializan a nivel transfronterizo, los gestores de dichos organismos de inversión colectiva, así como los Estados miembros en los que tiene lugar dicha comercialización. A tal fin, y para que la AEVM pueda mantener actualizada la base de datos central, las autoridades competentes deben transmitir a la AEVM información sobre las notificaciones, los escritos de notificación y la información que hayan recibido en virtud de las Directivas 2009/65/CE y 2011/61/UE en relación con la actividad de comercialización transfronteriza, así como sobre cualquier cambio que afecte a dicha información que deba reflejarse en dicha base de datos. A este respecto, la AEVM debe crear un portal de notificación en el que las autoridades competentes carguen todos los documentos relativos a la distribución transfronteriza de los OICVM y los FIA.\n",
      "(11)\n",
      "Para garantizar unas condiciones de competencia equitativas entre los fondos de capital riesgo admisibles, tal como se definen en el Reglamento (UE) n.o 345/2013, o los fondos de emprendimiento social admisibles, tal como se definen en el Reglamento (UE) n.o 346/2013, por una parte, y otros FIA, por otra, es necesario incluir en dichos Reglamentos normas en materia de precomercialización que sean idénticas a las normas sobre precomercialización establecidas en la Directiva 2011/61/UE. Dichas normas deben permitir a los gestores registrados de conformidad con esos Reglamentos dirigirse a los inversores comprobando su interés ante próximas oportunidades o estrategias de inversión a través de fondos de capital riesgo admisibles y fondos de emprendimiento social admisibles.\n",
      "(12)\n",
      "De conformidad con el Reglamento (UE) n.o 1286/2014 del Parlamento Europeo y del Consejo (9), determinadas sociedades y personas a que se refiere el artículo 32 de dicho Reglamento están exentas hasta el 31 de diciembre de 2019 de las obligaciones establecidas en el citado Reglamento. Dicho Reglamento también establece que la Comisión debe revisarlo antes del 31 de diciembre de 2018, con objeto de evaluar, entre otros aspectos, si este período transitorio de exención debe prolongarse o si, tras la determinación de los ajustes necesarios, las disposiciones sobre los datos fundamentales para el inversor de la Directiva 2009/65/CE deben ser sustituidas o considerarse equivalentes al documento de datos fundamentales para el inversor previsto en el citado Reglamento.\n",
      "(13)\n",
      "A fin de permitir a la Comisión que realice la revisión de conformidad con el Reglamento (UE) n.o 1286/2014 tal como se había previsto originalmente, la fecha límite para dicha revisión debe ampliarse doce meses. La comisión competente del Parlamento Europeo debe apoyar el proceso de revisión de la Comisión organizando una audiencia sobre el tema con los grupos de interés relevantes que representan los intereses del sector y de los consumidores.\n",
      "(14)\n",
      "A fin de evitar que los inversores reciban dos documentos distintos de comunicación previa, a saber, un documento de datos fundamentales para el inversor (KIID, por sus siglas en inglés) como exige la Directiva 2009/65/CE y un documento de datos fundamentales relativo a los productos de inversión minorista empaquetados (PRIIP, por sus siglas en inglés) como exige el Reglamento (UE) n.o 1286/2014, para el mismo organismo de inversión colectiva, durante la adopción y aplicación de los actos legislativos que resulten de la revisión de la Comisión de conformidad con dicho Reglamento, el período transitorio de exención derivado de las obligaciones en virtud del citado Reglamento debe prorrogarse veinticuatro meses. Sin perjuicio de dicha prórroga, todas las instituciones y autoridades de supervisión implicadas procurarán actuar tan rápido como sea posible para facilitar la finalización de dicho período transitorio de exención.\n",
      "(15)\n",
      "Conviene conferir a la Comisión competencias para adoptar las normas técnicas de ejecución, elaboradas por la AEVM, con respecto a los modelos normalizados, plantillas y procedimientos para la publicación y notificación por las autoridades competentes de las disposiciones legales, reglamentarias y administrativas nacionales en materia de requisitos de comercialización aplicables en sus territorios, junto con un resumen de las mismas, los niveles de las tasas o cargas aplicados por actividades de comercialización transfronteriza y, cuando proceda, los correspondientes métodos de cálculo. Además, con el fin de mejorar la transmisión a la AEVM, también deben adoptarse normas técnicas de ejecución relativas a las notificaciones, los escritos de notificación y la información sobre las actividades de comercialización transfronterizas que exigen las Directivas 2009/65/CE y 2011/61/UE y las disposiciones técnicas necesarias para el funcionamiento del portal de notificaciones que ha de establecer la AEVM. La Comisión debe adoptar dichas normas técnicas de ejecución mediante actos de ejecución en virtud del artículo 291 del Tratado de Funcionamiento de la Unión Europea (TFUE) y de conformidad con el artículo 15 del Reglamento (UE) n.o 1095/2010.\n",
      "(16)\n",
      "Es necesario especificar qué información debe comunicarse cada trimestre a la AEVM, a fin de mantener actualizadas las bases de datos de todos los organismos de inversión colectiva y de sus gestores.\n",
      "(17)\n",
      "Todo tratamiento de datos personales realizado en el marco del presente Reglamento, como el intercambio o la transmisión de datos personales por las autoridades competentes, debe atenerse a lo dispuesto en el Reglamento (UE) 2016/679 del Parlamento Europeo y del Consejo (10), y todo intercambio o transmisión de información por la AEVM debe atenerse a lo dispuesto en el Reglamento (UE) 2018/1725 del Parlamento Europeo y del Consejo (11).\n",
      "(18)\n",
      "Con el fin de habilitar a las autoridades competentes para ejercer las funciones que les atribuye el presente Reglamento, los Estados miembros deben velar por que esas autoridades cuenten con todas las competencias de supervisión e investigación necesarias.\n",
      "(19)\n",
      "A más tardar el 2 de agosto de 2024, la Comisión debe realizar una evaluación de la aplicación del presente Reglamento. Dicha evaluación debe tener en cuenta la evolución del mercado y valorar si las medidas introducidas han mejorado la distribución transfronteriza de organismos de inversión colectiva.\n",
      "(20)\n",
      "A más tardar el 2 de agosto de 2021, la Comisión publicará un informe sobre la comercialización pasiva y la demanda por propia iniciativa de un inversor, donde se especifique el alcance de esta forma de suscripción de fondos, su distribución geográfica, incluidos los terceros países, y su repercusión en el régimen de pasaporte.\n",
      "(21)\n",
      "Para garantizar la seguridad jurídica, es necesario sincronizar las fechas de aplicación de las disposiciones legales, reglamentarias y administrativas nacionales por las que se aplique la Directiva (UE) 2019/1160 del Parlamento Europeo y del Consejo (12) y del presente Reglamento en lo que se refiere a las disposiciones sobre comunicaciones publicitarias y precomercialización.\n",
      "(22)\n",
      "Dado que el objetivo del presente Reglamento, a saber, el aumento de la eficiencia del mercado mientras se establece la creación de la unión de mercados de capitales, no puede ser alcanzado de manera suficiente por los Estados miembros, sino que, debido a sus efectos, puede lograrse mejor a escala de la Unión, esta puede adoptar medidas, de acuerdo con el principio de subsidiariedad establecido en el artículo 5 del Tratado de la Unión Europea. De conformidad con el principio de proporcionalidad establecido en el mismo artículo, el presente Reglamento no excede de lo necesario para alcanzar dicho objetivo.\n",
      "HAN ADOPTADO EL PRESENTE REGLAMENTO:\n",
      "Artículo 1\n",
      "Objeto\n",
      "El presente Reglamento establece un conjunto de normas uniformes sobre la publicación de disposiciones nacionales relativas a los requisitos de comercialización de los organismos de inversión colectiva y sobre las comunicaciones publicitarias dirigidas a los inversores, así como los principios comunes en materia de tasas y cargas impuestas a los gestores de organismos de inversión colectiva en relación con sus actividades transfronterizas. Dispone asimismo la creación de una base de datos central sobre la comercialización transfronteriza de organismos de inversión colectiva.\n",
      "Artículo 2\n",
      "Ámbito de aplicación\n",
      "El presente Reglamento se aplicará a:\n",
      "a)\n",
      "los gestores de fondos de inversión alternativos;\n",
      "b)\n",
      "las sociedades de gestión de OICVM, incluida cualquier OICVM que no haya designado una sociedad de gestión del OICVM;\n",
      "c)\n",
      "los gestores de FCRE, y\n",
      "d)\n",
      "los gestores de FESE.\n",
      "Artículo 3\n",
      "Definiciones\n",
      "A los efectos del presente Reglamento, se entenderá por:\n",
      "a)   «fondos de inversión alternativos» o «FIA»: los FIA tal como se definen en el artículo 4, apartado 1, letra a), de la Directiva 2011/61/UE, incluidos los FCRE, FESE y FILPE;\n",
      "b)   «gestores de fondos de inversión alternativos» o «GFIA»: los GFIA tal como se definen en el artículo 4, apartado 1, letra b), de la Directiva 2011/61/UE, y que estén autorizados de conformidad con el artículo 6 de dicha Directiva;\n",
      "c)   «gestor de FCRE»: un gestor de fondos de capital riesgo admisible tal como se define en el artículo 3, párrafo primero, letra c), del Reglamento (UE) n.o 345/2013, y que esté registrado de conformidad con el artículo 14 de dicho Reglamento;\n",
      "d)   «gestor de FESE»: un gestor de un fondo de emprendimiento social admisible tal como se define en el artículo 3, apartado 1, letra c), del Reglamento (UE) n.o 346/2013 y que esté registrado de conformidad con el artículo 15 de dicho Reglamento;\n",
      "e)   «autoridades competentes»: autoridades competentes tal como se definen en el artículo 2, apartado 1, letra h), de la Directiva 2009/65/CE, o en el artículo 4, apartado 1, letra f), de la Directiva 2011/61/UE o autoridades competentes del FIA de la UE tal como se definen en el artículo 4, apartado 1, letra h), de la Directiva 2011/61/UE;\n",
      "f)   «Estado miembro de origen»: el Estado miembro en el que el GFIA, el gestor de FCRE, el gestor de FESE o la sociedad de gestión del OICVM tenga su domicilio social;\n",
      "g)   «OICVM»: un OICVM autorizado de conformidad con el artículo 5 de la Directiva 2009/65/CE;\n",
      "h)   «sociedad de gestión de un OICVM»: una sociedad de gestión tal como se define en el artículo 2, apartado 1, letra b), de la Directiva 2009/65/CE.\n",
      "Artículo 4\n",
      "Requisitos relativos a las comunicaciones publicitarias\n",
      "1.   Los GFIA, los gestores de FCRE, los gestores de FESE y las sociedades de gestión de OICVM se asegurarán de que todas las comunicaciones publicitarias dirigidas a los inversores sean identificables como tales, y que describan los riesgos y los beneficios de la adquisición de participaciones o acciones de un FIA o de participaciones de un OICVM de manera igualmente destacada, y de que toda la información incluida en las comunicaciones publicitarias sea imparcial, clara y no engañosa.\n",
      "2.   Las sociedades de gestión de OICVM se asegurarán de que las comunicaciones publicitarias que contengan información específica sobre un OICVM no contradigan ni menoscaben la importancia de la información contenida en el folleto a que se refiere el artículo 68 de la Directiva 2009/65/CE ni los datos fundamentales para el inversor a que se refiere el artículo 78 de dicha Directiva. Las sociedades de gestión de OICVM se asegurarán de que en todas las comunicaciones publicitarias se indique que existe un folleto y que están disponibles los datos fundamentales para el inversor. Tales comunicaciones publicitarias deberán especificar dónde, cómo y en qué lengua pueden los inversores o inversores potenciales obtener el folleto y los datos fundamentales para el inversor y proporcionarán hiperenlaces o direcciones de sitios web donde encontrar esos documentos.\n",
      "3.   Las comunicaciones publicitarias a que se refiere el apartado 2 deberán especificar dónde, cómo y en qué lengua los inversores o inversores potenciales pueden obtener un resumen de los derechos de los inversores, y proporcionarán un hiperenlace a este resumen, que deberá incluir, si procede, información sobre el acceso a los mecanismos de compensación colectiva a escala de la Unión y nacional en caso de litigio.\n",
      "Tales comunicaciones publicitarias incluirán asimismo información clara que indique que el gestor o la sociedad de gestión a que se refiere el apartado 1 del presente artículo puede decidir poner fin a las disposiciones previstas para la comercialización de sus organismos de inversión colectiva de conformidad con el artículo 93 bis de la Directiva 2009/65/CE y el artículo 32 bis de la Directiva 2011/61/UE.\n",
      "4.   Los GFIA, los gestores de FCRE y los gestores de FESE se asegurarán de que las comunicaciones publicitarias que incluyan una invitación a adquirir participaciones o acciones de un FIA que contengan información específica sobre un FIA no contradigan la información que ha de facilitarse a los inversores de conformidad con el artículo 23 de la Directiva 2011/61/UE, con el artículo 13 del Reglamento (UE) n.o 345/2013 o con el artículo 14 del Reglamento (UE) n.o 346/2013, ni menoscaben su importancia.\n",
      "5.   El apartado 2 del presente artículo se aplicará mutatis mutandis a los FIA que publiquen un folleto de conformidad con el Reglamento (UE) 2017/1129 del Parlamento Europeo y del Consejo (13), o de conformidad con la legislación nacional, o que apliquen las normas sobre el formato y el contenido de los datos fundamentales para el inversor a que se refiere el artículo 78 de la Directiva 2009/65/CE.\n",
      "6.   A más tardar el 2 de agosto de 2021, la AEVM emitirá directrices, que deberán ser actualizadas periódicamente, sobre la aplicación de los requisitos relativos a las comunicaciones publicitarias a que se refiere el apartado 1, teniendo en cuenta los aspectos en línea de esas comunicaciones publicitarias.\n",
      "Artículo 5\n",
      "Publicación de las disposiciones nacionales relativas a los requisitos en materia de comercialización\n",
      "1.   Las autoridades competentes publicarán y mantendrán en sus sitios web información actualizada y completa sobre las disposiciones legales, reglamentarias y administrativas nacionales que regulen los requisitos de comercialización aplicables a los FIA y los OICVM, y sus resúmenes, en, como mínimo, una lengua habitual en el ámbito de las finanzas internacionales.\n",
      "2.   Las autoridades competentes notificarán a la AEVM los hiperenlaces a los sitios web de las autoridades competentes donde esté publicada la información a que se refiere el apartado 1.\n",
      "Las autoridades competentes notificarán a la AEVM sin demora indebida cualquier modificación de la información facilitada en virtud del párrafo primero del presente apartado.\n",
      "3.   La AEVM elaborará proyectos de normas técnicas de ejecución para establecer los modelos normalizados, plantillas y procedimientos para las publicaciones y notificaciones previstas en el presente artículo.\n",
      "La AEVM presentará a la Comisión esos proyectos de normas técnicas de ejecución a más tardar el 2 de febrero de 2021.\n",
      "Se confieren a la Comisión competencias para adoptar las normas técnicas de ejecución a que se refiere el párrafo primero de conformidad con el artículo 15 del Reglamento (UE) n.o 1095/2010.\n",
      "Artículo 6\n",
      "Base de datos central de la AEVM sobre las disposiciones nacionales relativas a los requisitos de comercialización\n",
      "A más tardar el 2 de febrero de 2022, la AEVM publicará y mantendrá en su sitio web una base de datos central que contenga los resúmenes contemplados en el artículo 5, apartado 1, así como los hiperenlaces a los sitios web de las autoridades competentes contemplados en el artículo 5, apartado 2.\n",
      "Artículo 7\n",
      "Verificación ex ante de las comunicaciones publicitarias\n",
      "1.   Con el único fin de verificar el cumplimiento del presente Reglamento y de las disposiciones nacionales relativas a los requisitos de comercialización, las autoridades competentes pueden exigir la notificación previa de las comunicaciones publicitarias que las sociedades de gestión de OICVM tengan intención de utilizar directa o indirectamente en sus relaciones con los inversores.\n",
      "El requisito de notificación previa a que se refiere el párrafo primero no constituirá una condición previa para la comercialización de participaciones de OICVM y no formará parte del procedimiento de notificación contemplado en el artículo 93 de la Directiva 2009/65/CE.\n",
      "Cuando las autoridades competentes exijan la notificación previa tal y como se menciona en el párrafo primero, informarán a la sociedad de gestión del OICVM, en un plazo de diez días hábiles desde la recepción de las comunicaciones publicitarias, de cualquier solicitud de modificación de sus comunicaciones publicitarias.\n",
      "La notificación previa a que se refiere el párrafo primero podrá ser requerida de forma sistemática o de conformidad con cualquier otra práctica de verificación y se entenderá sin perjuicio de otras competencias de supervisión para verificar las comunicaciones publicitarias ex post.\n",
      "2.   Las autoridades competentes que exijan la notificación previa de las comunicaciones publicitarias establecerán, aplicarán y publicarán en sus sitios web procedimientos para dicha notificación previa. Las normas y procedimientos internos deberán garantizar un trato transparente y no discriminatorio de todos los OICVM, con independencia del Estado miembro en el que estén autorizados.\n",
      "3.   En caso de que los GFIA, los gestores de FCRE o los gestores de FESE comercialicen participaciones o acciones de sus FIA a inversores minoristas, los apartados 1 y 2 se aplicarán, mutatis mutandis, a esos GFIA, gestores de FCRE o gestores de FESE.\n",
      "Artículo 8\n",
      "Informe de la AEVM sobre las comunicaciones publicitarias\n",
      "1.   A más tardar el 31 de marzo de 2021 y cada dos años a partir de esa fecha, las autoridades competentes transmitirán a la AEVM, la información siguiente:\n",
      "a)\n",
      "el número de solicitudes de modificación de las comunicaciones publicitarias efectuadas sobre la base de una verificación ex ante, cuando proceda;\n",
      "b)\n",
      "el número de solicitudes de modificación y de decisiones tomadas sobre la base de verificaciones ex post, distinguiendo claramente las infracciones más frecuentes e incluyendo una descripción y la naturaleza de dichas infracciones;\n",
      "c)\n",
      "una descripción de las infracciones más frecuentes de los requisitos contemplados en el artículo 4, y\n",
      "d)\n",
      "un ejemplo de cada una de las infracciones a que se refieren las letras b) y c).\n",
      "2.   A más tardar el 30 de junio de 2021 y cada dos años a partir de esa fecha, la AEVM remitirá al Parlamento Europeo, al Consejo y a la Comisión un informe en el que presente una perspectiva general de los requisitos de comercialización contemplados en el artículo 5, apartado 1, en todos los Estados miembros y que contenga un análisis de los efectos de las disposiciones legales, reglamentarias y administrativas nacionales que regulan las comunicaciones publicitarias, también sobre la base de la información recibida de conformidad con el apartado 1 del presente artículo.\n",
      "Artículo 9\n",
      "Principios comunes en materia de tasas o cargas\n",
      "1.   En los casos en que las tasas o cargas sean aplicadas por las autoridades competentes al ejercer sus funciones en relación con las actividades transfronterizas de los GFIA, los gestores de FCRE, los gestores de FESE y las sociedades de gestión de OICVM, dichas tasas o cargas serán coherentes con los costes globales relacionados con el ejercicio de las funciones de la autoridad competente.\n",
      "2.   Para las tasas o cargas mencionadas en el apartado 1 del presente artículo, las autoridades competentes enviarán una factura, una declaración de pago individual o una orden de pago, estableciendo claramente los medios de pago y la fecha de vencimiento del pago a la dirección a que se refiere el artículo 93, apartado 1, párrafo tercero, de la Directiva 2009/65/CE o en el anexo IV, letra i), de la Directiva 2011/61/UE.\n",
      "Articulo 10\n",
      "Publicación de las disposiciones nacionales relativas a tasas y cargas\n",
      "1.   A más tardar el 2 de febrero de 2020, las autoridades competentes publicarán y mantendrán en sus sitios web información actualizada sobre la lista de las tasas o cargas a que se refiere el artículo 9, apartado 1, o, cuando proceda, los métodos utilizados para calcularlas, en, como mínimo, una lengua habitual en el ámbito de las finanzas internacionales.\n",
      "2.   Las autoridades competentes notificarán a la AEVM los hiperenlaces a los sitios web de las autoridades competentes donde esté publicada la información a que se refiere el apartado 1.\n",
      "3.   La AEVM elaborará proyectos de normas técnicas de ejecución para establecer los modelos normalizados, plantillas y procedimientos para las publicaciones y notificaciones previstas en el presente artículo.\n",
      "La AEVM presentará a la Comisión esos proyectos de normas técnicas de ejecución a más tardar el 2 de febrero de 2021.\n",
      "Se confieren a la Comisión competencias para adoptar las normas técnicas de ejecución a que se refiere el párrafo primero de conformidad con el artículo 15 del Reglamento (UE) n.o 1095/2010.\n",
      "Artículo 11\n",
      "Publicación de la AEVM sobre tasas y cargas\n",
      "1.   A más tardar el 2 de febrero de 2022, la AEVM publicará en su sitio web hiperenlaces a los sitios web de las autoridades competentes a que se refiere el artículo 10, apartado 2. Dichos hiperenlaces se mantendrán actualizados.\n",
      "2.   A más tardar el 2 de febrero de 2022, la AEVM elaborará y publicará en su sitio web una herramienta interactiva y accesible al público en, como mínimo, una lengua utilizada habitualmente en el ámbito de las finanzas internacionales, que permita calcular de forma orientativa las tasas o cargas mencionadas en el artículo 9, apartado 1. Esa herramienta se mantendrá actualizada.\n",
      "Artículo 12\n",
      "Base de datos central de la AEVM sobre comercialización transfronteriza de FIA y OICVM\n",
      "1.   A más tardar el 2 de febrero de 2022, la AEVM publicará en su sitio web una base de datos central sobre comercialización transfronteriza de FIA y OICVM, accesible al público en una lengua habitual en el ámbito de las finanzas internacionales, en la que figurarán:\n",
      "a)\n",
      "todos los FIA comercializados en un Estado miembro distinto del Estado miembro de origen, sus GFIA, sus gestores de FESE o sus gestores de FCRE, y los Estados miembros en los que se comercialicen, y\n",
      "b)\n",
      "todos los OICVM comercializados en un Estado miembro distinto del Estado miembro de origen del OICVM tal como se define en el artículo 2, apartado 1, letra e), de la Directiva 2009/65/CE, las sociedades de gestión del OICVM y los Estados miembros en los que se comercialicen.\n",
      "Dicha base de datos central se mantendrá actualizada.\n",
      "2.   Las obligaciones recogidas en el presente artículo y en el artículo 13 relativas a la base de datos mencionada en el apartado 1 del presente artículo se entenderán sin perjuicio de las obligaciones relativas a la lista a que se refiere el artículo 6, apartado 1, párrafo segundo, de la Directiva 2009/65/CE, el registro público central a que se refiere el artículo 7, apartado 5, párrafo segundo, de la Directiva 2011/61/UE, la base de datos central a que se refiere el artículo 17 del Reglamento (UE) n.o 345/2013 y la base de datos central a que se refiere el artículo 18 del Reglamento (UE) n.o 346/2013.\n",
      "Artículo 13\n",
      "Normalización de las notificaciones a la AEVM\n",
      "1.   Las autoridades competentes de los Estados miembros de origen comunicarán a la AEVM con periodicidad trimestral la información necesaria para la creación y el mantenimiento de la base de datos central contemplada en el artículo 12 del presente Reglamento en relación con toda notificación, escrito de notificación o información a que se refieren el artículo 93, apartado 1, y el artículo 93 bis, apartado 2, de la Directiva 2009/65/CE, y el artículo 31, apartado 2, el artículo 32, apartado 2, y el artículo 32 bis, apartado 2, de la Directiva 2011/61/UE, así como cualquier modificación a dicha información, si dicha modificación afecta a la información contenida en esa base de datos central.\n",
      "2.   La AEVM creará un portal de notificación en el que las autoridades competentes cargarán todos los documentos a que se refiere el apartado 1.\n",
      "3.   La AEVM elaborará proyectos de normas técnicas de ejecución para especificar la información que deba comunicarse, así como los formularios, plantillas y procedimientos para la comunicación de la información por las autoridades co\n",
      " ##Resumen:<|im_end|>\n",
      "<|im_start|>assistant\n",
      "<think>\n",
      "Okay, I need to create a summary of this EU regulation document. Let me start by reading through the entire text to understand the key points.\n",
      "\n",
      "The main topic is about the distribution of collective investment vehicles (CIVs) across borders, specifically FIA (fondos de inversión alternativos), OICVM (organismos de inversión colectiva), and their related entities like FCRE, FESE, and FILPE. The regulation aims to standardize the distribution and communication of these vehicles, ensuring transparency and fairness for investors.\n",
      "\n",
      "Key sections include requirements for identifying CIVs in communications, the need for centralized databases, and the application of fees and charges. There's also a focus on harmonizing national regulations and ensuring that all necessary information is provided in a clear, unbiased manner.\n",
      "\n",
      "I need to structure the summary in a formal, objective tone, focusing on facts and agreements. The user wants the summary to be concise, covering the objectives, scope, main provisions, and the purpose of the regulation.\n",
      "\n",
      "Let me outline the main points:\n",
      "\n",
      "1. **Objective**: To harmonize rules for distributing CIVs across borders, ensuring transparency and fairness for investors.\n",
      "2. **Scope**: Applies to managers of CIVs, OICVM, and related entities (FCRE, FESE, FILPE).\n",
      "3. **Requirements**:\n",
      "   - Communications must be identifiable and clearly describe risks and benefits.\n",
      "   - All information must be impartial, clear, and non-misleading.\n",
      "   - Centralized databases for CIVs and their managers.\n",
      "4. **Fees and Charges**: Clear disclosure of fees, with a centralized database for tracking.\n",
      "5. **Transparency and Compliance**: Authorities must publish information, and the AEVM (European Securities and Markets Authority) must maintain a database.\n",
      "6. **Annual Reports**: The AEVM must publish annual reports on compliance and data.\n",
      "7. **Data Protection**: Compliance with GDPR (EU's data protection regulation).\n",
      "8. **Subsidiarity and Proportionality**: The regulation is within the EU's competence and proportionate.\n",
      "\n",
      "I need to make sure each section is concise, using formal language without subjective statements. Avoid any legal jargon but keep it clear. Check for any specific deadlines or entities mentioned, like the AEVM, the deadline for the database, and the annual reports.\n",
      "\n",
      "Also, ensure that the summary includes the key stakeholders (authorities, AEVM, investors) and the main objectives of the regulation. Highlight the importance of transparency, harmonization, and the role of the AEVM in maintaining the database and reporting.\n",
      "</think>\n",
      "\n",
      "**Resumen institucional del Reglamento (UE) 2019/1156**  \n",
      "**Fecha de publicación: 20 de junio de 2019**  \n",
      "\n",
      "**Objeto general**  \n",
      "El presente Reglamento busca establecer normas uniformes para la distribución transfronteriza de organismos de inversión colectiva (OICVM) y fondos de inversión alternativos (FIA), garantizando transparencia, equidad y protección de los inversores. A su vez, busca facilitar la comunicación clara y precisa de los riesgos y beneficios asociados a estas entidades, así como la aplicación de tasas y cargos aplicables a sus gestores.  \n",
      "\n",
      "**Ámbito de aplicación**  \n",
      "Se aplica a:  \n",
      "- Gestores de FIA, FCRE, FESE y OICVM.  \n",
      "- Sociedades de gestión de OICVM.  \n",
      "- Gestores de fondos de capital riesgo (FCRE) y fondos de emprendimiento social (FESE).  \n",
      "\n",
      "**Requisitos de comunicación publicitaria**  \n",
      "1. **Identificación y claridad**: Todas las comunicaciones dirigidas a inversores deben ser identificables, describir claramente los riesgos y beneficios de adquirir participaciones o acciones, y presentar información imparcial, clara y no engañosa.  \n",
      "2. **Derechos de los inversores**: Las comunicaciones deben incluir un resumen de los derechos de los inversores, con hiperenlaces a documentos oficiales.  \n",
      "3. **Exención de obligaciones**: Los gestores de OICVM deben garantizar que no contradigan información previa o menzónen la importancia de documentos fundamentales para el inversor.  \n",
      "\n",
      "**Base de datos central**  \n",
      "- La AEVM (Autoridad Europea de Valores y Mercados) debe crear una base de datos central que incluya:  \n",
      "  - Información sobre FIA, OICVM y sus gestores.  \n",
      "  - Hiperenlaces a sitios web de autoridades competentes.  \n",
      "  - Datos sobre tasas y cargos aplicables a actividades transfronterizas.  \n",
      "- La base de datos debe mantenerse actualizada y accesible en una lengua habitual en el ámbito financiero internacional.  \n",
      "\n",
      "**Tasas y cargos**  \n",
      "- Las autoridades competentes deben publicar en sus sitios web las tasas y cargos aplicables a actividades transfronterizas, incluidas las fechas de vencimiento y medios de pago.  \n",
      "- La AEVM debe elaborar herramientas interactivas para calcular estas tasas, garantizando transparencia.  \n",
      "\n",
      "**Cumplimiento y reportes**  \n",
      "- Las autoridades competentes deben informar a la AEVM sobre resultados de verificaciones ex ante y ex post, incluyendo infracciones frecuentes.  \n",
      "- La AEVM debe presentar informes anuales sobre la aplicación de normas y la evolución del mercado, con análisis de legislación nacional.  \n",
      "\n",
      "**Protección de datos y cumplimiento**  \n",
      "- Las comunicaciones y datos personales deben cumplir con el Reglamento (UE) 2016/679 (GDPR) y el Reglamento (UE) 2018/1725 (reglamento de protección de datos).  \n",
      "- Las autoridades competentes deben asegurar que los gestores de OICVM tengan acceso a información relevante sobre las tasas y cargos aplicables.  \n",
      "\n",
      "**Principios de proporcionalidad y subsidiariedad**  \n",
      "- El Reglamento se aplica dentro de los límites de la competencia europea, evitando exenciones innecesarias y manteniendo la equidad entre los FIA y los OICVM.  \n",
      "\n",
      "**Revisión y evaluación**  \n",
      "- La Comisión debe revisar la aplicación del Reglamento en 2024, evaluando su impacto en la distribución transfronteriza.  \n",
      "- La Comisión debe publicar un informe sobre la comercialización pasiva y la demanda por propia iniciativa en 2021.  \n",
      "\n",
      "**Conclusión**  \n",
      "El Reglamento busca fortalecer la transparencia, equidad y protección de los inversores en el ámbito de las inversiones colectivas, promoviendo una armonización normativa y una mejor gestión de las tasas y cargos aplicables a actividades transfronterizas. La AEVM desempeña un rol clave en la supervisión, el mantenimiento de bases de datos y la difusión de información clave.<|im_end|>\n",
      "tensor([151644,   8948,    198,  ...,  60842,     13, 151645], device='cuda:0')\n"
     ]
    }
   ],
   "source": [
    "text = generate_summary_streamer(model, tokenizer, sample, max_new_tokens=4080)"
   ]
  },
  {
   "cell_type": "code",
   "execution_count": 68,
   "id": "b4ea641a",
   "metadata": {},
   "outputs": [
    {
     "name": "stdout",
     "output_type": "stream",
     "text": [
      "Generated summary: **Resumen institucional del Reglamento (UE) 2019/1156**  \n",
      "**Fecha de publicación: 20 de junio de 2019**  \n",
      "\n",
      "---\n",
      "\n",
      "### **Objetivo general**  \n",
      "El Reglamento busca establecer normas unificadas para la distribución transfronteriza de organismos de inversión colectiva (FIA y OICVM), garantizando transparencia, protección de los inversores y equidad en el acceso a los fondos. Se fomenta la identificación clara de las comunicaciones publicitarias, la claridad de la información y la aplicación de normas comunes sobre tasas y cargos.  \n",
      "\n",
      "---\n",
      "\n",
      "### **Procedimientos clave**  \n",
      "1. **Identificación de comunicaciones publicitarias**  \n",
      "   - Las comunicaciones dirigidas a inversores deben ser identificables, describir riesgos y beneficios de manera igualmente destacada, y presentarse imparcialmente.  \n",
      "   - Se requiere un hiperenlace a documentos como el folleto y datos fundamentales para el inversor.  \n",
      "\n",
      "2. **Base de datos central de la AEVM**  \n",
      "   - La AEVM crea una base de datos central que registra FIA y OICVM, sus gestores, y los Estados miembros en los que se comercializan.  \n",
      "   - Se publican resúmenes de normas nacionales, hiperenlaces a sitios web de autoridades competentes y herramientas para calcular tasas y cargos.  \n",
      "\n",
      "3. **Verificación y reporte**  \n",
      "   - Las autoridades competentes realizan verificaciones ex ante y ex post para asegurar cumplimiento.  \n",
      "   - La AEVM presenta informes anuales sobre aplicaciones prácticas de normas, infracciones frecuentes y análisis de legislación aplicable.  \n",
      "\n",
      "4. **Tasas y cargos**  \n",
      "   - Se establecen modelos normativos para calcular tasas y cargos, con facturas y declaraciones claras.  \n",
      "   - Se requiere un portal de notificación para compartir información sobre tasas y cargos entre autoridades.  \n",
      "\n",
      "---\n",
      "\n",
      "### **Responsabilidades de las autoridades**  \n",
      "- **AEVM**: Supervisa, crea bases de datos, publica directrices técnicas y reportes anuales.  \n",
      "- **Autoridades competentes**: Publican normas nacionales, notifican cambios en datos y aseguran cumplimiento de requisitos.  \n",
      "- **Gestores de CIV**: Aseguran transparencia, cumplen con normas de precomercialización y proporcionan información a inversores.  \n",
      "\n",
      "---\n",
      "\n",
      "### **Plazos clave**  \n",
      "- **Base de datos central**: Publicar en 2 de febrero de 2022.  \n",
      "- **Reporte anual de AEVM**: Presentar en 31 de marzo de 2021 y cada dos años.  \n",
      "- **Verificación ex ante**: Realizar en plazos limitados, con notificación previa a gestores.  \n",
      "\n",
      "---\n",
      "\n",
      "### **Requisitos adicionales**  \n",
      "- **Transparencia de tasas**: Se publican en sitios web de autoridades y en la AEVM.  \n",
      "- **Protección de datos**: Se siguen el Reglamento (UE) 2016/679 (GDPR) y Reglamento (UE) 2018/1725 (reglamento de protección de datos).  \n",
      "- **Subsidiariedad**: El Reglamento no excede de lo necesario para mejorar la eficiencia del mercado, respetando la autonomía de los Estados miembros.  \n",
      "\n",
      "---\n",
      "\n",
      "### **Conclusión**  \n",
      "El Reglamento busca fortalecer la transparencia, proteger a los inversores y facilitar la distribución transfronteriza de CIVs, mediante una normativa unificada, un control eficiente y una comunicación clara. La AEVM desempeña un papel central en la supervisión, publicación y coordinación de estas medidas.\n"
     ]
    }
   ],
   "source": [
    "text = generate_summary(model, tokenizer, sample, max_new_tokens=4080)\n",
    "print(\"Generated summary:\", text)"
   ]
  },
  {
   "cell_type": "code",
   "execution_count": null,
   "id": "20f57918",
   "metadata": {},
   "outputs": [],
   "source": [
    "print(\"Expected summary:\", )"
   ]
  },
  {
   "cell_type": "code",
   "execution_count": null,
   "id": "04ad7c17",
   "metadata": {},
   "outputs": [
    {
     "data": {
      "text/plain": [
       "('models/modelo_final_vllm/tokenizer_config.json',\n",
       " 'models/modelo_final_vllm/special_tokens_map.json',\n",
       " 'models/modelo_final_vllm/vocab.json',\n",
       " 'models/modelo_final_vllm/merges.txt',\n",
       " 'models/modelo_final_vllm/added_tokens.json',\n",
       " 'models/modelo_final_vllm/tokenizer.json')"
      ]
     },
     "execution_count": 16,
     "metadata": {},
     "output_type": "execute_result"
    }
   ],
   "source": [
    "tokenizer.save_pretrained(\"models/modelo_final_vllm\")\n",
    "model.save_pretrained(\"models/modelo_final_vllm\")"
   ]
  }
 ],
 "metadata": {
  "kernelspec": {
   "display_name": "vqa_mmllm",
   "language": "python",
   "name": "python3"
  },
  "language_info": {
   "codemirror_mode": {
    "name": "ipython",
    "version": 3
   },
   "file_extension": ".py",
   "mimetype": "text/x-python",
   "name": "python",
   "nbconvert_exporter": "python",
   "pygments_lexer": "ipython3",
   "version": "3.10.16"
  }
 },
 "nbformat": 4,
 "nbformat_minor": 5
}
