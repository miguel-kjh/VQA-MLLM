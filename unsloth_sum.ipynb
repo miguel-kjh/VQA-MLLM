{
 "cells": [
  {
   "cell_type": "code",
   "execution_count": 1,
   "id": "6ca69524",
   "metadata": {},
   "outputs": [
    {
     "name": "stdout",
     "output_type": "stream",
     "text": [
      "🦥 Unsloth: Will patch your computer to enable 2x faster free finetuning.\n",
      "🦥 Unsloth Zoo will now patch everything to make training faster!\n",
      "INFO 06-03 21:28:52 [__init__.py:243] Automatically detected platform cuda.\n",
      "==((====))==  Unsloth 2025.5.9: Fast Qwen3 patching. Transformers: 4.51.3. vLLM: 0.9.0.1.\n",
      "   \\\\   /|    NVIDIA GeForce RTX 4070 SUPER. Num GPUs = 1. Max memory: 11.994 GB. Platform: Linux.\n",
      "O^O/ \\_/ \\    Torch: 2.7.0+cu126. CUDA: 8.9. CUDA Toolkit: 12.6. Triton: 3.3.0\n",
      "\\        /    Bfloat16 = TRUE. FA [Xformers = 0.0.30. FA2 = False]\n",
      " \"-____-\"     Free license: http://github.com/unslothai/unsloth\n",
      "Unsloth: Fast downloading is enabled - ignore downloading bars which are red colored!\n"
     ]
    },
    {
     "data": {
      "application/vnd.jupyter.widget-view+json": {
       "model_id": "810072d35e1b4b8c9acb60160d7080cb",
       "version_major": 2,
       "version_minor": 0
      },
      "text/plain": [
       "model-00001-of-00002.safetensors:   0%|          | 0.00/4.98G [00:00<?, ?B/s]"
      ]
     },
     "metadata": {},
     "output_type": "display_data"
    },
    {
     "name": "stderr",
     "output_type": "stream",
     "text": [
      "Cancellation requested; stopping current tasks.\n"
     ]
    },
    {
     "ename": "KeyboardInterrupt",
     "evalue": "",
     "output_type": "error",
     "traceback": [
      "\u001b[0;31m---------------------------------------------------------------------------\u001b[0m",
      "\u001b[0;31mKeyboardInterrupt\u001b[0m                         Traceback (most recent call last)",
      "File \u001b[0;32m~/miniconda3/envs/vqa_mmllm/lib/python3.10/site-packages/huggingface_hub/file_download.py:627\u001b[0m, in \u001b[0;36mxet_get\u001b[0;34m(incomplete_path, xet_file_data, headers, expected_size, displayed_filename, _tqdm_bar)\u001b[0m\n\u001b[1;32m    625\u001b[0m     progress\u001b[38;5;241m.\u001b[39mupdate(progress_bytes)\n\u001b[0;32m--> 627\u001b[0m \u001b[43mdownload_files\u001b[49m\u001b[43m(\u001b[49m\n\u001b[1;32m    628\u001b[0m \u001b[43m    \u001b[49m\u001b[43mxet_download_info\u001b[49m\u001b[43m,\u001b[49m\n\u001b[1;32m    629\u001b[0m \u001b[43m    \u001b[49m\u001b[43mendpoint\u001b[49m\u001b[38;5;241;43m=\u001b[39;49m\u001b[43mconnection_info\u001b[49m\u001b[38;5;241;43m.\u001b[39;49m\u001b[43mendpoint\u001b[49m\u001b[43m,\u001b[49m\n\u001b[1;32m    630\u001b[0m \u001b[43m    \u001b[49m\u001b[43mtoken_info\u001b[49m\u001b[38;5;241;43m=\u001b[39;49m\u001b[43m(\u001b[49m\u001b[43mconnection_info\u001b[49m\u001b[38;5;241;43m.\u001b[39;49m\u001b[43maccess_token\u001b[49m\u001b[43m,\u001b[49m\u001b[43m \u001b[49m\u001b[43mconnection_info\u001b[49m\u001b[38;5;241;43m.\u001b[39;49m\u001b[43mexpiration_unix_epoch\u001b[49m\u001b[43m)\u001b[49m\u001b[43m,\u001b[49m\n\u001b[1;32m    631\u001b[0m \u001b[43m    \u001b[49m\u001b[43mtoken_refresher\u001b[49m\u001b[38;5;241;43m=\u001b[39;49m\u001b[43mtoken_refresher\u001b[49m\u001b[43m,\u001b[49m\n\u001b[1;32m    632\u001b[0m \u001b[43m    \u001b[49m\u001b[43mprogress_updater\u001b[49m\u001b[38;5;241;43m=\u001b[39;49m\u001b[43m[\u001b[49m\u001b[43mprogress_updater\u001b[49m\u001b[43m]\u001b[49m\u001b[43m,\u001b[49m\n\u001b[1;32m    633\u001b[0m \u001b[43m\u001b[49m\u001b[43m)\u001b[49m\n",
      "\u001b[0;31mKeyboardInterrupt\u001b[0m: ",
      "\nDuring handling of the above exception, another exception occurred:\n",
      "\u001b[0;31mKeyboardInterrupt\u001b[0m                         Traceback (most recent call last)",
      "Cell \u001b[0;32mIn[1], line 7\u001b[0m\n\u001b[1;32m      4\u001b[0m SYSTEM_PROMPT \u001b[38;5;241m=\u001b[39m \u001b[38;5;124m\"\u001b[39m\u001b[38;5;124mEres un modelo entrenado para generar resúmenes institucionales de actas parlamentarias. Los resúmenes deben estar redactados en lenguaje formal-administrativo, sin juicios de valor, y seguir una estructura clara.\u001b[39m\u001b[38;5;124m\"\u001b[39m\n\u001b[1;32m      5\u001b[0m INSTRUCTION \u001b[38;5;241m=\u001b[39m \u001b[38;5;124m\"\u001b[39m\u001b[38;5;124mRedacta un resumen institucional en español del siguiente documento. Mantén un lenguaje objetivo, enfocado en los hechos y acuerdos:\u001b[39m\u001b[38;5;124m\"\u001b[39m\n\u001b[0;32m----> 7\u001b[0m model, tokenizer \u001b[38;5;241m=\u001b[39m \u001b[43mFastLanguageModel\u001b[49m\u001b[38;5;241;43m.\u001b[39;49m\u001b[43mfrom_pretrained\u001b[49m\u001b[43m(\u001b[49m\n\u001b[1;32m      8\u001b[0m \u001b[43m    \u001b[49m\u001b[38;5;66;43;03m#model_name=\"meta-llama/Llama-3.2-1B-Instruct\",\u001b[39;49;00m\n\u001b[1;32m      9\u001b[0m \u001b[43m    \u001b[49m\u001b[38;5;66;43;03m#model_name=\"BSC-LT/salamandra-2b-instruct\",\u001b[39;49;00m\n\u001b[1;32m     10\u001b[0m \u001b[43m    \u001b[49m\u001b[38;5;66;43;03m#model_name=\"Qwen/Qwen3-0.6B\",\u001b[39;49;00m\n\u001b[1;32m     11\u001b[0m \u001b[43m    \u001b[49m\u001b[43mmodel_name\u001b[49m\u001b[38;5;241;43m=\u001b[39;49m\u001b[38;5;124;43m\"\u001b[39;49m\u001b[38;5;124;43mQwen/Qwen3-8B\u001b[39;49m\u001b[38;5;124;43m\"\u001b[39;49m\u001b[43m,\u001b[49m\n\u001b[1;32m     12\u001b[0m \u001b[43m    \u001b[49m\u001b[43mmax_seq_length\u001b[49m\u001b[43m \u001b[49m\u001b[38;5;241;43m=\u001b[39;49m\u001b[43m \u001b[49m\u001b[38;5;241;43m2048\u001b[39;49m\u001b[43m,\u001b[49m\n\u001b[1;32m     13\u001b[0m \u001b[43m    \u001b[49m\u001b[43mdtype\u001b[49m\u001b[43m \u001b[49m\u001b[38;5;241;43m=\u001b[39;49m\u001b[43m \u001b[49m\u001b[38;5;28;43;01mNone\u001b[39;49;00m\u001b[43m,\u001b[49m\n\u001b[1;32m     14\u001b[0m \u001b[43m    \u001b[49m\u001b[43mload_in_4bit\u001b[49m\u001b[43m \u001b[49m\u001b[38;5;241;43m=\u001b[39;49m\u001b[43m \u001b[49m\u001b[38;5;28;43;01mTrue\u001b[39;49;00m\u001b[43m,\u001b[49m\u001b[43m \u001b[49m\u001b[38;5;66;43;03m# quantization\u001b[39;49;00m\n\u001b[1;32m     15\u001b[0m \u001b[43m)\u001b[49m\n\u001b[1;32m     16\u001b[0m tokenizer\u001b[38;5;241m.\u001b[39mclean_up_tokenization_spaces \u001b[38;5;241m=\u001b[39m \u001b[38;5;28;01mFalse\u001b[39;00m\n",
      "File \u001b[0;32m~/miniconda3/envs/vqa_mmllm/lib/python3.10/site-packages/unsloth/models/loader.py:376\u001b[0m, in \u001b[0;36mFastLanguageModel.from_pretrained\u001b[0;34m(model_name, max_seq_length, dtype, load_in_4bit, load_in_8bit, full_finetuning, token, device_map, rope_scaling, fix_tokenizer, trust_remote_code, use_gradient_checkpointing, resize_model_vocab, revision, use_exact_model_name, fast_inference, gpu_memory_utilization, float8_kv_cache, random_state, max_lora_rank, disable_log_stats, *args, **kwargs)\u001b[0m\n\u001b[1;32m    373\u001b[0m     \u001b[38;5;28;01mpass\u001b[39;00m\n\u001b[1;32m    374\u001b[0m \u001b[38;5;28;01mpass\u001b[39;00m\n\u001b[0;32m--> 376\u001b[0m model, tokenizer \u001b[38;5;241m=\u001b[39m \u001b[43mdispatch_model\u001b[49m\u001b[38;5;241;43m.\u001b[39;49m\u001b[43mfrom_pretrained\u001b[49m\u001b[43m(\u001b[49m\n\u001b[1;32m    377\u001b[0m \u001b[43m    \u001b[49m\u001b[43mmodel_name\u001b[49m\u001b[43m        \u001b[49m\u001b[38;5;241;43m=\u001b[39;49m\u001b[43m \u001b[49m\u001b[43mmodel_name\u001b[49m\u001b[43m,\u001b[49m\n\u001b[1;32m    378\u001b[0m \u001b[43m    \u001b[49m\u001b[43mmax_seq_length\u001b[49m\u001b[43m    \u001b[49m\u001b[38;5;241;43m=\u001b[39;49m\u001b[43m \u001b[49m\u001b[43mmax_seq_length\u001b[49m\u001b[43m,\u001b[49m\n\u001b[1;32m    379\u001b[0m \u001b[43m    \u001b[49m\u001b[43mdtype\u001b[49m\u001b[43m             \u001b[49m\u001b[38;5;241;43m=\u001b[39;49m\u001b[43m \u001b[49m\u001b[43m_get_dtype\u001b[49m\u001b[43m(\u001b[49m\u001b[43mdtype\u001b[49m\u001b[43m)\u001b[49m\u001b[43m,\u001b[49m\n\u001b[1;32m    380\u001b[0m \u001b[43m    \u001b[49m\u001b[43mload_in_4bit\u001b[49m\u001b[43m      \u001b[49m\u001b[38;5;241;43m=\u001b[39;49m\u001b[43m \u001b[49m\u001b[43mload_in_4bit\u001b[49m\u001b[43m,\u001b[49m\n\u001b[1;32m    381\u001b[0m \u001b[43m    \u001b[49m\u001b[43mtoken\u001b[49m\u001b[43m             \u001b[49m\u001b[38;5;241;43m=\u001b[39;49m\u001b[43m \u001b[49m\u001b[43mtoken\u001b[49m\u001b[43m,\u001b[49m\n\u001b[1;32m    382\u001b[0m \u001b[43m    \u001b[49m\u001b[43mdevice_map\u001b[49m\u001b[43m        \u001b[49m\u001b[38;5;241;43m=\u001b[39;49m\u001b[43m \u001b[49m\u001b[43mdevice_map\u001b[49m\u001b[43m,\u001b[49m\n\u001b[1;32m    383\u001b[0m \u001b[43m    \u001b[49m\u001b[43mrope_scaling\u001b[49m\u001b[43m      \u001b[49m\u001b[38;5;241;43m=\u001b[39;49m\u001b[43m \u001b[49m\u001b[43mrope_scaling\u001b[49m\u001b[43m,\u001b[49m\n\u001b[1;32m    384\u001b[0m \u001b[43m    \u001b[49m\u001b[43mfix_tokenizer\u001b[49m\u001b[43m     \u001b[49m\u001b[38;5;241;43m=\u001b[39;49m\u001b[43m \u001b[49m\u001b[43mfix_tokenizer\u001b[49m\u001b[43m,\u001b[49m\n\u001b[1;32m    385\u001b[0m \u001b[43m    \u001b[49m\u001b[43mmodel_patcher\u001b[49m\u001b[43m     \u001b[49m\u001b[38;5;241;43m=\u001b[39;49m\u001b[43m \u001b[49m\u001b[43mdispatch_model\u001b[49m\u001b[43m,\u001b[49m\n\u001b[1;32m    386\u001b[0m \u001b[43m    \u001b[49m\u001b[43mtokenizer_name\u001b[49m\u001b[43m    \u001b[49m\u001b[38;5;241;43m=\u001b[39;49m\u001b[43m \u001b[49m\u001b[43mtokenizer_name\u001b[49m\u001b[43m,\u001b[49m\n\u001b[1;32m    387\u001b[0m \u001b[43m    \u001b[49m\u001b[43mtrust_remote_code\u001b[49m\u001b[43m \u001b[49m\u001b[38;5;241;43m=\u001b[39;49m\u001b[43m \u001b[49m\u001b[43mtrust_remote_code\u001b[49m\u001b[43m,\u001b[49m\n\u001b[1;32m    388\u001b[0m \u001b[43m    \u001b[49m\u001b[43mrevision\u001b[49m\u001b[43m          \u001b[49m\u001b[38;5;241;43m=\u001b[39;49m\u001b[43m \u001b[49m\u001b[43mrevision\u001b[49m\u001b[43m \u001b[49m\u001b[38;5;28;43;01mif\u001b[39;49;00m\u001b[43m \u001b[49m\u001b[38;5;129;43;01mnot\u001b[39;49;00m\u001b[43m \u001b[49m\u001b[43mis_peft\u001b[49m\u001b[43m \u001b[49m\u001b[38;5;28;43;01melse\u001b[39;49;00m\u001b[43m \u001b[49m\u001b[38;5;28;43;01mNone\u001b[39;49;00m\u001b[43m,\u001b[49m\n\u001b[1;32m    389\u001b[0m \n\u001b[1;32m    390\u001b[0m \u001b[43m    \u001b[49m\u001b[43mfast_inference\u001b[49m\u001b[43m    \u001b[49m\u001b[38;5;241;43m=\u001b[39;49m\u001b[43m \u001b[49m\u001b[43mfast_inference\u001b[49m\u001b[43m,\u001b[49m\n\u001b[1;32m    391\u001b[0m \u001b[43m    \u001b[49m\u001b[43mgpu_memory_utilization\u001b[49m\u001b[43m \u001b[49m\u001b[38;5;241;43m=\u001b[39;49m\u001b[43m \u001b[49m\u001b[43mgpu_memory_utilization\u001b[49m\u001b[43m,\u001b[49m\n\u001b[1;32m    392\u001b[0m \u001b[43m    \u001b[49m\u001b[43mfloat8_kv_cache\u001b[49m\u001b[43m   \u001b[49m\u001b[38;5;241;43m=\u001b[39;49m\u001b[43m \u001b[49m\u001b[43mfloat8_kv_cache\u001b[49m\u001b[43m,\u001b[49m\n\u001b[1;32m    393\u001b[0m \u001b[43m    \u001b[49m\u001b[43mrandom_state\u001b[49m\u001b[43m      \u001b[49m\u001b[38;5;241;43m=\u001b[39;49m\u001b[43m \u001b[49m\u001b[43mrandom_state\u001b[49m\u001b[43m,\u001b[49m\n\u001b[1;32m    394\u001b[0m \u001b[43m    \u001b[49m\u001b[43mmax_lora_rank\u001b[49m\u001b[43m     \u001b[49m\u001b[38;5;241;43m=\u001b[39;49m\u001b[43m \u001b[49m\u001b[43mmax_lora_rank\u001b[49m\u001b[43m,\u001b[49m\n\u001b[1;32m    395\u001b[0m \u001b[43m    \u001b[49m\u001b[43mdisable_log_stats\u001b[49m\u001b[43m \u001b[49m\u001b[38;5;241;43m=\u001b[39;49m\u001b[43m \u001b[49m\u001b[43mdisable_log_stats\u001b[49m\u001b[43m,\u001b[49m\n\u001b[1;32m    396\u001b[0m \u001b[43m    \u001b[49m\u001b[38;5;241;43m*\u001b[39;49m\u001b[43margs\u001b[49m\u001b[43m,\u001b[49m\u001b[43m \u001b[49m\u001b[38;5;241;43m*\u001b[39;49m\u001b[38;5;241;43m*\u001b[39;49m\u001b[43mkwargs\u001b[49m\u001b[43m,\u001b[49m\n\u001b[1;32m    397\u001b[0m \u001b[43m\u001b[49m\u001b[43m)\u001b[49m\n\u001b[1;32m    399\u001b[0m \u001b[38;5;28;01mif\u001b[39;00m resize_model_vocab \u001b[38;5;129;01mis\u001b[39;00m \u001b[38;5;129;01mnot\u001b[39;00m \u001b[38;5;28;01mNone\u001b[39;00m:\n\u001b[1;32m    400\u001b[0m     model\u001b[38;5;241m.\u001b[39mresize_token_embeddings(resize_model_vocab)\n",
      "File \u001b[0;32m~/miniconda3/envs/vqa_mmllm/lib/python3.10/site-packages/unsloth/models/qwen3.py:419\u001b[0m, in \u001b[0;36mFastQwen3Model.from_pretrained\u001b[0;34m(model_name, max_seq_length, dtype, load_in_4bit, token, device_map, rope_scaling, fix_tokenizer, model_patcher, tokenizer_name, trust_remote_code, **kwargs)\u001b[0m\n\u001b[1;32m    404\u001b[0m \u001b[38;5;129m@staticmethod\u001b[39m\n\u001b[1;32m    405\u001b[0m \u001b[38;5;28;01mdef\u001b[39;00m\u001b[38;5;250m \u001b[39m\u001b[38;5;21mfrom_pretrained\u001b[39m(  \u001b[38;5;66;03m#TODO: Change after release\u001b[39;00m\n\u001b[1;32m    406\u001b[0m     model_name        \u001b[38;5;241m=\u001b[39m \u001b[38;5;124m\"\u001b[39m\u001b[38;5;124mQwen/Qwen3-7B\u001b[39m\u001b[38;5;124m\"\u001b[39m,\n\u001b[0;32m   (...)\u001b[0m\n\u001b[1;32m    417\u001b[0m     \u001b[38;5;241m*\u001b[39m\u001b[38;5;241m*\u001b[39mkwargs,\n\u001b[1;32m    418\u001b[0m ):\n\u001b[0;32m--> 419\u001b[0m     \u001b[38;5;28;01mreturn\u001b[39;00m \u001b[43mFastLlamaModel\u001b[49m\u001b[38;5;241;43m.\u001b[39;49m\u001b[43mfrom_pretrained\u001b[49m\u001b[43m(\u001b[49m\n\u001b[1;32m    420\u001b[0m \u001b[43m        \u001b[49m\u001b[43mmodel_name\u001b[49m\u001b[43m        \u001b[49m\u001b[38;5;241;43m=\u001b[39;49m\u001b[43m \u001b[49m\u001b[43mmodel_name\u001b[49m\u001b[43m,\u001b[49m\n\u001b[1;32m    421\u001b[0m \u001b[43m        \u001b[49m\u001b[43mmax_seq_length\u001b[49m\u001b[43m    \u001b[49m\u001b[38;5;241;43m=\u001b[39;49m\u001b[43m \u001b[49m\u001b[43mmax_seq_length\u001b[49m\u001b[43m,\u001b[49m\n\u001b[1;32m    422\u001b[0m \u001b[43m        \u001b[49m\u001b[43mdtype\u001b[49m\u001b[43m             \u001b[49m\u001b[38;5;241;43m=\u001b[39;49m\u001b[43m \u001b[49m\u001b[43mdtype\u001b[49m\u001b[43m,\u001b[49m\n\u001b[1;32m    423\u001b[0m \u001b[43m        \u001b[49m\u001b[43mload_in_4bit\u001b[49m\u001b[43m      \u001b[49m\u001b[38;5;241;43m=\u001b[39;49m\u001b[43m \u001b[49m\u001b[43mload_in_4bit\u001b[49m\u001b[43m,\u001b[49m\n\u001b[1;32m    424\u001b[0m \u001b[43m        \u001b[49m\u001b[43mtoken\u001b[49m\u001b[43m             \u001b[49m\u001b[38;5;241;43m=\u001b[39;49m\u001b[43m \u001b[49m\u001b[43mtoken\u001b[49m\u001b[43m,\u001b[49m\n\u001b[1;32m    425\u001b[0m \u001b[43m        \u001b[49m\u001b[43mdevice_map\u001b[49m\u001b[43m        \u001b[49m\u001b[38;5;241;43m=\u001b[39;49m\u001b[43m \u001b[49m\u001b[43mdevice_map\u001b[49m\u001b[43m,\u001b[49m\n\u001b[1;32m    426\u001b[0m \u001b[43m        \u001b[49m\u001b[43mrope_scaling\u001b[49m\u001b[43m      \u001b[49m\u001b[38;5;241;43m=\u001b[39;49m\u001b[43m \u001b[49m\u001b[43mrope_scaling\u001b[49m\u001b[43m,\u001b[49m\n\u001b[1;32m    427\u001b[0m \u001b[43m        \u001b[49m\u001b[43mfix_tokenizer\u001b[49m\u001b[43m     \u001b[49m\u001b[38;5;241;43m=\u001b[39;49m\u001b[43m \u001b[49m\u001b[43mfix_tokenizer\u001b[49m\u001b[43m,\u001b[49m\n\u001b[1;32m    428\u001b[0m \u001b[43m        \u001b[49m\u001b[43mmodel_patcher\u001b[49m\u001b[43m     \u001b[49m\u001b[38;5;241;43m=\u001b[39;49m\u001b[43m \u001b[49m\u001b[43mFastQwen3Model\u001b[49m\u001b[43m,\u001b[49m\n\u001b[1;32m    429\u001b[0m \u001b[43m        \u001b[49m\u001b[43mtokenizer_name\u001b[49m\u001b[43m    \u001b[49m\u001b[38;5;241;43m=\u001b[39;49m\u001b[43m \u001b[49m\u001b[43mtokenizer_name\u001b[49m\u001b[43m,\u001b[49m\n\u001b[1;32m    430\u001b[0m \u001b[43m        \u001b[49m\u001b[43mtrust_remote_code\u001b[49m\u001b[43m \u001b[49m\u001b[38;5;241;43m=\u001b[39;49m\u001b[43m \u001b[49m\u001b[43mtrust_remote_code\u001b[49m\u001b[43m,\u001b[49m\n\u001b[1;32m    431\u001b[0m \u001b[43m        \u001b[49m\u001b[38;5;241;43m*\u001b[39;49m\u001b[38;5;241;43m*\u001b[39;49m\u001b[43mkwargs\u001b[49m\u001b[43m,\u001b[49m\n\u001b[1;32m    432\u001b[0m \u001b[43m    \u001b[49m\u001b[43m)\u001b[49m\n",
      "File \u001b[0;32m~/miniconda3/envs/vqa_mmllm/lib/python3.10/site-packages/unsloth/models/llama.py:1787\u001b[0m, in \u001b[0;36mFastLlamaModel.from_pretrained\u001b[0;34m(model_name, max_seq_length, dtype, load_in_4bit, token, device_map, rope_scaling, fix_tokenizer, model_patcher, tokenizer_name, trust_remote_code, fast_inference, gpu_memory_utilization, float8_kv_cache, random_state, max_lora_rank, disable_log_stats, **kwargs)\u001b[0m\n\u001b[1;32m   1784\u001b[0m \u001b[38;5;28;01mif\u001b[39;00m load_in_4bit: kwargs[\u001b[38;5;124m\"\u001b[39m\u001b[38;5;124mquantization_config\u001b[39m\u001b[38;5;124m\"\u001b[39m] \u001b[38;5;241m=\u001b[39m bnb_config\n\u001b[1;32m   1786\u001b[0m \u001b[38;5;28;01mif\u001b[39;00m \u001b[38;5;129;01mnot\u001b[39;00m fast_inference:\n\u001b[0;32m-> 1787\u001b[0m     model \u001b[38;5;241m=\u001b[39m \u001b[43mAutoModelForCausalLM\u001b[49m\u001b[38;5;241;43m.\u001b[39;49m\u001b[43mfrom_pretrained\u001b[49m\u001b[43m(\u001b[49m\n\u001b[1;32m   1788\u001b[0m \u001b[43m        \u001b[49m\u001b[43mmodel_name\u001b[49m\u001b[43m,\u001b[49m\n\u001b[1;32m   1789\u001b[0m \u001b[43m        \u001b[49m\u001b[43mdevice_map\u001b[49m\u001b[43m              \u001b[49m\u001b[38;5;241;43m=\u001b[39;49m\u001b[43m \u001b[49m\u001b[43mdevice_map\u001b[49m\u001b[43m,\u001b[49m\n\u001b[1;32m   1790\u001b[0m \u001b[43m        \u001b[49m\u001b[43mtorch_dtype\u001b[49m\u001b[43m             \u001b[49m\u001b[38;5;241;43m=\u001b[39;49m\u001b[43m \u001b[49m\u001b[43mdtype\u001b[49m\u001b[43m,\u001b[49m\n\u001b[1;32m   1791\u001b[0m \u001b[43m        \u001b[49m\u001b[38;5;66;43;03m# quantization_config     = bnb_config,\u001b[39;49;00m\n\u001b[1;32m   1792\u001b[0m \u001b[43m        \u001b[49m\u001b[43mtoken\u001b[49m\u001b[43m                   \u001b[49m\u001b[38;5;241;43m=\u001b[39;49m\u001b[43m \u001b[49m\u001b[43mtoken\u001b[49m\u001b[43m,\u001b[49m\n\u001b[1;32m   1793\u001b[0m \u001b[43m        \u001b[49m\u001b[43mmax_position_embeddings\u001b[49m\u001b[43m \u001b[49m\u001b[38;5;241;43m=\u001b[39;49m\u001b[43m \u001b[49m\u001b[43mmax_position_embeddings\u001b[49m\u001b[43m,\u001b[49m\n\u001b[1;32m   1794\u001b[0m \u001b[43m        \u001b[49m\u001b[43mtrust_remote_code\u001b[49m\u001b[43m       \u001b[49m\u001b[38;5;241;43m=\u001b[39;49m\u001b[43m \u001b[49m\u001b[43mtrust_remote_code\u001b[49m\u001b[43m,\u001b[49m\n\u001b[1;32m   1795\u001b[0m \u001b[43m        \u001b[49m\u001b[43mattn_implementation\u001b[49m\u001b[43m     \u001b[49m\u001b[38;5;241;43m=\u001b[39;49m\u001b[43m \u001b[49m\u001b[38;5;124;43m\"\u001b[39;49m\u001b[38;5;124;43meager\u001b[39;49m\u001b[38;5;124;43m\"\u001b[39;49m\u001b[43m,\u001b[49m\n\u001b[1;32m   1796\u001b[0m \u001b[43m        \u001b[49m\u001b[38;5;241;43m*\u001b[39;49m\u001b[38;5;241;43m*\u001b[39;49m\u001b[43mkwargs\u001b[49m\u001b[43m,\u001b[49m\n\u001b[1;32m   1797\u001b[0m \u001b[43m    \u001b[49m\u001b[43m)\u001b[49m\n\u001b[1;32m   1798\u001b[0m     model\u001b[38;5;241m.\u001b[39mfast_generate \u001b[38;5;241m=\u001b[39m model\u001b[38;5;241m.\u001b[39mgenerate\n\u001b[1;32m   1799\u001b[0m     model\u001b[38;5;241m.\u001b[39mfast_generate_batches \u001b[38;5;241m=\u001b[39m \u001b[38;5;28;01mNone\u001b[39;00m\n",
      "File \u001b[0;32m~/miniconda3/envs/vqa_mmllm/lib/python3.10/site-packages/transformers/models/auto/auto_factory.py:571\u001b[0m, in \u001b[0;36m_BaseAutoModelClass.from_pretrained\u001b[0;34m(cls, pretrained_model_name_or_path, *model_args, **kwargs)\u001b[0m\n\u001b[1;32m    569\u001b[0m     \u001b[38;5;28;01mif\u001b[39;00m model_class\u001b[38;5;241m.\u001b[39mconfig_class \u001b[38;5;241m==\u001b[39m config\u001b[38;5;241m.\u001b[39msub_configs\u001b[38;5;241m.\u001b[39mget(\u001b[38;5;124m\"\u001b[39m\u001b[38;5;124mtext_config\u001b[39m\u001b[38;5;124m\"\u001b[39m, \u001b[38;5;28;01mNone\u001b[39;00m):\n\u001b[1;32m    570\u001b[0m         config \u001b[38;5;241m=\u001b[39m config\u001b[38;5;241m.\u001b[39mget_text_config()\n\u001b[0;32m--> 571\u001b[0m     \u001b[38;5;28;01mreturn\u001b[39;00m \u001b[43mmodel_class\u001b[49m\u001b[38;5;241;43m.\u001b[39;49m\u001b[43mfrom_pretrained\u001b[49m\u001b[43m(\u001b[49m\n\u001b[1;32m    572\u001b[0m \u001b[43m        \u001b[49m\u001b[43mpretrained_model_name_or_path\u001b[49m\u001b[43m,\u001b[49m\u001b[43m \u001b[49m\u001b[38;5;241;43m*\u001b[39;49m\u001b[43mmodel_args\u001b[49m\u001b[43m,\u001b[49m\u001b[43m \u001b[49m\u001b[43mconfig\u001b[49m\u001b[38;5;241;43m=\u001b[39;49m\u001b[43mconfig\u001b[49m\u001b[43m,\u001b[49m\u001b[43m \u001b[49m\u001b[38;5;241;43m*\u001b[39;49m\u001b[38;5;241;43m*\u001b[39;49m\u001b[43mhub_kwargs\u001b[49m\u001b[43m,\u001b[49m\u001b[43m \u001b[49m\u001b[38;5;241;43m*\u001b[39;49m\u001b[38;5;241;43m*\u001b[39;49m\u001b[43mkwargs\u001b[49m\n\u001b[1;32m    573\u001b[0m \u001b[43m    \u001b[49m\u001b[43m)\u001b[49m\n\u001b[1;32m    574\u001b[0m \u001b[38;5;28;01mraise\u001b[39;00m \u001b[38;5;167;01mValueError\u001b[39;00m(\n\u001b[1;32m    575\u001b[0m     \u001b[38;5;124mf\u001b[39m\u001b[38;5;124m\"\u001b[39m\u001b[38;5;124mUnrecognized configuration class \u001b[39m\u001b[38;5;132;01m{\u001b[39;00mconfig\u001b[38;5;241m.\u001b[39m\u001b[38;5;18m__class__\u001b[39m\u001b[38;5;132;01m}\u001b[39;00m\u001b[38;5;124m for this kind of AutoModel: \u001b[39m\u001b[38;5;132;01m{\u001b[39;00m\u001b[38;5;28mcls\u001b[39m\u001b[38;5;241m.\u001b[39m\u001b[38;5;18m__name__\u001b[39m\u001b[38;5;132;01m}\u001b[39;00m\u001b[38;5;124m.\u001b[39m\u001b[38;5;130;01m\\n\u001b[39;00m\u001b[38;5;124m\"\u001b[39m\n\u001b[1;32m    576\u001b[0m     \u001b[38;5;124mf\u001b[39m\u001b[38;5;124m\"\u001b[39m\u001b[38;5;124mModel type should be one of \u001b[39m\u001b[38;5;132;01m{\u001b[39;00m\u001b[38;5;124m'\u001b[39m\u001b[38;5;124m, \u001b[39m\u001b[38;5;124m'\u001b[39m\u001b[38;5;241m.\u001b[39mjoin(c\u001b[38;5;241m.\u001b[39m\u001b[38;5;18m__name__\u001b[39m\u001b[38;5;250m \u001b[39m\u001b[38;5;28;01mfor\u001b[39;00m\u001b[38;5;250m \u001b[39mc\u001b[38;5;250m \u001b[39m\u001b[38;5;129;01min\u001b[39;00m\u001b[38;5;250m \u001b[39m\u001b[38;5;28mcls\u001b[39m\u001b[38;5;241m.\u001b[39m_model_mapping\u001b[38;5;241m.\u001b[39mkeys())\u001b[38;5;132;01m}\u001b[39;00m\u001b[38;5;124m.\u001b[39m\u001b[38;5;124m\"\u001b[39m\n\u001b[1;32m    577\u001b[0m )\n",
      "File \u001b[0;32m~/miniconda3/envs/vqa_mmllm/lib/python3.10/site-packages/transformers/modeling_utils.py:279\u001b[0m, in \u001b[0;36mrestore_default_torch_dtype.<locals>._wrapper\u001b[0;34m(*args, **kwargs)\u001b[0m\n\u001b[1;32m    277\u001b[0m old_dtype \u001b[38;5;241m=\u001b[39m torch\u001b[38;5;241m.\u001b[39mget_default_dtype()\n\u001b[1;32m    278\u001b[0m \u001b[38;5;28;01mtry\u001b[39;00m:\n\u001b[0;32m--> 279\u001b[0m     \u001b[38;5;28;01mreturn\u001b[39;00m \u001b[43mfunc\u001b[49m\u001b[43m(\u001b[49m\u001b[38;5;241;43m*\u001b[39;49m\u001b[43margs\u001b[49m\u001b[43m,\u001b[49m\u001b[43m \u001b[49m\u001b[38;5;241;43m*\u001b[39;49m\u001b[38;5;241;43m*\u001b[39;49m\u001b[43mkwargs\u001b[49m\u001b[43m)\u001b[49m\n\u001b[1;32m    280\u001b[0m \u001b[38;5;28;01mfinally\u001b[39;00m:\n\u001b[1;32m    281\u001b[0m     torch\u001b[38;5;241m.\u001b[39mset_default_dtype(old_dtype)\n",
      "File \u001b[0;32m~/miniconda3/envs/vqa_mmllm/lib/python3.10/site-packages/transformers/modeling_utils.py:4260\u001b[0m, in \u001b[0;36mPreTrainedModel.from_pretrained\u001b[0;34m(cls, pretrained_model_name_or_path, config, cache_dir, ignore_mismatched_sizes, force_download, local_files_only, token, revision, use_safetensors, weights_only, *model_args, **kwargs)\u001b[0m\n\u001b[1;32m   4250\u001b[0m \u001b[38;5;28;01mif\u001b[39;00m (\n\u001b[1;32m   4251\u001b[0m     gguf_file\n\u001b[1;32m   4252\u001b[0m     \u001b[38;5;129;01mand\u001b[39;00m device_map \u001b[38;5;129;01mis\u001b[39;00m \u001b[38;5;129;01mnot\u001b[39;00m \u001b[38;5;28;01mNone\u001b[39;00m\n\u001b[1;32m   4253\u001b[0m     \u001b[38;5;129;01mand\u001b[39;00m ((\u001b[38;5;28misinstance\u001b[39m(device_map, \u001b[38;5;28mdict\u001b[39m) \u001b[38;5;129;01mand\u001b[39;00m \u001b[38;5;124m\"\u001b[39m\u001b[38;5;124mdisk\u001b[39m\u001b[38;5;124m\"\u001b[39m \u001b[38;5;129;01min\u001b[39;00m device_map\u001b[38;5;241m.\u001b[39mvalues()) \u001b[38;5;129;01mor\u001b[39;00m \u001b[38;5;124m\"\u001b[39m\u001b[38;5;124mdisk\u001b[39m\u001b[38;5;124m\"\u001b[39m \u001b[38;5;129;01min\u001b[39;00m device_map)\n\u001b[1;32m   4254\u001b[0m ):\n\u001b[1;32m   4255\u001b[0m     \u001b[38;5;28;01mraise\u001b[39;00m \u001b[38;5;167;01mRuntimeError\u001b[39;00m(\n\u001b[1;32m   4256\u001b[0m         \u001b[38;5;124m\"\u001b[39m\u001b[38;5;124mOne or more modules is configured to be mapped to disk. Disk offload is not supported for models \u001b[39m\u001b[38;5;124m\"\u001b[39m\n\u001b[1;32m   4257\u001b[0m         \u001b[38;5;124m\"\u001b[39m\u001b[38;5;124mloaded from GGUF files.\u001b[39m\u001b[38;5;124m\"\u001b[39m\n\u001b[1;32m   4258\u001b[0m     )\n\u001b[0;32m-> 4260\u001b[0m checkpoint_files, sharded_metadata \u001b[38;5;241m=\u001b[39m \u001b[43m_get_resolved_checkpoint_files\u001b[49m\u001b[43m(\u001b[49m\n\u001b[1;32m   4261\u001b[0m \u001b[43m    \u001b[49m\u001b[43mpretrained_model_name_or_path\u001b[49m\u001b[38;5;241;43m=\u001b[39;49m\u001b[43mpretrained_model_name_or_path\u001b[49m\u001b[43m,\u001b[49m\n\u001b[1;32m   4262\u001b[0m \u001b[43m    \u001b[49m\u001b[43msubfolder\u001b[49m\u001b[38;5;241;43m=\u001b[39;49m\u001b[43msubfolder\u001b[49m\u001b[43m,\u001b[49m\n\u001b[1;32m   4263\u001b[0m \u001b[43m    \u001b[49m\u001b[43mvariant\u001b[49m\u001b[38;5;241;43m=\u001b[39;49m\u001b[43mvariant\u001b[49m\u001b[43m,\u001b[49m\n\u001b[1;32m   4264\u001b[0m \u001b[43m    \u001b[49m\u001b[43mgguf_file\u001b[49m\u001b[38;5;241;43m=\u001b[39;49m\u001b[43mgguf_file\u001b[49m\u001b[43m,\u001b[49m\n\u001b[1;32m   4265\u001b[0m \u001b[43m    \u001b[49m\u001b[43mfrom_tf\u001b[49m\u001b[38;5;241;43m=\u001b[39;49m\u001b[43mfrom_tf\u001b[49m\u001b[43m,\u001b[49m\n\u001b[1;32m   4266\u001b[0m \u001b[43m    \u001b[49m\u001b[43mfrom_flax\u001b[49m\u001b[38;5;241;43m=\u001b[39;49m\u001b[43mfrom_flax\u001b[49m\u001b[43m,\u001b[49m\n\u001b[1;32m   4267\u001b[0m \u001b[43m    \u001b[49m\u001b[43muse_safetensors\u001b[49m\u001b[38;5;241;43m=\u001b[39;49m\u001b[43muse_safetensors\u001b[49m\u001b[43m,\u001b[49m\n\u001b[1;32m   4268\u001b[0m \u001b[43m    \u001b[49m\u001b[43mcache_dir\u001b[49m\u001b[38;5;241;43m=\u001b[39;49m\u001b[43mcache_dir\u001b[49m\u001b[43m,\u001b[49m\n\u001b[1;32m   4269\u001b[0m \u001b[43m    \u001b[49m\u001b[43mforce_download\u001b[49m\u001b[38;5;241;43m=\u001b[39;49m\u001b[43mforce_download\u001b[49m\u001b[43m,\u001b[49m\n\u001b[1;32m   4270\u001b[0m \u001b[43m    \u001b[49m\u001b[43mproxies\u001b[49m\u001b[38;5;241;43m=\u001b[39;49m\u001b[43mproxies\u001b[49m\u001b[43m,\u001b[49m\n\u001b[1;32m   4271\u001b[0m \u001b[43m    \u001b[49m\u001b[43mlocal_files_only\u001b[49m\u001b[38;5;241;43m=\u001b[39;49m\u001b[43mlocal_files_only\u001b[49m\u001b[43m,\u001b[49m\n\u001b[1;32m   4272\u001b[0m \u001b[43m    \u001b[49m\u001b[43mtoken\u001b[49m\u001b[38;5;241;43m=\u001b[39;49m\u001b[43mtoken\u001b[49m\u001b[43m,\u001b[49m\n\u001b[1;32m   4273\u001b[0m \u001b[43m    \u001b[49m\u001b[43muser_agent\u001b[49m\u001b[38;5;241;43m=\u001b[39;49m\u001b[43muser_agent\u001b[49m\u001b[43m,\u001b[49m\n\u001b[1;32m   4274\u001b[0m \u001b[43m    \u001b[49m\u001b[43mrevision\u001b[49m\u001b[38;5;241;43m=\u001b[39;49m\u001b[43mrevision\u001b[49m\u001b[43m,\u001b[49m\n\u001b[1;32m   4275\u001b[0m \u001b[43m    \u001b[49m\u001b[43mcommit_hash\u001b[49m\u001b[38;5;241;43m=\u001b[39;49m\u001b[43mcommit_hash\u001b[49m\u001b[43m,\u001b[49m\n\u001b[1;32m   4276\u001b[0m \u001b[43m\u001b[49m\u001b[43m)\u001b[49m\n\u001b[1;32m   4278\u001b[0m is_sharded \u001b[38;5;241m=\u001b[39m sharded_metadata \u001b[38;5;129;01mis\u001b[39;00m \u001b[38;5;129;01mnot\u001b[39;00m \u001b[38;5;28;01mNone\u001b[39;00m\n\u001b[1;32m   4279\u001b[0m is_quantized \u001b[38;5;241m=\u001b[39m hf_quantizer \u001b[38;5;129;01mis\u001b[39;00m \u001b[38;5;129;01mnot\u001b[39;00m \u001b[38;5;28;01mNone\u001b[39;00m\n",
      "File \u001b[0;32m~/miniconda3/envs/vqa_mmllm/lib/python3.10/site-packages/transformers/modeling_utils.py:1152\u001b[0m, in \u001b[0;36m_get_resolved_checkpoint_files\u001b[0;34m(pretrained_model_name_or_path, subfolder, variant, gguf_file, from_tf, from_flax, use_safetensors, cache_dir, force_download, proxies, local_files_only, token, user_agent, revision, commit_hash)\u001b[0m\n\u001b[1;32m   1150\u001b[0m sharded_metadata \u001b[38;5;241m=\u001b[39m \u001b[38;5;28;01mNone\u001b[39;00m\n\u001b[1;32m   1151\u001b[0m \u001b[38;5;28;01mif\u001b[39;00m is_sharded:\n\u001b[0;32m-> 1152\u001b[0m     checkpoint_files, sharded_metadata \u001b[38;5;241m=\u001b[39m \u001b[43mget_checkpoint_shard_files\u001b[49m\u001b[43m(\u001b[49m\n\u001b[1;32m   1153\u001b[0m \u001b[43m        \u001b[49m\u001b[43mpretrained_model_name_or_path\u001b[49m\u001b[43m,\u001b[49m\n\u001b[1;32m   1154\u001b[0m \u001b[43m        \u001b[49m\u001b[43mresolved_archive_file\u001b[49m\u001b[43m,\u001b[49m\n\u001b[1;32m   1155\u001b[0m \u001b[43m        \u001b[49m\u001b[43mcache_dir\u001b[49m\u001b[38;5;241;43m=\u001b[39;49m\u001b[43mcache_dir\u001b[49m\u001b[43m,\u001b[49m\n\u001b[1;32m   1156\u001b[0m \u001b[43m        \u001b[49m\u001b[43mforce_download\u001b[49m\u001b[38;5;241;43m=\u001b[39;49m\u001b[43mforce_download\u001b[49m\u001b[43m,\u001b[49m\n\u001b[1;32m   1157\u001b[0m \u001b[43m        \u001b[49m\u001b[43mproxies\u001b[49m\u001b[38;5;241;43m=\u001b[39;49m\u001b[43mproxies\u001b[49m\u001b[43m,\u001b[49m\n\u001b[1;32m   1158\u001b[0m \u001b[43m        \u001b[49m\u001b[43mlocal_files_only\u001b[49m\u001b[38;5;241;43m=\u001b[39;49m\u001b[43mlocal_files_only\u001b[49m\u001b[43m,\u001b[49m\n\u001b[1;32m   1159\u001b[0m \u001b[43m        \u001b[49m\u001b[43mtoken\u001b[49m\u001b[38;5;241;43m=\u001b[39;49m\u001b[43mtoken\u001b[49m\u001b[43m,\u001b[49m\n\u001b[1;32m   1160\u001b[0m \u001b[43m        \u001b[49m\u001b[43muser_agent\u001b[49m\u001b[38;5;241;43m=\u001b[39;49m\u001b[43muser_agent\u001b[49m\u001b[43m,\u001b[49m\n\u001b[1;32m   1161\u001b[0m \u001b[43m        \u001b[49m\u001b[43mrevision\u001b[49m\u001b[38;5;241;43m=\u001b[39;49m\u001b[43mrevision\u001b[49m\u001b[43m,\u001b[49m\n\u001b[1;32m   1162\u001b[0m \u001b[43m        \u001b[49m\u001b[43msubfolder\u001b[49m\u001b[38;5;241;43m=\u001b[39;49m\u001b[43msubfolder\u001b[49m\u001b[43m,\u001b[49m\n\u001b[1;32m   1163\u001b[0m \u001b[43m        \u001b[49m\u001b[43m_commit_hash\u001b[49m\u001b[38;5;241;43m=\u001b[39;49m\u001b[43mcommit_hash\u001b[49m\u001b[43m,\u001b[49m\n\u001b[1;32m   1164\u001b[0m \u001b[43m    \u001b[49m\u001b[43m)\u001b[49m\n\u001b[1;32m   1165\u001b[0m \u001b[38;5;28;01melse\u001b[39;00m:\n\u001b[1;32m   1166\u001b[0m     checkpoint_files \u001b[38;5;241m=\u001b[39m [resolved_archive_file] \u001b[38;5;28;01mif\u001b[39;00m pretrained_model_name_or_path \u001b[38;5;129;01mis\u001b[39;00m \u001b[38;5;129;01mnot\u001b[39;00m \u001b[38;5;28;01mNone\u001b[39;00m \u001b[38;5;28;01melse\u001b[39;00m \u001b[38;5;28;01mNone\u001b[39;00m\n",
      "File \u001b[0;32m~/miniconda3/envs/vqa_mmllm/lib/python3.10/site-packages/transformers/utils/hub.py:1115\u001b[0m, in \u001b[0;36mget_checkpoint_shard_files\u001b[0;34m(pretrained_model_name_or_path, index_filename, cache_dir, force_download, proxies, resume_download, local_files_only, token, user_agent, revision, subfolder, _commit_hash, **deprecated_kwargs)\u001b[0m\n\u001b[1;32m   1111\u001b[0m     \u001b[38;5;28;01mreturn\u001b[39;00m shard_filenames, sharded_metadata\n\u001b[1;32m   1113\u001b[0m \u001b[38;5;66;03m# At this stage pretrained_model_name_or_path is a model identifier on the Hub. Try to get everything from cache,\u001b[39;00m\n\u001b[1;32m   1114\u001b[0m \u001b[38;5;66;03m# or download the files\u001b[39;00m\n\u001b[0;32m-> 1115\u001b[0m cached_filenames \u001b[38;5;241m=\u001b[39m \u001b[43mcached_files\u001b[49m\u001b[43m(\u001b[49m\n\u001b[1;32m   1116\u001b[0m \u001b[43m    \u001b[49m\u001b[43mpretrained_model_name_or_path\u001b[49m\u001b[43m,\u001b[49m\n\u001b[1;32m   1117\u001b[0m \u001b[43m    \u001b[49m\u001b[43mshard_filenames\u001b[49m\u001b[43m,\u001b[49m\n\u001b[1;32m   1118\u001b[0m \u001b[43m    \u001b[49m\u001b[43mcache_dir\u001b[49m\u001b[38;5;241;43m=\u001b[39;49m\u001b[43mcache_dir\u001b[49m\u001b[43m,\u001b[49m\n\u001b[1;32m   1119\u001b[0m \u001b[43m    \u001b[49m\u001b[43mforce_download\u001b[49m\u001b[38;5;241;43m=\u001b[39;49m\u001b[43mforce_download\u001b[49m\u001b[43m,\u001b[49m\n\u001b[1;32m   1120\u001b[0m \u001b[43m    \u001b[49m\u001b[43mproxies\u001b[49m\u001b[38;5;241;43m=\u001b[39;49m\u001b[43mproxies\u001b[49m\u001b[43m,\u001b[49m\n\u001b[1;32m   1121\u001b[0m \u001b[43m    \u001b[49m\u001b[43mresume_download\u001b[49m\u001b[38;5;241;43m=\u001b[39;49m\u001b[43mresume_download\u001b[49m\u001b[43m,\u001b[49m\n\u001b[1;32m   1122\u001b[0m \u001b[43m    \u001b[49m\u001b[43mlocal_files_only\u001b[49m\u001b[38;5;241;43m=\u001b[39;49m\u001b[43mlocal_files_only\u001b[49m\u001b[43m,\u001b[49m\n\u001b[1;32m   1123\u001b[0m \u001b[43m    \u001b[49m\u001b[43mtoken\u001b[49m\u001b[38;5;241;43m=\u001b[39;49m\u001b[43mtoken\u001b[49m\u001b[43m,\u001b[49m\n\u001b[1;32m   1124\u001b[0m \u001b[43m    \u001b[49m\u001b[43muser_agent\u001b[49m\u001b[38;5;241;43m=\u001b[39;49m\u001b[43muser_agent\u001b[49m\u001b[43m,\u001b[49m\n\u001b[1;32m   1125\u001b[0m \u001b[43m    \u001b[49m\u001b[43mrevision\u001b[49m\u001b[38;5;241;43m=\u001b[39;49m\u001b[43mrevision\u001b[49m\u001b[43m,\u001b[49m\n\u001b[1;32m   1126\u001b[0m \u001b[43m    \u001b[49m\u001b[43msubfolder\u001b[49m\u001b[38;5;241;43m=\u001b[39;49m\u001b[43msubfolder\u001b[49m\u001b[43m,\u001b[49m\n\u001b[1;32m   1127\u001b[0m \u001b[43m    \u001b[49m\u001b[43m_commit_hash\u001b[49m\u001b[38;5;241;43m=\u001b[39;49m\u001b[43m_commit_hash\u001b[49m\u001b[43m,\u001b[49m\n\u001b[1;32m   1128\u001b[0m \u001b[43m\u001b[49m\u001b[43m)\u001b[49m\n\u001b[1;32m   1130\u001b[0m \u001b[38;5;28;01mreturn\u001b[39;00m cached_filenames, sharded_metadata\n",
      "File \u001b[0;32m~/miniconda3/envs/vqa_mmllm/lib/python3.10/site-packages/transformers/utils/hub.py:439\u001b[0m, in \u001b[0;36mcached_files\u001b[0;34m(path_or_repo_id, filenames, cache_dir, force_download, resume_download, proxies, token, revision, local_files_only, subfolder, repo_type, user_agent, _raise_exceptions_for_gated_repo, _raise_exceptions_for_missing_entries, _raise_exceptions_for_connection_errors, _commit_hash, **deprecated_kwargs)\u001b[0m\n\u001b[1;32m    424\u001b[0m         hf_hub_download(\n\u001b[1;32m    425\u001b[0m             path_or_repo_id,\n\u001b[1;32m    426\u001b[0m             filenames[\u001b[38;5;241m0\u001b[39m],\n\u001b[0;32m   (...)\u001b[0m\n\u001b[1;32m    436\u001b[0m             local_files_only\u001b[38;5;241m=\u001b[39mlocal_files_only,\n\u001b[1;32m    437\u001b[0m         )\n\u001b[1;32m    438\u001b[0m     \u001b[38;5;28;01melse\u001b[39;00m:\n\u001b[0;32m--> 439\u001b[0m         \u001b[43msnapshot_download\u001b[49m\u001b[43m(\u001b[49m\n\u001b[1;32m    440\u001b[0m \u001b[43m            \u001b[49m\u001b[43mpath_or_repo_id\u001b[49m\u001b[43m,\u001b[49m\n\u001b[1;32m    441\u001b[0m \u001b[43m            \u001b[49m\u001b[43mallow_patterns\u001b[49m\u001b[38;5;241;43m=\u001b[39;49m\u001b[43mfull_filenames\u001b[49m\u001b[43m,\u001b[49m\n\u001b[1;32m    442\u001b[0m \u001b[43m            \u001b[49m\u001b[43mrepo_type\u001b[49m\u001b[38;5;241;43m=\u001b[39;49m\u001b[43mrepo_type\u001b[49m\u001b[43m,\u001b[49m\n\u001b[1;32m    443\u001b[0m \u001b[43m            \u001b[49m\u001b[43mrevision\u001b[49m\u001b[38;5;241;43m=\u001b[39;49m\u001b[43mrevision\u001b[49m\u001b[43m,\u001b[49m\n\u001b[1;32m    444\u001b[0m \u001b[43m            \u001b[49m\u001b[43mcache_dir\u001b[49m\u001b[38;5;241;43m=\u001b[39;49m\u001b[43mcache_dir\u001b[49m\u001b[43m,\u001b[49m\n\u001b[1;32m    445\u001b[0m \u001b[43m            \u001b[49m\u001b[43muser_agent\u001b[49m\u001b[38;5;241;43m=\u001b[39;49m\u001b[43muser_agent\u001b[49m\u001b[43m,\u001b[49m\n\u001b[1;32m    446\u001b[0m \u001b[43m            \u001b[49m\u001b[43mforce_download\u001b[49m\u001b[38;5;241;43m=\u001b[39;49m\u001b[43mforce_download\u001b[49m\u001b[43m,\u001b[49m\n\u001b[1;32m    447\u001b[0m \u001b[43m            \u001b[49m\u001b[43mproxies\u001b[49m\u001b[38;5;241;43m=\u001b[39;49m\u001b[43mproxies\u001b[49m\u001b[43m,\u001b[49m\n\u001b[1;32m    448\u001b[0m \u001b[43m            \u001b[49m\u001b[43mresume_download\u001b[49m\u001b[38;5;241;43m=\u001b[39;49m\u001b[43mresume_download\u001b[49m\u001b[43m,\u001b[49m\n\u001b[1;32m    449\u001b[0m \u001b[43m            \u001b[49m\u001b[43mtoken\u001b[49m\u001b[38;5;241;43m=\u001b[39;49m\u001b[43mtoken\u001b[49m\u001b[43m,\u001b[49m\n\u001b[1;32m    450\u001b[0m \u001b[43m            \u001b[49m\u001b[43mlocal_files_only\u001b[49m\u001b[38;5;241;43m=\u001b[39;49m\u001b[43mlocal_files_only\u001b[49m\u001b[43m,\u001b[49m\n\u001b[1;32m    451\u001b[0m \u001b[43m        \u001b[49m\u001b[43m)\u001b[49m\n\u001b[1;32m    453\u001b[0m \u001b[38;5;28;01mexcept\u001b[39;00m \u001b[38;5;167;01mException\u001b[39;00m \u001b[38;5;28;01mas\u001b[39;00m e:\n\u001b[1;32m    454\u001b[0m     \u001b[38;5;66;03m# We cannot recover from them\u001b[39;00m\n\u001b[1;32m    455\u001b[0m     \u001b[38;5;28;01mif\u001b[39;00m \u001b[38;5;28misinstance\u001b[39m(e, RepositoryNotFoundError) \u001b[38;5;129;01mand\u001b[39;00m \u001b[38;5;129;01mnot\u001b[39;00m \u001b[38;5;28misinstance\u001b[39m(e, GatedRepoError):\n",
      "File \u001b[0;32m~/miniconda3/envs/vqa_mmllm/lib/python3.10/site-packages/huggingface_hub/utils/_validators.py:114\u001b[0m, in \u001b[0;36mvalidate_hf_hub_args.<locals>._inner_fn\u001b[0;34m(*args, **kwargs)\u001b[0m\n\u001b[1;32m    111\u001b[0m \u001b[38;5;28;01mif\u001b[39;00m check_use_auth_token:\n\u001b[1;32m    112\u001b[0m     kwargs \u001b[38;5;241m=\u001b[39m smoothly_deprecate_use_auth_token(fn_name\u001b[38;5;241m=\u001b[39mfn\u001b[38;5;241m.\u001b[39m\u001b[38;5;18m__name__\u001b[39m, has_token\u001b[38;5;241m=\u001b[39mhas_token, kwargs\u001b[38;5;241m=\u001b[39mkwargs)\n\u001b[0;32m--> 114\u001b[0m \u001b[38;5;28;01mreturn\u001b[39;00m \u001b[43mfn\u001b[49m\u001b[43m(\u001b[49m\u001b[38;5;241;43m*\u001b[39;49m\u001b[43margs\u001b[49m\u001b[43m,\u001b[49m\u001b[43m \u001b[49m\u001b[38;5;241;43m*\u001b[39;49m\u001b[38;5;241;43m*\u001b[39;49m\u001b[43mkwargs\u001b[49m\u001b[43m)\u001b[49m\n",
      "File \u001b[0;32m~/miniconda3/envs/vqa_mmllm/lib/python3.10/site-packages/huggingface_hub/_snapshot_download.py:325\u001b[0m, in \u001b[0;36msnapshot_download\u001b[0;34m(repo_id, repo_type, revision, cache_dir, local_dir, library_name, library_version, user_agent, proxies, etag_timeout, force_download, token, local_files_only, allow_patterns, ignore_patterns, max_workers, tqdm_class, headers, endpoint, local_dir_use_symlinks, resume_download)\u001b[0m\n\u001b[1;32m    321\u001b[0m \u001b[38;5;28;01mif\u001b[39;00m constants\u001b[38;5;241m.\u001b[39mHF_HUB_ENABLE_HF_TRANSFER:\n\u001b[1;32m    322\u001b[0m     \u001b[38;5;66;03m# when using hf_transfer we don't want extra parallelism\u001b[39;00m\n\u001b[1;32m    323\u001b[0m     \u001b[38;5;66;03m# from the one hf_transfer provides\u001b[39;00m\n\u001b[1;32m    324\u001b[0m     \u001b[38;5;28;01mfor\u001b[39;00m file \u001b[38;5;129;01min\u001b[39;00m filtered_repo_files:\n\u001b[0;32m--> 325\u001b[0m         \u001b[43m_inner_hf_hub_download\u001b[49m\u001b[43m(\u001b[49m\u001b[43mfile\u001b[49m\u001b[43m)\u001b[49m\n\u001b[1;32m    326\u001b[0m \u001b[38;5;28;01melse\u001b[39;00m:\n\u001b[1;32m    327\u001b[0m     thread_map(\n\u001b[1;32m    328\u001b[0m         _inner_hf_hub_download,\n\u001b[1;32m    329\u001b[0m         filtered_repo_files,\n\u001b[0;32m   (...)\u001b[0m\n\u001b[1;32m    333\u001b[0m         tqdm_class\u001b[38;5;241m=\u001b[39mtqdm_class \u001b[38;5;129;01mor\u001b[39;00m hf_tqdm,\n\u001b[1;32m    334\u001b[0m     )\n",
      "File \u001b[0;32m~/miniconda3/envs/vqa_mmllm/lib/python3.10/site-packages/huggingface_hub/_snapshot_download.py:301\u001b[0m, in \u001b[0;36msnapshot_download.<locals>._inner_hf_hub_download\u001b[0;34m(repo_file)\u001b[0m\n\u001b[1;32m    300\u001b[0m \u001b[38;5;28;01mdef\u001b[39;00m\u001b[38;5;250m \u001b[39m\u001b[38;5;21m_inner_hf_hub_download\u001b[39m(repo_file: \u001b[38;5;28mstr\u001b[39m):\n\u001b[0;32m--> 301\u001b[0m     \u001b[38;5;28;01mreturn\u001b[39;00m \u001b[43mhf_hub_download\u001b[49m\u001b[43m(\u001b[49m\n\u001b[1;32m    302\u001b[0m \u001b[43m        \u001b[49m\u001b[43mrepo_id\u001b[49m\u001b[43m,\u001b[49m\n\u001b[1;32m    303\u001b[0m \u001b[43m        \u001b[49m\u001b[43mfilename\u001b[49m\u001b[38;5;241;43m=\u001b[39;49m\u001b[43mrepo_file\u001b[49m\u001b[43m,\u001b[49m\n\u001b[1;32m    304\u001b[0m \u001b[43m        \u001b[49m\u001b[43mrepo_type\u001b[49m\u001b[38;5;241;43m=\u001b[39;49m\u001b[43mrepo_type\u001b[49m\u001b[43m,\u001b[49m\n\u001b[1;32m    305\u001b[0m \u001b[43m        \u001b[49m\u001b[43mrevision\u001b[49m\u001b[38;5;241;43m=\u001b[39;49m\u001b[43mcommit_hash\u001b[49m\u001b[43m,\u001b[49m\n\u001b[1;32m    306\u001b[0m \u001b[43m        \u001b[49m\u001b[43mendpoint\u001b[49m\u001b[38;5;241;43m=\u001b[39;49m\u001b[43mendpoint\u001b[49m\u001b[43m,\u001b[49m\n\u001b[1;32m    307\u001b[0m \u001b[43m        \u001b[49m\u001b[43mcache_dir\u001b[49m\u001b[38;5;241;43m=\u001b[39;49m\u001b[43mcache_dir\u001b[49m\u001b[43m,\u001b[49m\n\u001b[1;32m    308\u001b[0m \u001b[43m        \u001b[49m\u001b[43mlocal_dir\u001b[49m\u001b[38;5;241;43m=\u001b[39;49m\u001b[43mlocal_dir\u001b[49m\u001b[43m,\u001b[49m\n\u001b[1;32m    309\u001b[0m \u001b[43m        \u001b[49m\u001b[43mlocal_dir_use_symlinks\u001b[49m\u001b[38;5;241;43m=\u001b[39;49m\u001b[43mlocal_dir_use_symlinks\u001b[49m\u001b[43m,\u001b[49m\n\u001b[1;32m    310\u001b[0m \u001b[43m        \u001b[49m\u001b[43mlibrary_name\u001b[49m\u001b[38;5;241;43m=\u001b[39;49m\u001b[43mlibrary_name\u001b[49m\u001b[43m,\u001b[49m\n\u001b[1;32m    311\u001b[0m \u001b[43m        \u001b[49m\u001b[43mlibrary_version\u001b[49m\u001b[38;5;241;43m=\u001b[39;49m\u001b[43mlibrary_version\u001b[49m\u001b[43m,\u001b[49m\n\u001b[1;32m    312\u001b[0m \u001b[43m        \u001b[49m\u001b[43muser_agent\u001b[49m\u001b[38;5;241;43m=\u001b[39;49m\u001b[43muser_agent\u001b[49m\u001b[43m,\u001b[49m\n\u001b[1;32m    313\u001b[0m \u001b[43m        \u001b[49m\u001b[43mproxies\u001b[49m\u001b[38;5;241;43m=\u001b[39;49m\u001b[43mproxies\u001b[49m\u001b[43m,\u001b[49m\n\u001b[1;32m    314\u001b[0m \u001b[43m        \u001b[49m\u001b[43metag_timeout\u001b[49m\u001b[38;5;241;43m=\u001b[39;49m\u001b[43metag_timeout\u001b[49m\u001b[43m,\u001b[49m\n\u001b[1;32m    315\u001b[0m \u001b[43m        \u001b[49m\u001b[43mresume_download\u001b[49m\u001b[38;5;241;43m=\u001b[39;49m\u001b[43mresume_download\u001b[49m\u001b[43m,\u001b[49m\n\u001b[1;32m    316\u001b[0m \u001b[43m        \u001b[49m\u001b[43mforce_download\u001b[49m\u001b[38;5;241;43m=\u001b[39;49m\u001b[43mforce_download\u001b[49m\u001b[43m,\u001b[49m\n\u001b[1;32m    317\u001b[0m \u001b[43m        \u001b[49m\u001b[43mtoken\u001b[49m\u001b[38;5;241;43m=\u001b[39;49m\u001b[43mtoken\u001b[49m\u001b[43m,\u001b[49m\n\u001b[1;32m    318\u001b[0m \u001b[43m        \u001b[49m\u001b[43mheaders\u001b[49m\u001b[38;5;241;43m=\u001b[39;49m\u001b[43mheaders\u001b[49m\u001b[43m,\u001b[49m\n\u001b[1;32m    319\u001b[0m \u001b[43m    \u001b[49m\u001b[43m)\u001b[49m\n",
      "File \u001b[0;32m~/miniconda3/envs/vqa_mmllm/lib/python3.10/site-packages/huggingface_hub/utils/_validators.py:114\u001b[0m, in \u001b[0;36mvalidate_hf_hub_args.<locals>._inner_fn\u001b[0;34m(*args, **kwargs)\u001b[0m\n\u001b[1;32m    111\u001b[0m \u001b[38;5;28;01mif\u001b[39;00m check_use_auth_token:\n\u001b[1;32m    112\u001b[0m     kwargs \u001b[38;5;241m=\u001b[39m smoothly_deprecate_use_auth_token(fn_name\u001b[38;5;241m=\u001b[39mfn\u001b[38;5;241m.\u001b[39m\u001b[38;5;18m__name__\u001b[39m, has_token\u001b[38;5;241m=\u001b[39mhas_token, kwargs\u001b[38;5;241m=\u001b[39mkwargs)\n\u001b[0;32m--> 114\u001b[0m \u001b[38;5;28;01mreturn\u001b[39;00m \u001b[43mfn\u001b[49m\u001b[43m(\u001b[49m\u001b[38;5;241;43m*\u001b[39;49m\u001b[43margs\u001b[49m\u001b[43m,\u001b[49m\u001b[43m \u001b[49m\u001b[38;5;241;43m*\u001b[39;49m\u001b[38;5;241;43m*\u001b[39;49m\u001b[43mkwargs\u001b[49m\u001b[43m)\u001b[49m\n",
      "File \u001b[0;32m~/miniconda3/envs/vqa_mmllm/lib/python3.10/site-packages/huggingface_hub/file_download.py:1008\u001b[0m, in \u001b[0;36mhf_hub_download\u001b[0;34m(repo_id, filename, subfolder, repo_type, revision, library_name, library_version, cache_dir, local_dir, user_agent, force_download, proxies, etag_timeout, token, local_files_only, headers, endpoint, resume_download, force_filename, local_dir_use_symlinks)\u001b[0m\n\u001b[1;32m    988\u001b[0m     \u001b[38;5;28;01mreturn\u001b[39;00m _hf_hub_download_to_local_dir(\n\u001b[1;32m    989\u001b[0m         \u001b[38;5;66;03m# Destination\u001b[39;00m\n\u001b[1;32m    990\u001b[0m         local_dir\u001b[38;5;241m=\u001b[39mlocal_dir,\n\u001b[0;32m   (...)\u001b[0m\n\u001b[1;32m   1005\u001b[0m         local_files_only\u001b[38;5;241m=\u001b[39mlocal_files_only,\n\u001b[1;32m   1006\u001b[0m     )\n\u001b[1;32m   1007\u001b[0m \u001b[38;5;28;01melse\u001b[39;00m:\n\u001b[0;32m-> 1008\u001b[0m     \u001b[38;5;28;01mreturn\u001b[39;00m \u001b[43m_hf_hub_download_to_cache_dir\u001b[49m\u001b[43m(\u001b[49m\n\u001b[1;32m   1009\u001b[0m \u001b[43m        \u001b[49m\u001b[38;5;66;43;03m# Destination\u001b[39;49;00m\n\u001b[1;32m   1010\u001b[0m \u001b[43m        \u001b[49m\u001b[43mcache_dir\u001b[49m\u001b[38;5;241;43m=\u001b[39;49m\u001b[43mcache_dir\u001b[49m\u001b[43m,\u001b[49m\n\u001b[1;32m   1011\u001b[0m \u001b[43m        \u001b[49m\u001b[38;5;66;43;03m# File info\u001b[39;49;00m\n\u001b[1;32m   1012\u001b[0m \u001b[43m        \u001b[49m\u001b[43mrepo_id\u001b[49m\u001b[38;5;241;43m=\u001b[39;49m\u001b[43mrepo_id\u001b[49m\u001b[43m,\u001b[49m\n\u001b[1;32m   1013\u001b[0m \u001b[43m        \u001b[49m\u001b[43mfilename\u001b[49m\u001b[38;5;241;43m=\u001b[39;49m\u001b[43mfilename\u001b[49m\u001b[43m,\u001b[49m\n\u001b[1;32m   1014\u001b[0m \u001b[43m        \u001b[49m\u001b[43mrepo_type\u001b[49m\u001b[38;5;241;43m=\u001b[39;49m\u001b[43mrepo_type\u001b[49m\u001b[43m,\u001b[49m\n\u001b[1;32m   1015\u001b[0m \u001b[43m        \u001b[49m\u001b[43mrevision\u001b[49m\u001b[38;5;241;43m=\u001b[39;49m\u001b[43mrevision\u001b[49m\u001b[43m,\u001b[49m\n\u001b[1;32m   1016\u001b[0m \u001b[43m        \u001b[49m\u001b[38;5;66;43;03m# HTTP info\u001b[39;49;00m\n\u001b[1;32m   1017\u001b[0m \u001b[43m        \u001b[49m\u001b[43mendpoint\u001b[49m\u001b[38;5;241;43m=\u001b[39;49m\u001b[43mendpoint\u001b[49m\u001b[43m,\u001b[49m\n\u001b[1;32m   1018\u001b[0m \u001b[43m        \u001b[49m\u001b[43metag_timeout\u001b[49m\u001b[38;5;241;43m=\u001b[39;49m\u001b[43metag_timeout\u001b[49m\u001b[43m,\u001b[49m\n\u001b[1;32m   1019\u001b[0m \u001b[43m        \u001b[49m\u001b[43mheaders\u001b[49m\u001b[38;5;241;43m=\u001b[39;49m\u001b[43mhf_headers\u001b[49m\u001b[43m,\u001b[49m\n\u001b[1;32m   1020\u001b[0m \u001b[43m        \u001b[49m\u001b[43mproxies\u001b[49m\u001b[38;5;241;43m=\u001b[39;49m\u001b[43mproxies\u001b[49m\u001b[43m,\u001b[49m\n\u001b[1;32m   1021\u001b[0m \u001b[43m        \u001b[49m\u001b[43mtoken\u001b[49m\u001b[38;5;241;43m=\u001b[39;49m\u001b[43mtoken\u001b[49m\u001b[43m,\u001b[49m\n\u001b[1;32m   1022\u001b[0m \u001b[43m        \u001b[49m\u001b[38;5;66;43;03m# Additional options\u001b[39;49;00m\n\u001b[1;32m   1023\u001b[0m \u001b[43m        \u001b[49m\u001b[43mlocal_files_only\u001b[49m\u001b[38;5;241;43m=\u001b[39;49m\u001b[43mlocal_files_only\u001b[49m\u001b[43m,\u001b[49m\n\u001b[1;32m   1024\u001b[0m \u001b[43m        \u001b[49m\u001b[43mforce_download\u001b[49m\u001b[38;5;241;43m=\u001b[39;49m\u001b[43mforce_download\u001b[49m\u001b[43m,\u001b[49m\n\u001b[1;32m   1025\u001b[0m \u001b[43m    \u001b[49m\u001b[43m)\u001b[49m\n",
      "File \u001b[0;32m~/miniconda3/envs/vqa_mmllm/lib/python3.10/site-packages/huggingface_hub/file_download.py:1161\u001b[0m, in \u001b[0;36m_hf_hub_download_to_cache_dir\u001b[0;34m(cache_dir, repo_id, filename, repo_type, revision, endpoint, etag_timeout, headers, proxies, token, local_files_only, force_download)\u001b[0m\n\u001b[1;32m   1158\u001b[0m \u001b[38;5;66;03m# Local file doesn't exist or etag isn't a match => retrieve file from remote (or cache)\u001b[39;00m\n\u001b[1;32m   1160\u001b[0m \u001b[38;5;28;01mwith\u001b[39;00m WeakFileLock(lock_path):\n\u001b[0;32m-> 1161\u001b[0m     \u001b[43m_download_to_tmp_and_move\u001b[49m\u001b[43m(\u001b[49m\n\u001b[1;32m   1162\u001b[0m \u001b[43m        \u001b[49m\u001b[43mincomplete_path\u001b[49m\u001b[38;5;241;43m=\u001b[39;49m\u001b[43mPath\u001b[49m\u001b[43m(\u001b[49m\u001b[43mblob_path\u001b[49m\u001b[43m \u001b[49m\u001b[38;5;241;43m+\u001b[39;49m\u001b[43m \u001b[49m\u001b[38;5;124;43m\"\u001b[39;49m\u001b[38;5;124;43m.incomplete\u001b[39;49m\u001b[38;5;124;43m\"\u001b[39;49m\u001b[43m)\u001b[49m\u001b[43m,\u001b[49m\n\u001b[1;32m   1163\u001b[0m \u001b[43m        \u001b[49m\u001b[43mdestination_path\u001b[49m\u001b[38;5;241;43m=\u001b[39;49m\u001b[43mPath\u001b[49m\u001b[43m(\u001b[49m\u001b[43mblob_path\u001b[49m\u001b[43m)\u001b[49m\u001b[43m,\u001b[49m\n\u001b[1;32m   1164\u001b[0m \u001b[43m        \u001b[49m\u001b[43murl_to_download\u001b[49m\u001b[38;5;241;43m=\u001b[39;49m\u001b[43murl_to_download\u001b[49m\u001b[43m,\u001b[49m\n\u001b[1;32m   1165\u001b[0m \u001b[43m        \u001b[49m\u001b[43mproxies\u001b[49m\u001b[38;5;241;43m=\u001b[39;49m\u001b[43mproxies\u001b[49m\u001b[43m,\u001b[49m\n\u001b[1;32m   1166\u001b[0m \u001b[43m        \u001b[49m\u001b[43mheaders\u001b[49m\u001b[38;5;241;43m=\u001b[39;49m\u001b[43mheaders\u001b[49m\u001b[43m,\u001b[49m\n\u001b[1;32m   1167\u001b[0m \u001b[43m        \u001b[49m\u001b[43mexpected_size\u001b[49m\u001b[38;5;241;43m=\u001b[39;49m\u001b[43mexpected_size\u001b[49m\u001b[43m,\u001b[49m\n\u001b[1;32m   1168\u001b[0m \u001b[43m        \u001b[49m\u001b[43mfilename\u001b[49m\u001b[38;5;241;43m=\u001b[39;49m\u001b[43mfilename\u001b[49m\u001b[43m,\u001b[49m\n\u001b[1;32m   1169\u001b[0m \u001b[43m        \u001b[49m\u001b[43mforce_download\u001b[49m\u001b[38;5;241;43m=\u001b[39;49m\u001b[43mforce_download\u001b[49m\u001b[43m,\u001b[49m\n\u001b[1;32m   1170\u001b[0m \u001b[43m        \u001b[49m\u001b[43metag\u001b[49m\u001b[38;5;241;43m=\u001b[39;49m\u001b[43metag\u001b[49m\u001b[43m,\u001b[49m\n\u001b[1;32m   1171\u001b[0m \u001b[43m        \u001b[49m\u001b[43mxet_file_data\u001b[49m\u001b[38;5;241;43m=\u001b[39;49m\u001b[43mxet_file_data\u001b[49m\u001b[43m,\u001b[49m\n\u001b[1;32m   1172\u001b[0m \u001b[43m    \u001b[49m\u001b[43m)\u001b[49m\n\u001b[1;32m   1173\u001b[0m     \u001b[38;5;28;01mif\u001b[39;00m \u001b[38;5;129;01mnot\u001b[39;00m os\u001b[38;5;241m.\u001b[39mpath\u001b[38;5;241m.\u001b[39mexists(pointer_path):\n\u001b[1;32m   1174\u001b[0m         _create_symlink(blob_path, pointer_path, new_blob\u001b[38;5;241m=\u001b[39m\u001b[38;5;28;01mTrue\u001b[39;00m)\n",
      "File \u001b[0;32m~/miniconda3/envs/vqa_mmllm/lib/python3.10/site-packages/huggingface_hub/file_download.py:1710\u001b[0m, in \u001b[0;36m_download_to_tmp_and_move\u001b[0;34m(incomplete_path, destination_path, url_to_download, proxies, headers, expected_size, filename, force_download, etag, xet_file_data)\u001b[0m\n\u001b[1;32m   1708\u001b[0m \u001b[38;5;28;01mif\u001b[39;00m xet_file_data \u001b[38;5;129;01mis\u001b[39;00m \u001b[38;5;129;01mnot\u001b[39;00m \u001b[38;5;28;01mNone\u001b[39;00m \u001b[38;5;129;01mand\u001b[39;00m is_xet_available():\n\u001b[1;32m   1709\u001b[0m     logger\u001b[38;5;241m.\u001b[39minfo(\u001b[38;5;124m\"\u001b[39m\u001b[38;5;124mXet Storage is enabled for this repo. Downloading file from Xet Storage..\u001b[39m\u001b[38;5;124m\"\u001b[39m)\n\u001b[0;32m-> 1710\u001b[0m     \u001b[43mxet_get\u001b[49m\u001b[43m(\u001b[49m\n\u001b[1;32m   1711\u001b[0m \u001b[43m        \u001b[49m\u001b[43mincomplete_path\u001b[49m\u001b[38;5;241;43m=\u001b[39;49m\u001b[43mincomplete_path\u001b[49m\u001b[43m,\u001b[49m\n\u001b[1;32m   1712\u001b[0m \u001b[43m        \u001b[49m\u001b[43mxet_file_data\u001b[49m\u001b[38;5;241;43m=\u001b[39;49m\u001b[43mxet_file_data\u001b[49m\u001b[43m,\u001b[49m\n\u001b[1;32m   1713\u001b[0m \u001b[43m        \u001b[49m\u001b[43mheaders\u001b[49m\u001b[38;5;241;43m=\u001b[39;49m\u001b[43mheaders\u001b[49m\u001b[43m,\u001b[49m\n\u001b[1;32m   1714\u001b[0m \u001b[43m        \u001b[49m\u001b[43mexpected_size\u001b[49m\u001b[38;5;241;43m=\u001b[39;49m\u001b[43mexpected_size\u001b[49m\u001b[43m,\u001b[49m\n\u001b[1;32m   1715\u001b[0m \u001b[43m        \u001b[49m\u001b[43mdisplayed_filename\u001b[49m\u001b[38;5;241;43m=\u001b[39;49m\u001b[43mfilename\u001b[49m\u001b[43m,\u001b[49m\n\u001b[1;32m   1716\u001b[0m \u001b[43m    \u001b[49m\u001b[43m)\u001b[49m\n\u001b[1;32m   1717\u001b[0m \u001b[38;5;28;01melse\u001b[39;00m:\n\u001b[1;32m   1718\u001b[0m     \u001b[38;5;28;01mif\u001b[39;00m xet_file_data \u001b[38;5;129;01mis\u001b[39;00m \u001b[38;5;129;01mnot\u001b[39;00m \u001b[38;5;28;01mNone\u001b[39;00m:\n",
      "File \u001b[0;32m~/miniconda3/envs/vqa_mmllm/lib/python3.10/site-packages/huggingface_hub/file_download.py:627\u001b[0m, in \u001b[0;36mxet_get\u001b[0;34m(incomplete_path, xet_file_data, headers, expected_size, displayed_filename, _tqdm_bar)\u001b[0m\n\u001b[1;32m    624\u001b[0m \u001b[38;5;28;01mdef\u001b[39;00m\u001b[38;5;250m \u001b[39m\u001b[38;5;21mprogress_updater\u001b[39m(progress_bytes: \u001b[38;5;28mfloat\u001b[39m):\n\u001b[1;32m    625\u001b[0m     progress\u001b[38;5;241m.\u001b[39mupdate(progress_bytes)\n\u001b[0;32m--> 627\u001b[0m \u001b[43mdownload_files\u001b[49m\u001b[43m(\u001b[49m\n\u001b[1;32m    628\u001b[0m \u001b[43m    \u001b[49m\u001b[43mxet_download_info\u001b[49m\u001b[43m,\u001b[49m\n\u001b[1;32m    629\u001b[0m \u001b[43m    \u001b[49m\u001b[43mendpoint\u001b[49m\u001b[38;5;241;43m=\u001b[39;49m\u001b[43mconnection_info\u001b[49m\u001b[38;5;241;43m.\u001b[39;49m\u001b[43mendpoint\u001b[49m\u001b[43m,\u001b[49m\n\u001b[1;32m    630\u001b[0m \u001b[43m    \u001b[49m\u001b[43mtoken_info\u001b[49m\u001b[38;5;241;43m=\u001b[39;49m\u001b[43m(\u001b[49m\u001b[43mconnection_info\u001b[49m\u001b[38;5;241;43m.\u001b[39;49m\u001b[43maccess_token\u001b[49m\u001b[43m,\u001b[49m\u001b[43m \u001b[49m\u001b[43mconnection_info\u001b[49m\u001b[38;5;241;43m.\u001b[39;49m\u001b[43mexpiration_unix_epoch\u001b[49m\u001b[43m)\u001b[49m\u001b[43m,\u001b[49m\n\u001b[1;32m    631\u001b[0m \u001b[43m    \u001b[49m\u001b[43mtoken_refresher\u001b[49m\u001b[38;5;241;43m=\u001b[39;49m\u001b[43mtoken_refresher\u001b[49m\u001b[43m,\u001b[49m\n\u001b[1;32m    632\u001b[0m \u001b[43m    \u001b[49m\u001b[43mprogress_updater\u001b[49m\u001b[38;5;241;43m=\u001b[39;49m\u001b[43m[\u001b[49m\u001b[43mprogress_updater\u001b[49m\u001b[43m]\u001b[49m\u001b[43m,\u001b[49m\n\u001b[1;32m    633\u001b[0m \u001b[43m\u001b[49m\u001b[43m)\u001b[49m\n",
      "\u001b[0;31mKeyboardInterrupt\u001b[0m: "
     ]
    }
   ],
   "source": [
    "from unsloth import FastLanguageModel\n",
    "import torch\n",
    "\n",
    "SYSTEM_PROMPT = \"Eres un modelo entrenado para generar resúmenes institucionales de actas parlamentarias. Los resúmenes deben estar redactados en lenguaje formal-administrativo, sin juicios de valor, y seguir una estructura clara.\"\n",
    "INSTRUCTION = \"Redacta un resumen institucional en español del siguiente documento. Mantén un lenguaje objetivo, enfocado en los hechos y acuerdos:\"\n",
    "\n",
    "model, tokenizer = FastLanguageModel.from_pretrained(\n",
    "    #model_name=\"meta-llama/Llama-3.2-1B-Instruct\",\n",
    "    #model_name=\"BSC-LT/salamandra-2b-instruct\",\n",
    "    #model_name=\"Qwen/Qwen3-0.6B\",\n",
    "    model_name=\"Qwen/Qwen3-8B\",\n",
    "    max_seq_length = 2048,\n",
    "    dtype = None,\n",
    "    load_in_4bit = True, # quantization\n",
    ")\n",
    "tokenizer.clean_up_tokenization_spaces = False"
   ]
  },
  {
   "cell_type": "code",
   "execution_count": 24,
   "id": "d45402dd",
   "metadata": {},
   "outputs": [],
   "source": [
    "from transformers import TextStreamer\n",
    "\n",
    "import re\n",
    "\n",
    "def extract_clean_assistant_response(full_text: str) -> str:\n",
    "    # Buscar el último bloque <|assistant|>\n",
    "    assistant_start = full_text.rfind(\"assistant\")\n",
    "    if assistant_start == -1:\n",
    "        assistant_content = full_text\n",
    "    else:\n",
    "        assistant_content = full_text[assistant_start + len(\"assistant\"):]\n",
    "\n",
    "    # Eliminar los bloques <think>...</think> si existen\n",
    "    assistant_content = re.sub(r\"<think>.*?</think>\", \"\", assistant_content, flags=re.DOTALL)\n",
    "\n",
    "    # Eliminar espacios extra al principio y al final\n",
    "    return assistant_content.strip()\n",
    "\n",
    "def apply_chat_template(sample, tokenizer):\n",
    "    \"\"\"\n",
    "    Apply a chat template to the sample.\n",
    "    \"\"\"\n",
    "    # Define the chat template\n",
    "    empty_prompt = f\"{INSTRUCTION}\\n ##Documento {{document}}\\n ##Resumen:\"\n",
    "    messages = [\n",
    "        {\"role\": \"system\", \"content\": SYSTEM_PROMPT},\n",
    "        {\"role\": \"user\", \"content\": empty_prompt.format(document=sample[\"document\"])},\n",
    "    ]\n",
    "    \n",
    "    # Format the chat template with the sample text\n",
    "    return tokenizer.apply_chat_template(messages, tokenize=False, add_generation_prompt=True)\n",
    "\n",
    "\n",
    "## generate a summary\n",
    "def generate_summary_streamer(model, tokenizer, sample, max_new_tokens=100):\n",
    "    FastLanguageModel.for_inference(model)\n",
    "    if \"inference_prompt\" in sample:\n",
    "        inputs = tokenizer(sample[\"inference_prompt\"], return_tensors=\"pt\").to(model.device)\n",
    "    else:\n",
    "        prompt = apply_chat_template(sample, tokenizer)\n",
    "        inputs = tokenizer(prompt, return_tensors=\"pt\").to(model.device)\n",
    "    text_streamer = TextStreamer(tokenizer)\n",
    "    final_text = \"\"\n",
    "    for token in model.generate(**inputs, streamer = text_streamer, max_new_tokens = max_new_tokens):\n",
    "        print(token)\n",
    "        pass\n",
    "\n",
    "def generate_summary(model, tokenizer, sample, max_new_tokens=100):\n",
    "    FastLanguageModel.for_inference(model)\n",
    "    device = \"cuda\" if torch.cuda.is_available() else \"cpu\"\n",
    "    if \"inference_prompt\" in sample:\n",
    "        inputs = tokenizer(sample[\"inference_prompt\"], return_tensors=\"pt\").to(device)\n",
    "    else:\n",
    "        prompt = apply_chat_template(sample, tokenizer)\n",
    "        inputs = tokenizer(prompt, return_tensors=\"pt\").to(device)\n",
    "    with torch.no_grad():\n",
    "        outputs = model.generate(\n",
    "            **inputs, \n",
    "            max_new_tokens=max_new_tokens,\n",
    "\n",
    "        )  # Adjust max_new_tokens as needed\n",
    "    generated_text = tokenizer.decode(outputs[0], skip_special_tokens=True)\n",
    "    summary = generated_text.split(\"##Resumen:\")[-1].strip()\n",
    "    if tokenizer.chat_template:\n",
    "        summary = extract_clean_assistant_response(summary)\n",
    "    return summary"
   ]
  },
  {
   "cell_type": "code",
   "execution_count": 3,
   "id": "ddadb1bb",
   "metadata": {},
   "outputs": [
    {
     "name": "stderr",
     "output_type": "stream",
     "text": [
      "Unsloth 2025.5.9 patched 28 layers with 28 QKV layers, 28 O layers and 28 MLP layers.\n"
     ]
    }
   ],
   "source": [
    "# More info about parameters: https://huggingface.co/docs/peft/v0.11.0/en/package_reference/lora#peft.LoraConfig\n",
    "target_modules =  [\"q_proj\", \"k_proj\", \"v_proj\", \"o_proj\",\n",
    "                   \"gate_proj\", \"up_proj\", \"down_proj\"]\n",
    "\n",
    "# When adding special tokens\n",
    "train_embeddings = False\n",
    "\n",
    "if train_embeddings:\n",
    "  target_modules = target_modules + [\"lm_head\"]\n",
    "\n",
    "model = FastLanguageModel.get_peft_model(\n",
    "    model,\n",
    "    r = 16, # rank of lora matrices according to paper not much loss when set relatively low\n",
    "    target_modules = target_modules,  # On which modules of the llm the lora weights are used\n",
    "    lora_alpha = 2*16, # scales the weights of the adapters (more influence on base model), 16 was recommended on reddit\n",
    "    lora_dropout = 0, # Default on 0.05 in tutorial but unsloth says 0 is better\n",
    "    bias = \"none\",    # \"none\" is optimized\n",
    "    use_gradient_checkpointing = \"unsloth\", #\"unsloth\" for very long context, decreases vram\n",
    "    random_state = 3407,\n",
    "    use_rslora = False,  # scales lora_alpha with 1/sqrt(r), huggingface says this works better\n",
    "    loftq_config = None, # And LoftQ\n",
    ")"
   ]
  },
  {
   "cell_type": "code",
   "execution_count": 4,
   "id": "1f5e34a2",
   "metadata": {},
   "outputs": [
    {
     "name": "stdout",
     "output_type": "stream",
     "text": [
      "Dataset({\n",
      "    features: ['document', 'expected_summary', 'generated_summary', 'language', 'time'],\n",
      "    num_rows: 20\n",
      "})\n"
     ]
    }
   ],
   "source": [
    "import pandas as pd\n",
    "from datasets import Dataset\n",
    "FOLDER = \"sum/test_summary_normal.xlsx\"\n",
    "\n",
    "df = pd.read_excel(FOLDER, engine='openpyxl')\n",
    "# convert to dataset\n",
    "dataset = Dataset.from_pandas(df) \n",
    "print(dataset)"
   ]
  },
  {
   "cell_type": "code",
   "execution_count": 5,
   "id": "1da0c2ce",
   "metadata": {},
   "outputs": [],
   "source": [
    "EOS_TOKEN = tokenizer.eos_token\n",
    "\n",
    "empty_prompt = f\"{INSTRUCTION}\\n{{document}}\\n\\nResumen:\"\n",
    "\n",
    "def formatting_prompts_instruction(examples):\n",
    "  training_prompts = []\n",
    "  inference_prompts = []\n",
    "  summaries = []\n",
    "  for doc, sum in zip(examples[\"document\"] , examples[\"expected_summary\"]):\n",
    "      inference_prompt = empty_prompt.format(document=doc)\n",
    "      real_sum = sum.strip()\n",
    "      training_prompt = inference_prompt + sum + EOS_TOKEN\n",
    "      training_prompt = training_prompt.replace(\"\\n\", \" \")  # Remove newlines for better tokenization\n",
    "      training_prompt = training_prompt.strip()  # Remove leading/trailing spaces\n",
    "      training_prompts.append(training_prompt)\n",
    "      inference_prompts.append(inference_prompt)\n",
    "      summaries.append(real_sum)\n",
    "\n",
    "  return { \"text\" : training_prompts, \n",
    "           \"inference_prompt\" : inference_prompts,\n",
    "           \"expected_summary\" : summaries }"
   ]
  },
  {
   "cell_type": "code",
   "execution_count": 6,
   "id": "3cecb8f5",
   "metadata": {},
   "outputs": [
    {
     "name": "stdout",
     "output_type": "stream",
     "text": [
      "Using chat template for formatting prompts\n"
     ]
    },
    {
     "data": {
      "application/vnd.jupyter.widget-view+json": {
       "model_id": "6d10f29a7fb4427b89e11cfe035720af",
       "version_major": 2,
       "version_minor": 0
      },
      "text/plain": [
       "Map:   0%|          | 0/20 [00:00<?, ? examples/s]"
      ]
     },
     "metadata": {},
     "output_type": "display_data"
    }
   ],
   "source": [
    "if tokenizer.chat_template:\n",
    "    print(\"Using chat template for formatting prompts\")\n",
    "    def formatting_func(example):\n",
    "        empty_prompt = f\"{INSTRUCTION}\\n{{document}}\\n\"\n",
    "        messages = [\n",
    "            {\"role\": \"system\", \"content\": SYSTEM_PROMPT},\n",
    "            {\"role\": \"user\", \"content\": empty_prompt.format(document=example[\"document\"])},\n",
    "            {\"role\": \"assistant\", \"content\": example[\"expected_summary\"]}\n",
    "        ]\n",
    "        return tokenizer.apply_chat_template(messages, tokenize=False)\n",
    "    dataset_train = dataset.map(lambda x: {\"text\": formatting_func(x)})\n",
    "else:\n",
    "    dataset_train = dataset.map(formatting_prompts_instruction, batched=True, remove_columns=dataset.column_names)\n",
    "    print(dataset_train)"
   ]
  },
  {
   "cell_type": "code",
   "execution_count": 7,
   "id": "f67e0b93",
   "metadata": {},
   "outputs": [
    {
     "data": {
      "application/vnd.jupyter.widget-view+json": {
       "model_id": "fc14f3c3ed6644c8902705f91218ac2a",
       "version_major": 2,
       "version_minor": 0
      },
      "text/plain": [
       "Unsloth: Tokenizing [\"text\"]:   0%|          | 0/20 [00:00<?, ? examples/s]"
      ]
     },
     "metadata": {},
     "output_type": "display_data"
    }
   ],
   "source": [
    "from trl import SFTTrainer\n",
    "from transformers import TrainingArguments\n",
    "from unsloth import is_bfloat16_supported\n",
    "\n",
    "args = TrainingArguments(\n",
    "        per_device_train_batch_size = 2,\n",
    "        gradient_accumulation_steps = 4, # process 4 batches before updating parameters (parameter update == step)\n",
    "        num_train_epochs = 2, # between 1 - 3 to prevent overfitting\n",
    "        learning_rate = 2e-4,\n",
    "        fp16 = not is_bfloat16_supported(),\n",
    "        bf16 = is_bfloat16_supported(),\n",
    "        logging_steps = 1,\n",
    "        optim = \"adamw_8bit\",\n",
    "        weight_decay = 0.01,\n",
    "        lr_scheduler_type = \"cosine\",\n",
    "        warmup_ratio = 0.03, # 3% of the total steps\n",
    "        seed = 3407,\n",
    "        output_dir = \"outputs\",\n",
    "        report_to = \"none\"\n",
    "    )\n",
    "\n",
    "trainer = SFTTrainer(\n",
    "    model = model,\n",
    "    tokenizer = tokenizer,\n",
    "    train_dataset = dataset_train,\n",
    "    formatting_func=lambda x: x[\"text\"],\n",
    "    dataset_text_field = \"text\",\n",
    "    max_seq_length = 2048,\n",
    "    dataset_num_proc = 2,\n",
    "    args = args,\n",
    ")"
   ]
  },
  {
   "cell_type": "code",
   "execution_count": 8,
   "id": "6fa41071",
   "metadata": {},
   "outputs": [
    {
     "name": "stdout",
     "output_type": "stream",
     "text": [
      "Trainable parameters: 10,092,544 / Total parameters: 606,142,464 (1.67%)\n"
     ]
    }
   ],
   "source": [
    "def count_trainable_params(model):\n",
    "    total_params = sum(p.numel() for p in model.parameters())\n",
    "    trainable_params = sum(p.numel() for p in model.parameters() if p.requires_grad)\n",
    "    percentage = 100 * trainable_params / total_params\n",
    "    return trainable_params, total_params, percentage\n",
    "\n",
    "trainable_params, total_params, percentage = count_trainable_params(model)\n",
    "print(f\"Trainable parameters: {trainable_params:,} / Total parameters: {total_params:,} ({percentage:.2f}%)\")"
   ]
  },
  {
   "cell_type": "code",
   "execution_count": 9,
   "id": "e562e6a0",
   "metadata": {},
   "outputs": [
    {
     "name": "stderr",
     "output_type": "stream",
     "text": [
      "==((====))==  Unsloth - 2x faster free finetuning | Num GPUs used = 1\n",
      "   \\\\   /|    Num examples = 20 | Num Epochs = 2 | Total steps = 4\n",
      "O^O/ \\_/ \\    Batch size per device = 2 | Gradient accumulation steps = 4\n",
      "\\        /    Data Parallel GPUs = 1 | Total batch size (2 x 4 x 1) = 8\n",
      " \"-____-\"     Trainable parameters = 10,092,544/606,142,464 (1.67% trained)\n"
     ]
    },
    {
     "name": "stdout",
     "output_type": "stream",
     "text": [
      "Unsloth: Will smartly offload gradients to save VRAM!\n"
     ]
    },
    {
     "data": {
      "text/html": [
       "\n",
       "    <div>\n",
       "      \n",
       "      <progress value='4' max='4' style='width:300px; height:20px; vertical-align: middle;'></progress>\n",
       "      [4/4 00:03, Epoch 1/2]\n",
       "    </div>\n",
       "    <table border=\"1\" class=\"dataframe\">\n",
       "  <thead>\n",
       " <tr style=\"text-align: left;\">\n",
       "      <th>Step</th>\n",
       "      <th>Training Loss</th>\n",
       "    </tr>\n",
       "  </thead>\n",
       "  <tbody>\n",
       "    <tr>\n",
       "      <td>1</td>\n",
       "      <td>2.950300</td>\n",
       "    </tr>\n",
       "    <tr>\n",
       "      <td>2</td>\n",
       "      <td>2.854200</td>\n",
       "    </tr>\n",
       "    <tr>\n",
       "      <td>3</td>\n",
       "      <td>2.478900</td>\n",
       "    </tr>\n",
       "    <tr>\n",
       "      <td>4</td>\n",
       "      <td>2.695800</td>\n",
       "    </tr>\n",
       "  </tbody>\n",
       "</table><p>"
      ],
      "text/plain": [
       "<IPython.core.display.HTML object>"
      ]
     },
     "metadata": {},
     "output_type": "display_data"
    },
    {
     "name": "stdout",
     "output_type": "stream",
     "text": [
      "Memoria máxima GPU usada: 1.41 GB\n"
     ]
    }
   ],
   "source": [
    "import torch\n",
    "\n",
    "torch.cuda.reset_peak_memory_stats()\n",
    "\n",
    "trainer_stats = trainer.train()\n",
    "peak_memory = torch.cuda.max_memory_allocated() / (1024**3)  # en GB\n",
    "\n",
    "print(f\"Memoria máxima GPU usada: {peak_memory:.2f} GB\")\n",
    "\n",
    "## clean the memory of GPU\n",
    "torch.cuda.empty_cache()"
   ]
  },
  {
   "cell_type": "code",
   "execution_count": 10,
   "id": "c2d560dc",
   "metadata": {},
   "outputs": [
    {
     "name": "stdout",
     "output_type": "stream",
     "text": [
      "Tiempo total de entrenamiento: 9.8729 segundos\n",
      "Velocidad: 4.051 ejemplos/segundo\n"
     ]
    }
   ],
   "source": [
    "# Tiempo total en segundos\n",
    "print(\"Tiempo total de entrenamiento:\", trainer_stats.metrics[\"train_runtime\"], \"segundos\")\n",
    "print(\"Velocidad:\", trainer_stats.metrics[\"train_samples_per_second\"], \"ejemplos/segundo\")"
   ]
  },
  {
   "cell_type": "code",
   "execution_count": 11,
   "id": "35bc492b",
   "metadata": {},
   "outputs": [
    {
     "name": "stdout",
     "output_type": "stream",
     "text": [
      "Estadísticas del entrenamiento: {'peak_memory (GB)': 1.4087910652160645, 'train_runtime': 9.8729, 'train_samples_per_second': 4.051, 'trainable_params': 10092544}\n"
     ]
    }
   ],
   "source": [
    "stats_of_trainer = {\n",
    "    \"peak_memory (GB)\": peak_memory,\n",
    "    \"train_runtime\": trainer_stats.metrics[\"train_runtime\"],\n",
    "    \"train_samples_per_second\": trainer_stats.metrics[\"train_samples_per_second\"],\n",
    "    \"trainable_params\": trainable_params,\n",
    "}\n",
    "\n",
    "print(\"Estadísticas del entrenamiento:\", stats_of_trainer)"
   ]
  },
  {
   "cell_type": "code",
   "execution_count": 12,
   "id": "b841bedd",
   "metadata": {},
   "outputs": [
    {
     "name": "stdout",
     "output_type": "stream",
     "text": [
      "Sample document: {'document': 'Esta sesión del parlamento se realizó el 14/05/2013. · 8L/PO/P-0916 Pregunta del señor diputado don Fabián Atamán Martín Martín, del Grupo Parlamentario Mixto, sobre los precios de las viviendas protegidas, dirigida a la señora consejera de Cultura, Deportes, Políticas Sociales y Vivienda. El señor presidente: Siguiente pregunta: del señor diputado don Fabián Atamán Martín, del Grupo Mixto, también dirigida a la señora consejera de Cultura, Deportes, Políticas Sociales y Vivienda. Don Fabián. El señor Martín Martín (Desde su escaño): Muchas gracias, señor presidente. Señora consejera, ¿qué valoración le merece que la evolución de los precios de las viviendas protegidas esté por encima de los de las viviendas libres? Muchas gracias. El señor presidente: Gracias, don Fabián. Señora consejera, doña Inés Rojas. La señora consejera de Cultura, Deportes, Políticas Sociales y Vivienda (Rojas de León) (Desde su escaño): Gracias, señor presidente. Señoría, decirle dos cosas probablemente. La vivienda protegida en Canarias todavía hoy es más barata que la vivienda libre. La vivienda protegida tiene un valor de 1.197,7 euros el metro cuadrado y la vivienda libre, 1.428,5 euros el metro cuadrado. Y también tengo que decirle que el Gobierno de Canarias redujo ya el año pasado precisamente, viendo que cada vez se diferenciaban menos los precios entre unas y otras, bajó el precio de la vivienda protegida precisamente para hacerlo más factible. Y sepa usted que además ahora, en la elaboración del Plan Canario de Vivienda, vamos a hacer posible otra bajada de precios de la vivienda protegida. Muchas gracias. El señor presidente: Muchas gracias, doña Inés Rojas, señora consejera. Don Fabián Atamán Martín. El señor Martín Martín (Desde su escaño): Muchas gracias, señor presidente. Señora consejera, según los datos facilitados por el Ministerio de Fomento, el precio de la VPO en los últimos cinco años creció en Canarias un 11%, mientras la vivienda libre desplomaba su precio un 24%. Esto significa que en los últimos cinco años la distancia que separaba la vivienda protegida y la vivienda libre se ha reducido en más de un 73%. Si hace un lustro la distancia entre una y otra era de 757 euros por metro cuadrado, en la actualidad dicha separación es de escasamente 200 euros. Pero si nos centramos en la evolución de los precios en la provincia de Las Palmas, la conclusión es aún más preocupante, y es que la distancia que separa los precios de las viviendas de protección oficial y la vivienda libre en esta provincia no llega a los 200, se centra exclusivamente en los 189 euros/m2. En el último debate sobre el estado de la nacionalidad el señor Rivero anunció múltiples medidas, algunas de ellas relacionadas con el sector de la vivienda, y, sin embargo, la pregunta que se suscita, consejera, es por qué el Gobierno de Canarias no ha procurado, entre las muchas medidas que dice haber tomado, reducir el precio de la VPO. ¿En qué ayuda el Gobierno regional entonces en la adquisición de una vivienda también a estos jóvenes, que están deseosos de hacerse con su primera vivienda? ¿Por qué el precio de la VPO en Canarias no ha descendido en el mismo sentido y proporción que la vivienda libre, como sí ha ocurrido en otras comunidades autónomas? Pero la pregunta se suscita porque hace poco se me preguntaba en la isla de Lanzarote si existía VPO disponible. Y, mire, con acercarnos a las páginas web del Gobierno de Canarias uno se dará cuenta pronto de que hay 2.000 viviendas en Tenerife disponibles, 2.500 en Gran Canaria, mientras que los jóvenes lanzaroteños, aparentemente y según información oficial del Gobierno de Canarias, cuentan con cero viviendas. Pero además, según Visocan, las viviendas disponibles para el alquiler y compra futura están sobre unos 1.600 euros/m2 en la isla de Lanzarote. Tal es así que para una vivienda de 42 m2 se están pidiendo 68.000 euros. ¿Dónde está la acción social, consejera del Gobierno de Canarias, en materia de vivienda en Lanzarote y en Canarias? ¿Seguimos siendo en este sentido, al igual que en otros, los habitantes de las islas...? El señor presidente: Muchas gracias, don Fabián Martín. Doña Inés Rojas, señora consejera. La señora consejera de Cultura, Deportes, Políticas Sociales y Vivienda (Rojas de León) (Desde su escaño): Gracias, señor presidente. Señoría, qué pena que en una pregunta apenas dé tiempo, porque acaba usted de decir que hay 2.000 viviendas disponibles en la isla de Tenerife y la gente puede creer que eso realmente es así. No hay 2.000 viviendas disponibles en la isla de Tenerife. Sí es verdad que el parque de viviendas público en la isla de Tenerife puede estar aproximadamente por ahí. Pero vamos a decir una cosa: es cierto que la diferencia entre la vivienda libre y la vivienda protegida es cada vez menor. Por eso el año pasado el Gobierno de Canarias bajó el precio de la vivienda protegida y por eso tenemos la intención de volverlo a bajar. En el mercado libre la gente en estos momentos no puede vender su vivienda y desde luego va bajando los precios de forma escalonada. Usted decía un 24; yo puedo decirle que del 2008 hasta ahora ha bajado un 30% la vivienda libre. Por lo tanto, hay que ajustar precisamente esa diferencia. Se suma a esto que el Estado, como usted sabe, ha quitado la ayuda que daba a la entrada para comprar una vivienda protegida. Eso ha sido absolutamente eliminado. No le cuento nada si además las entidades financieras no dan un crédito a nadie para comprar hoy nada y mucho menos una vivienda. Con lo cual el Gobierno de Canarias lo que ha hecho es reorientar sus políticas, no hacia la compra de la vivienda sino hacia el alquiler, y hacia el alquiler social. Y por poner un ejemplo, que es muy cercano a usted y a mí, pues, precisamente en la isla de Lanzarote teníamos una promoción de viviendas, de 44 viviendas en venta, en promoción de venta protegida, y la hemos reconvertido en alquiler, en estos momentos en alquiler de 200 euros y de 240 euros si quieren también con opción de compra. Y comunicarle también que de las que teníamos disponibles -aquellas 500 de Visocan- en estos momentos, a casi un mes y pico, ya se han alquilado más de 250 a precios absolutamente sociales. Estamos hablando de una media de 200 euros por alquiler... El señor presidente: Muchísimas gracias, doña Inés Rojas, señora consejera.', 'expected_summary': 'La sesión del Parlamento de Canarias del 14 de mayo de 2013 se centró en la pregunta del diputado Fabián Atamán Martín Martín, del Grupo Parlamentario Mixto, sobre la evolución de los precios de las viviendas protegidas (VPO) en comparación con las viviendas libres. La pregunta fue dirigida a la consejera de Cultura, Deportes, Políticas Sociales y Vivienda, doña Inés Rojas de León.\\n\\nEl diputado Martín Martín inició su intervención señalando que, según datos del Ministerio de Fomento, en los últimos cinco años el precio de la VPO en Canarias había aumentado un 11%, mientras que el precio de la vivienda libre había caído un 24%. Esto había reducido la diferencia de precios entre ambos tipos de vivienda en más de un 73%, pasando de 757 euros por metro cuadrado a solo 200 euros en la actualidad. En la provincia de Las Palmas, la diferencia era aún menor, con un margen de solo 189 euros por metro cuadrado. El diputado cuestionó por qué el Gobierno de Canarias no había implementado medidas efectivas para reducir el precio de la VPO, especialmente en un contexto donde los jóvenes buscaban acceder a su primera vivienda. Además, mencionó la escasez de VPO en Lanzarote, donde, según la información oficial, no había viviendas disponibles, a diferencia de las 2.000 en Tenerife y 2.500 en Gran Canaria. También destacó que el precio de las viviendas en Lanzarote estaba en torno a 1.600 euros por metro cuadrado, lo que hacía inaccesible la compra para muchos jóvenes.\\n\\nLa consejera Rojas de León respondió a las inquietudes planteadas por el diputado. Comenzó aclarando que, aunque el precio de la VPO en Canarias era más bajo que el de la vivienda libre (1.197,7 euros por metro cuadrado frente a 1.428,5 euros), reconoció que la diferencia entre ambos precios se estaba reduciendo. La consejera mencionó que el Gobierno de Canarias había tomado medidas el año anterior para bajar el precio de la VPO y que se planeaba realizar otra reducción en el futuro. Sin embargo, también destacó que el mercado de la vivienda libre había experimentado una caída significativa en sus precios, con una disminución del 30% desde 2008.\\n\\nRojas de León abordó la cuestión de la disponibilidad de viviendas, señalando que la cifra de 2.000 viviendas en Tenerife no era precisa, ya que se refería al parque de viviendas públicas en general y no a la disponibilidad inmediata. La consejera explicó que el Gobierno había reorientado sus políticas hacia el alquiler social, en lugar de la compra de viviendas, debido a la falta de crédito disponible por parte de las entidades financieras y la eliminación de ayudas estatales para la entrada en la compra de VPO. Como ejemplo, mencionó una promoción de 44 viviendas en Lanzarote que se había reconvertido de venta a alquiler, con precios de 200 y 240 euros, y que más de 250 de las 500 viviendas disponibles a través de Visocan ya se habían alquilado a precios sociales.\\n\\nEl debate entre el diputado y la consejera reflejó las tensiones existentes en el sector de la vivienda en Canarias, especialmente en relación con la accesibilidad para los jóvenes y la efectividad de las políticas implementadas por el Gobierno regional. Martín Martín insistió en la necesidad de acciones más concretas para abordar la crisis de vivienda, mientras que Rojas de León defendió las medidas adoptadas y la necesidad de adaptarse a un contexto económico cambiante.\\n\\nEn resumen, la sesión del Parlamento abordó la problemática de los precios de las viviendas protegidas en Canarias, destacando la creciente preocupación por la accesibilidad de la vivienda para los jóvenes y la efectividad de las políticas del Gobierno en este ámbito. La discusión evidenció la complejidad del mercado de la vivienda y la necesidad de un enfoque más integral que contemple tanto la compra como el alquiler social, en un contexto donde las diferencias de precios entre viviendas protegidas y libres se están reduciendo, pero aún persisten desafíos significativos.', 'generated_summary': 'Durante la sesión parlamentaria del 14 de mayo de 2013, el diputado Fabián Atamán Martín, perteneciente al Grupo Parlamentario Mixto, formuló una pregunta dirigida a la consejera de Cultura, Deportes, Políticas Sociales y Vivienda, Inés Rojas de León. La consulta se centraba en el comportamiento de los precios de las viviendas protegidas en comparación con las viviendas libres en Canarias.\\n\\nAtamán Martín expresó su preocupación por la tendencia creciente de los precios de las viviendas protegidas, que ha superado al incremento de precios de las viviendas libres. Según datos del Ministerio de Fomento, el precio de la VPO en Canarias aumentó un 11% en los últimos cinco años, mientras que los precios de las viviendas libres disminuyeron un 24%. Esto ha reducido significativamente la diferencia entre ambos tipos de vivienda, pasando de una brecha de 757 euros por metro cuadrado a solo 250 euros. El diputado cuestionó el enfoque del Gobierno de Canarias frente a estas dinámicas y su acción social en materia de vivienda, especialmente en Lanzarote, donde los precios para alquilar o comprar una vivienda son elevados.\\n\\nLa consejera Rojas respondió explicando que la diferencia entre las viviendas libres y protegidas es cada vez menor. Afirmó que el Gobierno ha reducido previamente el precio de la vivienda protegida y tiene intenciones de continuar haciéndolo para ajustar esta brecha. Además, destacó que los precios del mercado libre han caído significativamente desde 2008, un 30% según sus datos.\\n\\nRojas también indicó que las políticas del Gobierno se están reorientando hacia el alquiler en lugar de la compra, especialmente el alquiler social. Como ejemplo concreto mencionó una promoción de viviendas en Lanzarote que inicialmente estaba destinada a la venta protegida pero fue transformada para ofrecerse como alquiler a precios accesibles, entre 200 y 240 euros mensuales.\\n\\nEn resumen, el debate gira en torno a las preocupaciones sobre los altos costos de vivienda y cómo el Gobierno de Canarias está ajustando sus políticas para hacer frente a estas cuestiones mediante la promoción del alquiler social y la reducción de precios en las viviendas protegidas.', 'language': 'canario', 'time': 15.37621283531189, 'text': '<|im_start|>system\\nEres un modelo entrenado para generar resúmenes institucionales de actas parlamentarias. Los resúmenes deben estar redactados en lenguaje formal-administrativo, sin juicios de valor, y seguir una estructura clara.<|im_end|>\\n<|im_start|>user\\nRedacta un resumen institucional en español del siguiente documento. Mantén un lenguaje objetivo, enfocado en los hechos y acuerdos:\\nEsta sesión del parlamento se realizó el 14/05/2013. · 8L/PO/P-0916 Pregunta del señor diputado don Fabián Atamán Martín Martín, del Grupo Parlamentario Mixto, sobre los precios de las viviendas protegidas, dirigida a la señora consejera de Cultura, Deportes, Políticas Sociales y Vivienda. El señor presidente: Siguiente pregunta: del señor diputado don Fabián Atamán Martín, del Grupo Mixto, también dirigida a la señora consejera de Cultura, Deportes, Políticas Sociales y Vivienda. Don Fabián. El señor Martín Martín (Desde su escaño): Muchas gracias, señor presidente. Señora consejera, ¿qué valoración le merece que la evolución de los precios de las viviendas protegidas esté por encima de los de las viviendas libres? Muchas gracias. El señor presidente: Gracias, don Fabián. Señora consejera, doña Inés Rojas. La señora consejera de Cultura, Deportes, Políticas Sociales y Vivienda (Rojas de León) (Desde su escaño): Gracias, señor presidente. Señoría, decirle dos cosas probablemente. La vivienda protegida en Canarias todavía hoy es más barata que la vivienda libre. La vivienda protegida tiene un valor de 1.197,7 euros el metro cuadrado y la vivienda libre, 1.428,5 euros el metro cuadrado. Y también tengo que decirle que el Gobierno de Canarias redujo ya el año pasado precisamente, viendo que cada vez se diferenciaban menos los precios entre unas y otras, bajó el precio de la vivienda protegida precisamente para hacerlo más factible. Y sepa usted que además ahora, en la elaboración del Plan Canario de Vivienda, vamos a hacer posible otra bajada de precios de la vivienda protegida. Muchas gracias. El señor presidente: Muchas gracias, doña Inés Rojas, señora consejera. Don Fabián Atamán Martín. El señor Martín Martín (Desde su escaño): Muchas gracias, señor presidente. Señora consejera, según los datos facilitados por el Ministerio de Fomento, el precio de la VPO en los últimos cinco años creció en Canarias un 11%, mientras la vivienda libre desplomaba su precio un 24%. Esto significa que en los últimos cinco años la distancia que separaba la vivienda protegida y la vivienda libre se ha reducido en más de un 73%. Si hace un lustro la distancia entre una y otra era de 757 euros por metro cuadrado, en la actualidad dicha separación es de escasamente 200 euros. Pero si nos centramos en la evolución de los precios en la provincia de Las Palmas, la conclusión es aún más preocupante, y es que la distancia que separa los precios de las viviendas de protección oficial y la vivienda libre en esta provincia no llega a los 200, se centra exclusivamente en los 189 euros/m2. En el último debate sobre el estado de la nacionalidad el señor Rivero anunció múltiples medidas, algunas de ellas relacionadas con el sector de la vivienda, y, sin embargo, la pregunta que se suscita, consejera, es por qué el Gobierno de Canarias no ha procurado, entre las muchas medidas que dice haber tomado, reducir el precio de la VPO. ¿En qué ayuda el Gobierno regional entonces en la adquisición de una vivienda también a estos jóvenes, que están deseosos de hacerse con su primera vivienda? ¿Por qué el precio de la VPO en Canarias no ha descendido en el mismo sentido y proporción que la vivienda libre, como sí ha ocurrido en otras comunidades autónomas? Pero la pregunta se suscita porque hace poco se me preguntaba en la isla de Lanzarote si existía VPO disponible. Y, mire, con acercarnos a las páginas web del Gobierno de Canarias uno se dará cuenta pronto de que hay 2.000 viviendas en Tenerife disponibles, 2.500 en Gran Canaria, mientras que los jóvenes lanzaroteños, aparentemente y según información oficial del Gobierno de Canarias, cuentan con cero viviendas. Pero además, según Visocan, las viviendas disponibles para el alquiler y compra futura están sobre unos 1.600 euros/m2 en la isla de Lanzarote. Tal es así que para una vivienda de 42 m2 se están pidiendo 68.000 euros. ¿Dónde está la acción social, consejera del Gobierno de Canarias, en materia de vivienda en Lanzarote y en Canarias? ¿Seguimos siendo en este sentido, al igual que en otros, los habitantes de las islas...? El señor presidente: Muchas gracias, don Fabián Martín. Doña Inés Rojas, señora consejera. La señora consejera de Cultura, Deportes, Políticas Sociales y Vivienda (Rojas de León) (Desde su escaño): Gracias, señor presidente. Señoría, qué pena que en una pregunta apenas dé tiempo, porque acaba usted de decir que hay 2.000 viviendas disponibles en la isla de Tenerife y la gente puede creer que eso realmente es así. No hay 2.000 viviendas disponibles en la isla de Tenerife. Sí es verdad que el parque de viviendas público en la isla de Tenerife puede estar aproximadamente por ahí. Pero vamos a decir una cosa: es cierto que la diferencia entre la vivienda libre y la vivienda protegida es cada vez menor. Por eso el año pasado el Gobierno de Canarias bajó el precio de la vivienda protegida y por eso tenemos la intención de volverlo a bajar. En el mercado libre la gente en estos momentos no puede vender su vivienda y desde luego va bajando los precios de forma escalonada. Usted decía un 24; yo puedo decirle que del 2008 hasta ahora ha bajado un 30% la vivienda libre. Por lo tanto, hay que ajustar precisamente esa diferencia. Se suma a esto que el Estado, como usted sabe, ha quitado la ayuda que daba a la entrada para comprar una vivienda protegida. Eso ha sido absolutamente eliminado. No le cuento nada si además las entidades financieras no dan un crédito a nadie para comprar hoy nada y mucho menos una vivienda. Con lo cual el Gobierno de Canarias lo que ha hecho es reorientar sus políticas, no hacia la compra de la vivienda sino hacia el alquiler, y hacia el alquiler social. Y por poner un ejemplo, que es muy cercano a usted y a mí, pues, precisamente en la isla de Lanzarote teníamos una promoción de viviendas, de 44 viviendas en venta, en promoción de venta protegida, y la hemos reconvertido en alquiler, en estos momentos en alquiler de 200 euros y de 240 euros si quieren también con opción de compra. Y comunicarle también que de las que teníamos disponibles -aquellas 500 de Visocan- en estos momentos, a casi un mes y pico, ya se han alquilado más de 250 a precios absolutamente sociales. Estamos hablando de una media de 200 euros por alquiler... El señor presidente: Muchísimas gracias, doña Inés Rojas, señora consejera.\\n<|im_end|>\\n<|im_start|>assistant\\n<think>\\n\\n</think>\\n\\nLa sesión del Parlamento de Canarias del 14 de mayo de 2013 se centró en la pregunta del diputado Fabián Atamán Martín Martín, del Grupo Parlamentario Mixto, sobre la evolución de los precios de las viviendas protegidas (VPO) en comparación con las viviendas libres. La pregunta fue dirigida a la consejera de Cultura, Deportes, Políticas Sociales y Vivienda, doña Inés Rojas de León.\\n\\nEl diputado Martín Martín inició su intervención señalando que, según datos del Ministerio de Fomento, en los últimos cinco años el precio de la VPO en Canarias había aumentado un 11%, mientras que el precio de la vivienda libre había caído un 24%. Esto había reducido la diferencia de precios entre ambos tipos de vivienda en más de un 73%, pasando de 757 euros por metro cuadrado a solo 200 euros en la actualidad. En la provincia de Las Palmas, la diferencia era aún menor, con un margen de solo 189 euros por metro cuadrado. El diputado cuestionó por qué el Gobierno de Canarias no había implementado medidas efectivas para reducir el precio de la VPO, especialmente en un contexto donde los jóvenes buscaban acceder a su primera vivienda. Además, mencionó la escasez de VPO en Lanzarote, donde, según la información oficial, no había viviendas disponibles, a diferencia de las 2.000 en Tenerife y 2.500 en Gran Canaria. También destacó que el precio de las viviendas en Lanzarote estaba en torno a 1.600 euros por metro cuadrado, lo que hacía inaccesible la compra para muchos jóvenes.\\n\\nLa consejera Rojas de León respondió a las inquietudes planteadas por el diputado. Comenzó aclarando que, aunque el precio de la VPO en Canarias era más bajo que el de la vivienda libre (1.197,7 euros por metro cuadrado frente a 1.428,5 euros), reconoció que la diferencia entre ambos precios se estaba reduciendo. La consejera mencionó que el Gobierno de Canarias había tomado medidas el año anterior para bajar el precio de la VPO y que se planeaba realizar otra reducción en el futuro. Sin embargo, también destacó que el mercado de la vivienda libre había experimentado una caída significativa en sus precios, con una disminución del 30% desde 2008.\\n\\nRojas de León abordó la cuestión de la disponibilidad de viviendas, señalando que la cifra de 2.000 viviendas en Tenerife no era precisa, ya que se refería al parque de viviendas públicas en general y no a la disponibilidad inmediata. La consejera explicó que el Gobierno había reorientado sus políticas hacia el alquiler social, en lugar de la compra de viviendas, debido a la falta de crédito disponible por parte de las entidades financieras y la eliminación de ayudas estatales para la entrada en la compra de VPO. Como ejemplo, mencionó una promoción de 44 viviendas en Lanzarote que se había reconvertido de venta a alquiler, con precios de 200 y 240 euros, y que más de 250 de las 500 viviendas disponibles a través de Visocan ya se habían alquilado a precios sociales.\\n\\nEl debate entre el diputado y la consejera reflejó las tensiones existentes en el sector de la vivienda en Canarias, especialmente en relación con la accesibilidad para los jóvenes y la efectividad de las políticas implementadas por el Gobierno regional. Martín Martín insistió en la necesidad de acciones más concretas para abordar la crisis de vivienda, mientras que Rojas de León defendió las medidas adoptadas y la necesidad de adaptarse a un contexto económico cambiante.\\n\\nEn resumen, la sesión del Parlamento abordó la problemática de los precios de las viviendas protegidas en Canarias, destacando la creciente preocupación por la accesibilidad de la vivienda para los jóvenes y la efectividad de las políticas del Gobierno en este ámbito. La discusión evidenció la complejidad del mercado de la vivienda y la necesidad de un enfoque más integral que contemple tanto la compra como el alquiler social, en un contexto donde las diferencias de precios entre viviendas protegidas y libres se están reduciendo, pero aún persisten desafíos significativos.<|im_end|>\\n'}\n"
     ]
    }
   ],
   "source": [
    "sample = dataset_train[0]\n",
    "print(\"Sample document:\", sample)\n",
    "excepted_summary = sample[\"expected_summary\"]"
   ]
  },
  {
   "cell_type": "code",
   "execution_count": 13,
   "id": "3c5472ed",
   "metadata": {},
   "outputs": [
    {
     "name": "stdout",
     "output_type": "stream",
     "text": [
      "<|im_start|>system\n",
      "Eres un modelo entrenado para generar resúmenes institucionales de actas parlamentarias. Los resúmenes deben estar redactados en lenguaje formal-administrativo, sin juicios de valor, y seguir una estructura clara.<|im_end|>\n",
      "<|im_start|>user\n",
      "Redacta un resumen institucional en español del siguiente documento. Mantén un lenguaje objetivo, enfocado en los hechos y acuerdos:\n",
      " ##Documento Esta sesión del parlamento se realizó el 14/05/2013. · 8L/PO/P-0916 Pregunta del señor diputado don Fabián Atamán Martín Martín, del Grupo Parlamentario Mixto, sobre los precios de las viviendas protegidas, dirigida a la señora consejera de Cultura, Deportes, Políticas Sociales y Vivienda. El señor presidente: Siguiente pregunta: del señor diputado don Fabián Atamán Martín, del Grupo Mixto, también dirigida a la señora consejera de Cultura, Deportes, Políticas Sociales y Vivienda. Don Fabián. El señor Martín Martín (Desde su escaño): Muchas gracias, señor presidente. Señora consejera, ¿qué valoración le merece que la evolución de los precios de las viviendas protegidas esté por encima de los de las viviendas libres? Muchas gracias. El señor presidente: Gracias, don Fabián. Señora consejera, doña Inés Rojas. La señora consejera de Cultura, Deportes, Políticas Sociales y Vivienda (Rojas de León) (Desde su escaño): Gracias, señor presidente. Señoría, decirle dos cosas probablemente. La vivienda protegida en Canarias todavía hoy es más barata que la vivienda libre. La vivienda protegida tiene un valor de 1.197,7 euros el metro cuadrado y la vivienda libre, 1.428,5 euros el metro cuadrado. Y también tengo que decirle que el Gobierno de Canarias redujo ya el año pasado precisamente, viendo que cada vez se diferenciaban menos los precios entre unas y otras, bajó el precio de la vivienda protegida precisamente para hacerlo más factible. Y sepa usted que además ahora, en la elaboración del Plan Canario de Vivienda, vamos a hacer posible otra bajada de precios de la vivienda protegida. Muchas gracias. El señor presidente: Muchas gracias, doña Inés Rojas, señora consejera. Don Fabián Atamán Martín. El señor Martín Martín (Desde su escaño): Muchas gracias, señor presidente. Señora consejera, según los datos facilitados por el Ministerio de Fomento, el precio de la VPO en los últimos cinco años creció en Canarias un 11%, mientras la vivienda libre desplomaba su precio un 24%. Esto significa que en los últimos cinco años la distancia que separaba la vivienda protegida y la vivienda libre se ha reducido en más de un 73%. Si hace un lustro la distancia entre una y otra era de 757 euros por metro cuadrado, en la actualidad dicha separación es de escasamente 200 euros. Pero si nos centramos en la evolución de los precios en la provincia de Las Palmas, la conclusión es aún más preocupante, y es que la distancia que separa los precios de las viviendas de protección oficial y la vivienda libre en esta provincia no llega a los 200, se centra exclusivamente en los 189 euros/m2. En el último debate sobre el estado de la nacionalidad el señor Rivero anunció múltiples medidas, algunas de ellas relacionadas con el sector de la vivienda, y, sin embargo, la pregunta que se suscita, consejera, es por qué el Gobierno de Canarias no ha procurado, entre las muchas medidas que dice haber tomado, reducir el precio de la VPO. ¿En qué ayuda el Gobierno regional entonces en la adquisición de una vivienda también a estos jóvenes, que están deseosos de hacerse con su primera vivienda? ¿Por qué el precio de la VPO en Canarias no ha descendido en el mismo sentido y proporción que la vivienda libre, como sí ha ocurrido en otras comunidades autónomas? Pero la pregunta se suscita porque hace poco se me preguntaba en la isla de Lanzarote si existía VPO disponible. Y, mire, con acercarnos a las páginas web del Gobierno de Canarias uno se dará cuenta pronto de que hay 2.000 viviendas en Tenerife disponibles, 2.500 en Gran Canaria, mientras que los jóvenes lanzaroteños, aparentemente y según información oficial del Gobierno de Canarias, cuentan con cero viviendas. Pero además, según Visocan, las viviendas disponibles para el alquiler y compra futura están sobre unos 1.600 euros/m2 en la isla de Lanzarote. Tal es así que para una vivienda de 42 m2 se están pidiendo 68.000 euros. ¿Dónde está la acción social, consejera del Gobierno de Canarias, en materia de vivienda en Lanzarote y en Canarias? ¿Seguimos siendo en este sentido, al igual que en otros, los habitantes de las islas...? El señor presidente: Muchas gracias, don Fabián Martín. Doña Inés Rojas, señora consejera. La señora consejera de Cultura, Deportes, Políticas Sociales y Vivienda (Rojas de León) (Desde su escaño): Gracias, señor presidente. Señoría, qué pena que en una pregunta apenas dé tiempo, porque acaba usted de decir que hay 2.000 viviendas disponibles en la isla de Tenerife y la gente puede creer que eso realmente es así. No hay 2.000 viviendas disponibles en la isla de Tenerife. Sí es verdad que el parque de viviendas público en la isla de Tenerife puede estar aproximadamente por ahí. Pero vamos a decir una cosa: es cierto que la diferencia entre la vivienda libre y la vivienda protegida es cada vez menor. Por eso el año pasado el Gobierno de Canarias bajó el precio de la vivienda protegida y por eso tenemos la intención de volverlo a bajar. En el mercado libre la gente en estos momentos no puede vender su vivienda y desde luego va bajando los precios de forma escalonada. Usted decía un 24; yo puedo decirle que del 2008 hasta ahora ha bajado un 30% la vivienda libre. Por lo tanto, hay que ajustar precisamente esa diferencia. Se suma a esto que el Estado, como usted sabe, ha quitado la ayuda que daba a la entrada para comprar una vivienda protegida. Eso ha sido absolutamente eliminado. No le cuento nada si además las entidades financieras no dan un crédito a nadie para comprar hoy nada y mucho menos una vivienda. Con lo cual el Gobierno de Canarias lo que ha hecho es reorientar sus políticas, no hacia la compra de la vivienda sino hacia el alquiler, y hacia el alquiler social. Y por poner un ejemplo, que es muy cercano a usted y a mí, pues, precisamente en la isla de Lanzarote teníamos una promoción de viviendas, de 44 viviendas en venta, en promoción de venta protegida, y la hemos reconvertido en alquiler, en estos momentos en alquiler de 200 euros y de 240 euros si quieren también con opción de compra. Y comunicarle también que de las que teníamos disponibles -aquellas 500 de Visocan- en estos momentos, a casi un mes y pico, ya se han alquilado más de 250 a precios absolutamente sociales. Estamos hablando de una media de 200 euros por alquiler... El señor presidente: Muchísimas gracias, doña Inés Rojas, señora consejera.\n",
      " ##Resumen:<|im_end|>\n",
      "<|im_start|>assistant\n"
     ]
    },
    {
     "name": "stdout",
     "output_type": "stream",
     "text": [
      "<think>\n",
      "Okay, I need to create an institutional summary of this parliamentary act. The user wants it in formal, objective language, focusing on facts and agreements. Let me start by reading through the document carefully.\n",
      "\n",
      "The session was on 14 May 2013, with two questions. First, the speaker from the Mixto group asked about the price of protected homes versus free homes. The Minister of Culture, Deportes, Social Policies, and Housing mentioned that the protected homes are now cheaper than free ones, and there's a reduction in prices. The government is planning to lower the price further, and there's a mention of a new price reduction target. The second question is from the same group, which is about the state's role in housing. The summary should include these points.\n",
      "\n",
      "I need to structure it clearly. Start with the date and session details. Then mention the two speakers and their questions. The summary should highlight the key points: the current price differences, the government's plans to reduce prices, and the role of social policies. Make sure to use formal language and avoid any subjective terms. Check for any specific numbers or figures mentioned, like 1.197.7 euros vs. 1.428.5, and the price reduction targets. Also, include the mention of the new price reduction target and the government's role in housing. Avoid any personal opinions or judgments. Keep it concise but comprehensive.\n",
      "</think>\n",
      "\n",
      "**Resumen institucional:**  \n",
      "La sesión del parlamento se realizó el 14 de mayo de 2013. Durante la sesión, se presentaron dos preguntas dirigidas a la señora consejera de Cultura, Deportes, Políticas Sociales y Vivienda:  \n",
      "\n",
      "1. **Pregunta del señor diputado don Fabián Atamán Martín (Grupo Parlamentario Mixto):**  \n",
      "   Señora consejera, señoría, se pregunta: ¿Qué valoración le merece que la evolución de los precios de las viviendas protegidas en Canarias esté por encima de los de las viviendas libres? Señora consejera, según los datos proporcionados por el Ministerio de Fomento, el precio de las viviendas protegidas en los últimos cinco años creció en Canarias un 11%, mientras la vivienda libre desplomaba su precio un 24%. Esto significa que la distancia que separaba las viviendas protegidas y las viviendas libres se ha reducido en más de un 73%. En la actualidad, la distancia entre las viviendas protegidas y libres en la provincia de Las Palmas no llega a los 200 euros/m². Sin embargo, se señala que, en el debate sobre el estado de la nacionalidad, se anunció una política de reducción del precio de la vivienda protegida. Además, el Gobierno de Canarias está planeando volver a bajar el precio de la vivienda protegida.  \n",
      "\n",
      "2. **Pregunta del señor diputado don Fabián Atamán Martín (Grupo Mixto):**  \n",
      "   Señora consejera, ¿por qué el Gobierno de Canarias no ha hecho lo mismo que el Gobierno de otros países, que la vivienda protegida se ha bajado en el mismo sentido y proporción que la vivienda libre, como sí ha ocurrido en otras comunidades autónomas? Señora consejera, señoría, se pregunta: ¿Por qué, en Canarias, no se ha ajustado la diferencia entre las viviendas protegidas y libres, y por qué no se ha reducido el precio de la vivienda protegida en la misma medida que la vivienda libre? Señora consejera, señora, se pregunta: ¿En qué ayuda el Gobierno regional para adquirir viviendas en Canarias, especialmente para los jóvenes, que están deseosos de hacerse con su primera vivienda? ¿Por qué no se ha reducido el precio de la vivienda protegida en el mismo sentido que la vivienda libre?  \n",
      "\n",
      "La sesión concluyó con una reunión del grupo parlamentario, destacando la importancia del decreto del Gobierno de Canarias para bajar el precio de la vivienda protegida y fortalecer su rol en la política de vivienda social.<|im_end|>\n",
      "tensor([151644,   8948,    198,  ...,   3590,     13, 151645], device='cuda:0')\n"
     ]
    }
   ],
   "source": [
    "text = generate_summary_streamer(model, tokenizer, sample, max_new_tokens=4080)"
   ]
  },
  {
   "cell_type": "code",
   "execution_count": 25,
   "id": "b4ea641a",
   "metadata": {},
   "outputs": [
    {
     "name": "stdout",
     "output_type": "stream",
     "text": [
      "Generated summary: **Resumen institucional**  \n",
      "\n",
      "La sesión del parlamento se realizó el 14/05/2013, con la presencia de la señora consejera de Cultura, Deportes, Políticas Sociales y Vivienda, y del señor diputado don Fabián Atamán Martín (Grupo Parlamentario Mixto). El documento resume las opiniones y acuerdos sobre los precios de las viviendas protegidas en Canarias, comparados con las viviendas libres, y la respuesta del Gobierno regional.  \n",
      "\n",
      "El precio de las viviendas protegidas (VPO) en Canarias ha bajado significativamente en comparación con las viviendas libres, lo cual se debe a la evolución del mercado. Según los datos del Ministerio de Fomento, en los últimos cinco años, la evolución de los precios de las viviendas protegidas en Canarias fue un 11%, mientras que la vivienda libre se desplomaba un 24%. Esta diferencia ha reducido drásticamente la distancia entre las viviendas protegidas y las viviendas libres, con el precio de la VPO actualmente siendo escasamente 200 euros por metro cuadrado.  \n",
      "\n",
      "El Gobierno de Canarias ha anunciado una iniciativa para reducir aún más el precio de la VPO, ya que se espera que en el futuro se reduzcan aún más las diferencias entre las viviendas protegidas y las viviendas libres. Además, se menciona que la política regional está orientada hacia la adquisición de viviendas, y que la diferencia entre las viviendas protegidas y las viviendas libres está siendo reducida gradualmente.  \n",
      "\n",
      "En el ámbito de Lanzarote, el Gobierno de Canarias ha reducido el precio de las viviendas en venta, con promociones de 44 viviendas en venta protegidas, que han sido convertidas en alquiler a precios sociales. A pesar de esto, el alquiler en la isla de Lanzarote sigue siendo un coste elevado, con precios de 200-240 euros por metro cuadrado.  \n",
      "\n",
      "El resumen concluye que el Gobierno de Canarias busca reducir aún más el precio de la VPO, y que la diferencia entre las viviendas protegidas y las viviendas libres está siendo mitigada, aunque aún no está completamente eliminada.\n"
     ]
    }
   ],
   "source": [
    "text = generate_summary(model, tokenizer, sample, max_new_tokens=4080)\n",
    "print(\"Generated summary:\", text)"
   ]
  },
  {
   "cell_type": "code",
   "execution_count": null,
   "id": "04ad7c17",
   "metadata": {},
   "outputs": [
    {
     "data": {
      "text/plain": [
       "('models/modelo_final_vllm/tokenizer_config.json',\n",
       " 'models/modelo_final_vllm/special_tokens_map.json',\n",
       " 'models/modelo_final_vllm/vocab.json',\n",
       " 'models/modelo_final_vllm/merges.txt',\n",
       " 'models/modelo_final_vllm/added_tokens.json',\n",
       " 'models/modelo_final_vllm/tokenizer.json')"
      ]
     },
     "execution_count": 16,
     "metadata": {},
     "output_type": "execute_result"
    }
   ],
   "source": [
    "tokenizer.save_pretrained(\"models/modelo_final_vllm\")\n",
    "model.save_pretrained(\"models/modelo_final_vllm\")"
   ]
  }
 ],
 "metadata": {
  "kernelspec": {
   "display_name": "vqa_mmllm",
   "language": "python",
   "name": "python3"
  },
  "language_info": {
   "codemirror_mode": {
    "name": "ipython",
    "version": 3
   },
   "file_extension": ".py",
   "mimetype": "text/x-python",
   "name": "python",
   "nbconvert_exporter": "python",
   "pygments_lexer": "ipython3",
   "version": "3.10.16"
  }
 },
 "nbformat": 4,
 "nbformat_minor": 5
}
